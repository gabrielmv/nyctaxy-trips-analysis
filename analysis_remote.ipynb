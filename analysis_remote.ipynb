{
 "cells": [
  {
   "cell_type": "code",
   "execution_count": 1,
   "metadata": {},
   "outputs": [],
   "source": [
    "from pyspark.sql import SparkSession\n",
    "from pyspark.sql.types import *\n",
    "import plotly.graph_objects as go\n",
    "from pyspark.sql.functions import count, col,  mean as _mean, desc, date_trunc\n",
    "\n",
    "spark = SparkSession.builder.appName(\"Data Sprints Technical Test\").getOrCreate()"
   ]
  },
  {
   "cell_type": "code",
   "execution_count": 2,
   "metadata": {},
   "outputs": [],
   "source": [
    "trips_path = [\"data/data-sample_data-nyctaxi-trips-2009-json_corrigido.json\",\n",
    "              \"data/data-sample_data-nyctaxi-trips-2010-json_corrigido.json\",\n",
    "              \"data/data-sample_data-nyctaxi-trips-2011-json_corrigido.json\",\n",
    "              \"data/data-sample_data-nyctaxi-trips-2012-json_corrigido.json\"]\n",
    "vendor_path = \"data/data-vendor_lookup-csv.csv\"\n",
    "payments_path = \"data/data-payment_lookup-csv.csv\""
   ]
  },
  {
   "cell_type": "code",
   "execution_count": 3,
   "metadata": {},
   "outputs": [
    {
     "name": "stdout",
     "output_type": "stream",
     "text": [
      "root\n",
      " |-- dropoff_datetime: string (nullable = true)\n",
      " |-- dropoff_latitude: double (nullable = true)\n",
      " |-- dropoff_longitude: double (nullable = true)\n",
      " |-- fare_amount: double (nullable = true)\n",
      " |-- passenger_count: long (nullable = true)\n",
      " |-- payment_type: string (nullable = true)\n",
      " |-- pickup_datetime: string (nullable = true)\n",
      " |-- pickup_latitude: double (nullable = true)\n",
      " |-- pickup_longitude: double (nullable = true)\n",
      " |-- rate_code: string (nullable = true)\n",
      " |-- store_and_fwd_flag: long (nullable = true)\n",
      " |-- surcharge: double (nullable = true)\n",
      " |-- tip_amount: double (nullable = true)\n",
      " |-- tolls_amount: double (nullable = true)\n",
      " |-- total_amount: double (nullable = true)\n",
      " |-- trip_distance: double (nullable = true)\n",
      " |-- vendor_id: string (nullable = true)\n",
      "\n"
     ]
    }
   ],
   "source": [
    "trips_data = spark.read.json(trips_path)\n",
    "trips_data.printSchema()"
   ]
  },
  {
   "cell_type": "code",
   "execution_count": 4,
   "metadata": {},
   "outputs": [
    {
     "name": "stdout",
     "output_type": "stream",
     "text": [
      "root\n",
      " |-- payment_type: string (nullable = true)\n",
      " |-- payment_lookup: string (nullable = true)\n",
      "\n"
     ]
    }
   ],
   "source": [
    "payments_data = spark.read.csv(payments_path).rdd.zipWithIndex()\n",
    "payments_data = payments_data.filter(lambda x: x[1] > 1).map(lambda x: x[0]).toDF(['payment_type', 'payment_lookup'])\n",
    "payments_data.printSchema()\n"
   ]
  },
  {
   "cell_type": "code",
   "execution_count": 35,
   "metadata": {},
   "outputs": [
    {
     "name": "stdout",
     "output_type": "stream",
     "text": [
      "root\n",
      " |-- vendor_id: string (nullable = true)\n",
      " |-- name: string (nullable = true)\n",
      " |-- address: string (nullable = true)\n",
      " |-- city: string (nullable = true)\n",
      " |-- state: string (nullable = true)\n",
      " |-- zip: integer (nullable = true)\n",
      " |-- country: string (nullable = true)\n",
      " |-- contact: string (nullable = true)\n",
      " |-- current: string (nullable = true)\n",
      "\n"
     ]
    }
   ],
   "source": [
    "vendors_data = spark.read.csv(vendor_path, header=True, inferSchema=True)\n",
    "vendors_data.printSchema()\n",
    "vendors_data_pd = vendors_data.toPandas()"
   ]
  },
  {
   "cell_type": "markdown",
   "metadata": {},
   "source": [
    "## Quesitos Mínimos"
   ]
  },
  {
   "cell_type": "markdown",
   "metadata": {},
   "source": [
    "### 1. Qual a distância média percorrida por viagens com no máximo 2 passageiros?"
   ]
  },
  {
   "cell_type": "code",
   "execution_count": 17,
   "metadata": {},
   "outputs": [
    {
     "data": {
      "application/vnd.plotly.v1+json": {
       "config": {
        "plotlyServerURL": "https://plot.ly"
       },
       "data": [
        {
         "domain": {
          "x": [
           0,
           1
          ],
          "y": [
           0,
           1
          ]
         },
         "mode": "number",
         "number": {
          "suffix": " miles"
         },
         "title": {
          "text": "Average distance for trips with maximum of 2 passengers"
         },
         "type": "indicator",
         "value": 2.662526996203227
        }
       ],
       "layout": {
        "template": {
         "data": {
          "bar": [
           {
            "error_x": {
             "color": "#2a3f5f"
            },
            "error_y": {
             "color": "#2a3f5f"
            },
            "marker": {
             "line": {
              "color": "#E5ECF6",
              "width": 0.5
             }
            },
            "type": "bar"
           }
          ],
          "barpolar": [
           {
            "marker": {
             "line": {
              "color": "#E5ECF6",
              "width": 0.5
             }
            },
            "type": "barpolar"
           }
          ],
          "carpet": [
           {
            "aaxis": {
             "endlinecolor": "#2a3f5f",
             "gridcolor": "white",
             "linecolor": "white",
             "minorgridcolor": "white",
             "startlinecolor": "#2a3f5f"
            },
            "baxis": {
             "endlinecolor": "#2a3f5f",
             "gridcolor": "white",
             "linecolor": "white",
             "minorgridcolor": "white",
             "startlinecolor": "#2a3f5f"
            },
            "type": "carpet"
           }
          ],
          "choropleth": [
           {
            "colorbar": {
             "outlinewidth": 0,
             "ticks": ""
            },
            "type": "choropleth"
           }
          ],
          "contour": [
           {
            "colorbar": {
             "outlinewidth": 0,
             "ticks": ""
            },
            "colorscale": [
             [
              0,
              "#0d0887"
             ],
             [
              0.1111111111111111,
              "#46039f"
             ],
             [
              0.2222222222222222,
              "#7201a8"
             ],
             [
              0.3333333333333333,
              "#9c179e"
             ],
             [
              0.4444444444444444,
              "#bd3786"
             ],
             [
              0.5555555555555556,
              "#d8576b"
             ],
             [
              0.6666666666666666,
              "#ed7953"
             ],
             [
              0.7777777777777778,
              "#fb9f3a"
             ],
             [
              0.8888888888888888,
              "#fdca26"
             ],
             [
              1,
              "#f0f921"
             ]
            ],
            "type": "contour"
           }
          ],
          "contourcarpet": [
           {
            "colorbar": {
             "outlinewidth": 0,
             "ticks": ""
            },
            "type": "contourcarpet"
           }
          ],
          "heatmap": [
           {
            "colorbar": {
             "outlinewidth": 0,
             "ticks": ""
            },
            "colorscale": [
             [
              0,
              "#0d0887"
             ],
             [
              0.1111111111111111,
              "#46039f"
             ],
             [
              0.2222222222222222,
              "#7201a8"
             ],
             [
              0.3333333333333333,
              "#9c179e"
             ],
             [
              0.4444444444444444,
              "#bd3786"
             ],
             [
              0.5555555555555556,
              "#d8576b"
             ],
             [
              0.6666666666666666,
              "#ed7953"
             ],
             [
              0.7777777777777778,
              "#fb9f3a"
             ],
             [
              0.8888888888888888,
              "#fdca26"
             ],
             [
              1,
              "#f0f921"
             ]
            ],
            "type": "heatmap"
           }
          ],
          "heatmapgl": [
           {
            "colorbar": {
             "outlinewidth": 0,
             "ticks": ""
            },
            "colorscale": [
             [
              0,
              "#0d0887"
             ],
             [
              0.1111111111111111,
              "#46039f"
             ],
             [
              0.2222222222222222,
              "#7201a8"
             ],
             [
              0.3333333333333333,
              "#9c179e"
             ],
             [
              0.4444444444444444,
              "#bd3786"
             ],
             [
              0.5555555555555556,
              "#d8576b"
             ],
             [
              0.6666666666666666,
              "#ed7953"
             ],
             [
              0.7777777777777778,
              "#fb9f3a"
             ],
             [
              0.8888888888888888,
              "#fdca26"
             ],
             [
              1,
              "#f0f921"
             ]
            ],
            "type": "heatmapgl"
           }
          ],
          "histogram": [
           {
            "marker": {
             "colorbar": {
              "outlinewidth": 0,
              "ticks": ""
             }
            },
            "type": "histogram"
           }
          ],
          "histogram2d": [
           {
            "colorbar": {
             "outlinewidth": 0,
             "ticks": ""
            },
            "colorscale": [
             [
              0,
              "#0d0887"
             ],
             [
              0.1111111111111111,
              "#46039f"
             ],
             [
              0.2222222222222222,
              "#7201a8"
             ],
             [
              0.3333333333333333,
              "#9c179e"
             ],
             [
              0.4444444444444444,
              "#bd3786"
             ],
             [
              0.5555555555555556,
              "#d8576b"
             ],
             [
              0.6666666666666666,
              "#ed7953"
             ],
             [
              0.7777777777777778,
              "#fb9f3a"
             ],
             [
              0.8888888888888888,
              "#fdca26"
             ],
             [
              1,
              "#f0f921"
             ]
            ],
            "type": "histogram2d"
           }
          ],
          "histogram2dcontour": [
           {
            "colorbar": {
             "outlinewidth": 0,
             "ticks": ""
            },
            "colorscale": [
             [
              0,
              "#0d0887"
             ],
             [
              0.1111111111111111,
              "#46039f"
             ],
             [
              0.2222222222222222,
              "#7201a8"
             ],
             [
              0.3333333333333333,
              "#9c179e"
             ],
             [
              0.4444444444444444,
              "#bd3786"
             ],
             [
              0.5555555555555556,
              "#d8576b"
             ],
             [
              0.6666666666666666,
              "#ed7953"
             ],
             [
              0.7777777777777778,
              "#fb9f3a"
             ],
             [
              0.8888888888888888,
              "#fdca26"
             ],
             [
              1,
              "#f0f921"
             ]
            ],
            "type": "histogram2dcontour"
           }
          ],
          "mesh3d": [
           {
            "colorbar": {
             "outlinewidth": 0,
             "ticks": ""
            },
            "type": "mesh3d"
           }
          ],
          "parcoords": [
           {
            "line": {
             "colorbar": {
              "outlinewidth": 0,
              "ticks": ""
             }
            },
            "type": "parcoords"
           }
          ],
          "pie": [
           {
            "automargin": true,
            "type": "pie"
           }
          ],
          "scatter": [
           {
            "marker": {
             "colorbar": {
              "outlinewidth": 0,
              "ticks": ""
             }
            },
            "type": "scatter"
           }
          ],
          "scatter3d": [
           {
            "line": {
             "colorbar": {
              "outlinewidth": 0,
              "ticks": ""
             }
            },
            "marker": {
             "colorbar": {
              "outlinewidth": 0,
              "ticks": ""
             }
            },
            "type": "scatter3d"
           }
          ],
          "scattercarpet": [
           {
            "marker": {
             "colorbar": {
              "outlinewidth": 0,
              "ticks": ""
             }
            },
            "type": "scattercarpet"
           }
          ],
          "scattergeo": [
           {
            "marker": {
             "colorbar": {
              "outlinewidth": 0,
              "ticks": ""
             }
            },
            "type": "scattergeo"
           }
          ],
          "scattergl": [
           {
            "marker": {
             "colorbar": {
              "outlinewidth": 0,
              "ticks": ""
             }
            },
            "type": "scattergl"
           }
          ],
          "scattermapbox": [
           {
            "marker": {
             "colorbar": {
              "outlinewidth": 0,
              "ticks": ""
             }
            },
            "type": "scattermapbox"
           }
          ],
          "scatterpolar": [
           {
            "marker": {
             "colorbar": {
              "outlinewidth": 0,
              "ticks": ""
             }
            },
            "type": "scatterpolar"
           }
          ],
          "scatterpolargl": [
           {
            "marker": {
             "colorbar": {
              "outlinewidth": 0,
              "ticks": ""
             }
            },
            "type": "scatterpolargl"
           }
          ],
          "scatterternary": [
           {
            "marker": {
             "colorbar": {
              "outlinewidth": 0,
              "ticks": ""
             }
            },
            "type": "scatterternary"
           }
          ],
          "surface": [
           {
            "colorbar": {
             "outlinewidth": 0,
             "ticks": ""
            },
            "colorscale": [
             [
              0,
              "#0d0887"
             ],
             [
              0.1111111111111111,
              "#46039f"
             ],
             [
              0.2222222222222222,
              "#7201a8"
             ],
             [
              0.3333333333333333,
              "#9c179e"
             ],
             [
              0.4444444444444444,
              "#bd3786"
             ],
             [
              0.5555555555555556,
              "#d8576b"
             ],
             [
              0.6666666666666666,
              "#ed7953"
             ],
             [
              0.7777777777777778,
              "#fb9f3a"
             ],
             [
              0.8888888888888888,
              "#fdca26"
             ],
             [
              1,
              "#f0f921"
             ]
            ],
            "type": "surface"
           }
          ],
          "table": [
           {
            "cells": {
             "fill": {
              "color": "#EBF0F8"
             },
             "line": {
              "color": "white"
             }
            },
            "header": {
             "fill": {
              "color": "#C8D4E3"
             },
             "line": {
              "color": "white"
             }
            },
            "type": "table"
           }
          ]
         },
         "layout": {
          "annotationdefaults": {
           "arrowcolor": "#2a3f5f",
           "arrowhead": 0,
           "arrowwidth": 1
          },
          "coloraxis": {
           "colorbar": {
            "outlinewidth": 0,
            "ticks": ""
           }
          },
          "colorscale": {
           "diverging": [
            [
             0,
             "#8e0152"
            ],
            [
             0.1,
             "#c51b7d"
            ],
            [
             0.2,
             "#de77ae"
            ],
            [
             0.3,
             "#f1b6da"
            ],
            [
             0.4,
             "#fde0ef"
            ],
            [
             0.5,
             "#f7f7f7"
            ],
            [
             0.6,
             "#e6f5d0"
            ],
            [
             0.7,
             "#b8e186"
            ],
            [
             0.8,
             "#7fbc41"
            ],
            [
             0.9,
             "#4d9221"
            ],
            [
             1,
             "#276419"
            ]
           ],
           "sequential": [
            [
             0,
             "#0d0887"
            ],
            [
             0.1111111111111111,
             "#46039f"
            ],
            [
             0.2222222222222222,
             "#7201a8"
            ],
            [
             0.3333333333333333,
             "#9c179e"
            ],
            [
             0.4444444444444444,
             "#bd3786"
            ],
            [
             0.5555555555555556,
             "#d8576b"
            ],
            [
             0.6666666666666666,
             "#ed7953"
            ],
            [
             0.7777777777777778,
             "#fb9f3a"
            ],
            [
             0.8888888888888888,
             "#fdca26"
            ],
            [
             1,
             "#f0f921"
            ]
           ],
           "sequentialminus": [
            [
             0,
             "#0d0887"
            ],
            [
             0.1111111111111111,
             "#46039f"
            ],
            [
             0.2222222222222222,
             "#7201a8"
            ],
            [
             0.3333333333333333,
             "#9c179e"
            ],
            [
             0.4444444444444444,
             "#bd3786"
            ],
            [
             0.5555555555555556,
             "#d8576b"
            ],
            [
             0.6666666666666666,
             "#ed7953"
            ],
            [
             0.7777777777777778,
             "#fb9f3a"
            ],
            [
             0.8888888888888888,
             "#fdca26"
            ],
            [
             1,
             "#f0f921"
            ]
           ]
          },
          "colorway": [
           "#636efa",
           "#EF553B",
           "#00cc96",
           "#ab63fa",
           "#FFA15A",
           "#19d3f3",
           "#FF6692",
           "#B6E880",
           "#FF97FF",
           "#FECB52"
          ],
          "font": {
           "color": "#2a3f5f"
          },
          "geo": {
           "bgcolor": "white",
           "lakecolor": "white",
           "landcolor": "#E5ECF6",
           "showlakes": true,
           "showland": true,
           "subunitcolor": "white"
          },
          "hoverlabel": {
           "align": "left"
          },
          "hovermode": "closest",
          "mapbox": {
           "style": "light"
          },
          "paper_bgcolor": "white",
          "plot_bgcolor": "#E5ECF6",
          "polar": {
           "angularaxis": {
            "gridcolor": "white",
            "linecolor": "white",
            "ticks": ""
           },
           "bgcolor": "#E5ECF6",
           "radialaxis": {
            "gridcolor": "white",
            "linecolor": "white",
            "ticks": ""
           }
          },
          "scene": {
           "xaxis": {
            "backgroundcolor": "#E5ECF6",
            "gridcolor": "white",
            "gridwidth": 2,
            "linecolor": "white",
            "showbackground": true,
            "ticks": "",
            "zerolinecolor": "white"
           },
           "yaxis": {
            "backgroundcolor": "#E5ECF6",
            "gridcolor": "white",
            "gridwidth": 2,
            "linecolor": "white",
            "showbackground": true,
            "ticks": "",
            "zerolinecolor": "white"
           },
           "zaxis": {
            "backgroundcolor": "#E5ECF6",
            "gridcolor": "white",
            "gridwidth": 2,
            "linecolor": "white",
            "showbackground": true,
            "ticks": "",
            "zerolinecolor": "white"
           }
          },
          "shapedefaults": {
           "line": {
            "color": "#2a3f5f"
           }
          },
          "ternary": {
           "aaxis": {
            "gridcolor": "white",
            "linecolor": "white",
            "ticks": ""
           },
           "baxis": {
            "gridcolor": "white",
            "linecolor": "white",
            "ticks": ""
           },
           "bgcolor": "#E5ECF6",
           "caxis": {
            "gridcolor": "white",
            "linecolor": "white",
            "ticks": ""
           }
          },
          "title": {
           "x": 0.05
          },
          "xaxis": {
           "automargin": true,
           "gridcolor": "white",
           "linecolor": "white",
           "ticks": "",
           "title": {
            "standoff": 15
           },
           "zerolinecolor": "white",
           "zerolinewidth": 2
          },
          "yaxis": {
           "automargin": true,
           "gridcolor": "white",
           "linecolor": "white",
           "ticks": "",
           "title": {
            "standoff": 15
           },
           "zerolinecolor": "white",
           "zerolinewidth": 2
          }
         }
        }
       }
      },
      "text/html": [
       "<div>\n",
       "        \n",
       "        \n",
       "            <div id=\"51ed58dc-667f-4d7b-a99f-809e6d942860\" class=\"plotly-graph-div\" style=\"height:525px; width:100%;\"></div>\n",
       "            <script type=\"text/javascript\">\n",
       "                require([\"plotly\"], function(Plotly) {\n",
       "                    window.PLOTLYENV=window.PLOTLYENV || {};\n",
       "                    \n",
       "                if (document.getElementById(\"51ed58dc-667f-4d7b-a99f-809e6d942860\")) {\n",
       "                    Plotly.newPlot(\n",
       "                        '51ed58dc-667f-4d7b-a99f-809e6d942860',\n",
       "                        [{\"domain\": {\"x\": [0, 1], \"y\": [0, 1]}, \"mode\": \"number\", \"number\": {\"suffix\": \" miles\"}, \"title\": {\"text\": \"Average distance for trips with maximum of 2 passengers\"}, \"type\": \"indicator\", \"value\": 2.662526996203227}],\n",
       "                        {\"template\": {\"data\": {\"bar\": [{\"error_x\": {\"color\": \"#2a3f5f\"}, \"error_y\": {\"color\": \"#2a3f5f\"}, \"marker\": {\"line\": {\"color\": \"#E5ECF6\", \"width\": 0.5}}, \"type\": \"bar\"}], \"barpolar\": [{\"marker\": {\"line\": {\"color\": \"#E5ECF6\", \"width\": 0.5}}, \"type\": \"barpolar\"}], \"carpet\": [{\"aaxis\": {\"endlinecolor\": \"#2a3f5f\", \"gridcolor\": \"white\", \"linecolor\": \"white\", \"minorgridcolor\": \"white\", \"startlinecolor\": \"#2a3f5f\"}, \"baxis\": {\"endlinecolor\": \"#2a3f5f\", \"gridcolor\": \"white\", \"linecolor\": \"white\", \"minorgridcolor\": \"white\", \"startlinecolor\": \"#2a3f5f\"}, \"type\": \"carpet\"}], \"choropleth\": [{\"colorbar\": {\"outlinewidth\": 0, \"ticks\": \"\"}, \"type\": \"choropleth\"}], \"contour\": [{\"colorbar\": {\"outlinewidth\": 0, \"ticks\": \"\"}, \"colorscale\": [[0.0, \"#0d0887\"], [0.1111111111111111, \"#46039f\"], [0.2222222222222222, \"#7201a8\"], [0.3333333333333333, \"#9c179e\"], [0.4444444444444444, \"#bd3786\"], [0.5555555555555556, \"#d8576b\"], [0.6666666666666666, \"#ed7953\"], [0.7777777777777778, \"#fb9f3a\"], [0.8888888888888888, \"#fdca26\"], [1.0, \"#f0f921\"]], \"type\": \"contour\"}], \"contourcarpet\": [{\"colorbar\": {\"outlinewidth\": 0, \"ticks\": \"\"}, \"type\": \"contourcarpet\"}], \"heatmap\": [{\"colorbar\": {\"outlinewidth\": 0, \"ticks\": \"\"}, \"colorscale\": [[0.0, \"#0d0887\"], [0.1111111111111111, \"#46039f\"], [0.2222222222222222, \"#7201a8\"], [0.3333333333333333, \"#9c179e\"], [0.4444444444444444, \"#bd3786\"], [0.5555555555555556, \"#d8576b\"], [0.6666666666666666, \"#ed7953\"], [0.7777777777777778, \"#fb9f3a\"], [0.8888888888888888, \"#fdca26\"], [1.0, \"#f0f921\"]], \"type\": \"heatmap\"}], \"heatmapgl\": [{\"colorbar\": {\"outlinewidth\": 0, \"ticks\": \"\"}, \"colorscale\": [[0.0, \"#0d0887\"], [0.1111111111111111, \"#46039f\"], [0.2222222222222222, \"#7201a8\"], [0.3333333333333333, \"#9c179e\"], [0.4444444444444444, \"#bd3786\"], [0.5555555555555556, \"#d8576b\"], [0.6666666666666666, \"#ed7953\"], [0.7777777777777778, \"#fb9f3a\"], [0.8888888888888888, \"#fdca26\"], [1.0, \"#f0f921\"]], \"type\": \"heatmapgl\"}], \"histogram\": [{\"marker\": {\"colorbar\": {\"outlinewidth\": 0, \"ticks\": \"\"}}, \"type\": \"histogram\"}], \"histogram2d\": [{\"colorbar\": {\"outlinewidth\": 0, \"ticks\": \"\"}, \"colorscale\": [[0.0, \"#0d0887\"], [0.1111111111111111, \"#46039f\"], [0.2222222222222222, \"#7201a8\"], [0.3333333333333333, \"#9c179e\"], [0.4444444444444444, \"#bd3786\"], [0.5555555555555556, \"#d8576b\"], [0.6666666666666666, \"#ed7953\"], [0.7777777777777778, \"#fb9f3a\"], [0.8888888888888888, \"#fdca26\"], [1.0, \"#f0f921\"]], \"type\": \"histogram2d\"}], \"histogram2dcontour\": [{\"colorbar\": {\"outlinewidth\": 0, \"ticks\": \"\"}, \"colorscale\": [[0.0, \"#0d0887\"], [0.1111111111111111, \"#46039f\"], [0.2222222222222222, \"#7201a8\"], [0.3333333333333333, \"#9c179e\"], [0.4444444444444444, \"#bd3786\"], [0.5555555555555556, \"#d8576b\"], [0.6666666666666666, \"#ed7953\"], [0.7777777777777778, \"#fb9f3a\"], [0.8888888888888888, \"#fdca26\"], [1.0, \"#f0f921\"]], \"type\": \"histogram2dcontour\"}], \"mesh3d\": [{\"colorbar\": {\"outlinewidth\": 0, \"ticks\": \"\"}, \"type\": \"mesh3d\"}], \"parcoords\": [{\"line\": {\"colorbar\": {\"outlinewidth\": 0, \"ticks\": \"\"}}, \"type\": \"parcoords\"}], \"pie\": [{\"automargin\": true, \"type\": \"pie\"}], \"scatter\": [{\"marker\": {\"colorbar\": {\"outlinewidth\": 0, \"ticks\": \"\"}}, \"type\": \"scatter\"}], \"scatter3d\": [{\"line\": {\"colorbar\": {\"outlinewidth\": 0, \"ticks\": \"\"}}, \"marker\": {\"colorbar\": {\"outlinewidth\": 0, \"ticks\": \"\"}}, \"type\": \"scatter3d\"}], \"scattercarpet\": [{\"marker\": {\"colorbar\": {\"outlinewidth\": 0, \"ticks\": \"\"}}, \"type\": \"scattercarpet\"}], \"scattergeo\": [{\"marker\": {\"colorbar\": {\"outlinewidth\": 0, \"ticks\": \"\"}}, \"type\": \"scattergeo\"}], \"scattergl\": [{\"marker\": {\"colorbar\": {\"outlinewidth\": 0, \"ticks\": \"\"}}, \"type\": \"scattergl\"}], \"scattermapbox\": [{\"marker\": {\"colorbar\": {\"outlinewidth\": 0, \"ticks\": \"\"}}, \"type\": \"scattermapbox\"}], \"scatterpolar\": [{\"marker\": {\"colorbar\": {\"outlinewidth\": 0, \"ticks\": \"\"}}, \"type\": \"scatterpolar\"}], \"scatterpolargl\": [{\"marker\": {\"colorbar\": {\"outlinewidth\": 0, \"ticks\": \"\"}}, \"type\": \"scatterpolargl\"}], \"scatterternary\": [{\"marker\": {\"colorbar\": {\"outlinewidth\": 0, \"ticks\": \"\"}}, \"type\": \"scatterternary\"}], \"surface\": [{\"colorbar\": {\"outlinewidth\": 0, \"ticks\": \"\"}, \"colorscale\": [[0.0, \"#0d0887\"], [0.1111111111111111, \"#46039f\"], [0.2222222222222222, \"#7201a8\"], [0.3333333333333333, \"#9c179e\"], [0.4444444444444444, \"#bd3786\"], [0.5555555555555556, \"#d8576b\"], [0.6666666666666666, \"#ed7953\"], [0.7777777777777778, \"#fb9f3a\"], [0.8888888888888888, \"#fdca26\"], [1.0, \"#f0f921\"]], \"type\": \"surface\"}], \"table\": [{\"cells\": {\"fill\": {\"color\": \"#EBF0F8\"}, \"line\": {\"color\": \"white\"}}, \"header\": {\"fill\": {\"color\": \"#C8D4E3\"}, \"line\": {\"color\": \"white\"}}, \"type\": \"table\"}]}, \"layout\": {\"annotationdefaults\": {\"arrowcolor\": \"#2a3f5f\", \"arrowhead\": 0, \"arrowwidth\": 1}, \"coloraxis\": {\"colorbar\": {\"outlinewidth\": 0, \"ticks\": \"\"}}, \"colorscale\": {\"diverging\": [[0, \"#8e0152\"], [0.1, \"#c51b7d\"], [0.2, \"#de77ae\"], [0.3, \"#f1b6da\"], [0.4, \"#fde0ef\"], [0.5, \"#f7f7f7\"], [0.6, \"#e6f5d0\"], [0.7, \"#b8e186\"], [0.8, \"#7fbc41\"], [0.9, \"#4d9221\"], [1, \"#276419\"]], \"sequential\": [[0.0, \"#0d0887\"], [0.1111111111111111, \"#46039f\"], [0.2222222222222222, \"#7201a8\"], [0.3333333333333333, \"#9c179e\"], [0.4444444444444444, \"#bd3786\"], [0.5555555555555556, \"#d8576b\"], [0.6666666666666666, \"#ed7953\"], [0.7777777777777778, \"#fb9f3a\"], [0.8888888888888888, \"#fdca26\"], [1.0, \"#f0f921\"]], \"sequentialminus\": [[0.0, \"#0d0887\"], [0.1111111111111111, \"#46039f\"], [0.2222222222222222, \"#7201a8\"], [0.3333333333333333, \"#9c179e\"], [0.4444444444444444, \"#bd3786\"], [0.5555555555555556, \"#d8576b\"], [0.6666666666666666, \"#ed7953\"], [0.7777777777777778, \"#fb9f3a\"], [0.8888888888888888, \"#fdca26\"], [1.0, \"#f0f921\"]]}, \"colorway\": [\"#636efa\", \"#EF553B\", \"#00cc96\", \"#ab63fa\", \"#FFA15A\", \"#19d3f3\", \"#FF6692\", \"#B6E880\", \"#FF97FF\", \"#FECB52\"], \"font\": {\"color\": \"#2a3f5f\"}, \"geo\": {\"bgcolor\": \"white\", \"lakecolor\": \"white\", \"landcolor\": \"#E5ECF6\", \"showlakes\": true, \"showland\": true, \"subunitcolor\": \"white\"}, \"hoverlabel\": {\"align\": \"left\"}, \"hovermode\": \"closest\", \"mapbox\": {\"style\": \"light\"}, \"paper_bgcolor\": \"white\", \"plot_bgcolor\": \"#E5ECF6\", \"polar\": {\"angularaxis\": {\"gridcolor\": \"white\", \"linecolor\": \"white\", \"ticks\": \"\"}, \"bgcolor\": \"#E5ECF6\", \"radialaxis\": {\"gridcolor\": \"white\", \"linecolor\": \"white\", \"ticks\": \"\"}}, \"scene\": {\"xaxis\": {\"backgroundcolor\": \"#E5ECF6\", \"gridcolor\": \"white\", \"gridwidth\": 2, \"linecolor\": \"white\", \"showbackground\": true, \"ticks\": \"\", \"zerolinecolor\": \"white\"}, \"yaxis\": {\"backgroundcolor\": \"#E5ECF6\", \"gridcolor\": \"white\", \"gridwidth\": 2, \"linecolor\": \"white\", \"showbackground\": true, \"ticks\": \"\", \"zerolinecolor\": \"white\"}, \"zaxis\": {\"backgroundcolor\": \"#E5ECF6\", \"gridcolor\": \"white\", \"gridwidth\": 2, \"linecolor\": \"white\", \"showbackground\": true, \"ticks\": \"\", \"zerolinecolor\": \"white\"}}, \"shapedefaults\": {\"line\": {\"color\": \"#2a3f5f\"}}, \"ternary\": {\"aaxis\": {\"gridcolor\": \"white\", \"linecolor\": \"white\", \"ticks\": \"\"}, \"baxis\": {\"gridcolor\": \"white\", \"linecolor\": \"white\", \"ticks\": \"\"}, \"bgcolor\": \"#E5ECF6\", \"caxis\": {\"gridcolor\": \"white\", \"linecolor\": \"white\", \"ticks\": \"\"}}, \"title\": {\"x\": 0.05}, \"xaxis\": {\"automargin\": true, \"gridcolor\": \"white\", \"linecolor\": \"white\", \"ticks\": \"\", \"title\": {\"standoff\": 15}, \"zerolinecolor\": \"white\", \"zerolinewidth\": 2}, \"yaxis\": {\"automargin\": true, \"gridcolor\": \"white\", \"linecolor\": \"white\", \"ticks\": \"\", \"title\": {\"standoff\": 15}, \"zerolinecolor\": \"white\", \"zerolinewidth\": 2}}}},\n",
       "                        {\"responsive\": true}\n",
       "                    ).then(function(){\n",
       "                            \n",
       "var gd = document.getElementById('51ed58dc-667f-4d7b-a99f-809e6d942860');\n",
       "var x = new MutationObserver(function (mutations, observer) {{\n",
       "        var display = window.getComputedStyle(gd).display;\n",
       "        if (!display || display === 'none') {{\n",
       "            console.log([gd, 'removed!']);\n",
       "            Plotly.purge(gd);\n",
       "            observer.disconnect();\n",
       "        }}\n",
       "}});\n",
       "\n",
       "// Listen for the removal of the full notebook cells\n",
       "var notebookContainer = gd.closest('#notebook-container');\n",
       "if (notebookContainer) {{\n",
       "    x.observe(notebookContainer, {childList: true});\n",
       "}}\n",
       "\n",
       "// Listen for the clearing of the current output cell\n",
       "var outputEl = gd.closest('.output');\n",
       "if (outputEl) {{\n",
       "    x.observe(outputEl, {childList: true});\n",
       "}}\n",
       "\n",
       "                        })\n",
       "                };\n",
       "                });\n",
       "            </script>\n",
       "        </div>"
      ]
     },
     "metadata": {},
     "output_type": "display_data"
    }
   ],
   "source": [
    "distances = trips_data.filter(trips_data.passenger_count <= 2)\\\n",
    "                      .select(_mean(col('trip_distance')).alias('average_trip_distance'))\n",
    "\n",
    "pd_distances = distances.toPandas()\n",
    "\n",
    "fig = go.Figure(go.Indicator(\n",
    "    title = {'text': \"Average distance for trips with maximum of 2 passengers\"},\n",
    "    mode = \"number\",\n",
    "    value = pd_distances.average_trip_distance[0],\n",
    "    number = {'suffix': \" miles\"},\n",
    "    domain = {'x': [0, 1], 'y': [0, 1]}))\n",
    "\n",
    "fig.show()"
   ]
  },
  {
   "cell_type": "markdown",
   "metadata": {},
   "source": [
    "### 2. Quais os 3 maiores vendors em quantidade total de dinheiro arrecadado?"
   ]
  },
  {
   "cell_type": "code",
   "execution_count": 38,
   "metadata": {},
   "outputs": [
    {
     "data": {
      "application/vnd.plotly.v1+json": {
       "config": {
        "plotlyServerURL": "https://plot.ly"
       },
       "data": [
        {
         "orientation": "h",
         "type": "bar",
         "x": [
          2714901.7199999946,
          19043433.99999984,
          19549084.280000236
         ],
         "y": [
          "Dependable Driver Service, Inc",
          "VeriFone Inc",
          "Creative Mobile Technologies, LLC"
         ]
        }
       ],
       "layout": {
        "template": {
         "data": {
          "bar": [
           {
            "error_x": {
             "color": "#2a3f5f"
            },
            "error_y": {
             "color": "#2a3f5f"
            },
            "marker": {
             "line": {
              "color": "#E5ECF6",
              "width": 0.5
             }
            },
            "type": "bar"
           }
          ],
          "barpolar": [
           {
            "marker": {
             "line": {
              "color": "#E5ECF6",
              "width": 0.5
             }
            },
            "type": "barpolar"
           }
          ],
          "carpet": [
           {
            "aaxis": {
             "endlinecolor": "#2a3f5f",
             "gridcolor": "white",
             "linecolor": "white",
             "minorgridcolor": "white",
             "startlinecolor": "#2a3f5f"
            },
            "baxis": {
             "endlinecolor": "#2a3f5f",
             "gridcolor": "white",
             "linecolor": "white",
             "minorgridcolor": "white",
             "startlinecolor": "#2a3f5f"
            },
            "type": "carpet"
           }
          ],
          "choropleth": [
           {
            "colorbar": {
             "outlinewidth": 0,
             "ticks": ""
            },
            "type": "choropleth"
           }
          ],
          "contour": [
           {
            "colorbar": {
             "outlinewidth": 0,
             "ticks": ""
            },
            "colorscale": [
             [
              0,
              "#0d0887"
             ],
             [
              0.1111111111111111,
              "#46039f"
             ],
             [
              0.2222222222222222,
              "#7201a8"
             ],
             [
              0.3333333333333333,
              "#9c179e"
             ],
             [
              0.4444444444444444,
              "#bd3786"
             ],
             [
              0.5555555555555556,
              "#d8576b"
             ],
             [
              0.6666666666666666,
              "#ed7953"
             ],
             [
              0.7777777777777778,
              "#fb9f3a"
             ],
             [
              0.8888888888888888,
              "#fdca26"
             ],
             [
              1,
              "#f0f921"
             ]
            ],
            "type": "contour"
           }
          ],
          "contourcarpet": [
           {
            "colorbar": {
             "outlinewidth": 0,
             "ticks": ""
            },
            "type": "contourcarpet"
           }
          ],
          "heatmap": [
           {
            "colorbar": {
             "outlinewidth": 0,
             "ticks": ""
            },
            "colorscale": [
             [
              0,
              "#0d0887"
             ],
             [
              0.1111111111111111,
              "#46039f"
             ],
             [
              0.2222222222222222,
              "#7201a8"
             ],
             [
              0.3333333333333333,
              "#9c179e"
             ],
             [
              0.4444444444444444,
              "#bd3786"
             ],
             [
              0.5555555555555556,
              "#d8576b"
             ],
             [
              0.6666666666666666,
              "#ed7953"
             ],
             [
              0.7777777777777778,
              "#fb9f3a"
             ],
             [
              0.8888888888888888,
              "#fdca26"
             ],
             [
              1,
              "#f0f921"
             ]
            ],
            "type": "heatmap"
           }
          ],
          "heatmapgl": [
           {
            "colorbar": {
             "outlinewidth": 0,
             "ticks": ""
            },
            "colorscale": [
             [
              0,
              "#0d0887"
             ],
             [
              0.1111111111111111,
              "#46039f"
             ],
             [
              0.2222222222222222,
              "#7201a8"
             ],
             [
              0.3333333333333333,
              "#9c179e"
             ],
             [
              0.4444444444444444,
              "#bd3786"
             ],
             [
              0.5555555555555556,
              "#d8576b"
             ],
             [
              0.6666666666666666,
              "#ed7953"
             ],
             [
              0.7777777777777778,
              "#fb9f3a"
             ],
             [
              0.8888888888888888,
              "#fdca26"
             ],
             [
              1,
              "#f0f921"
             ]
            ],
            "type": "heatmapgl"
           }
          ],
          "histogram": [
           {
            "marker": {
             "colorbar": {
              "outlinewidth": 0,
              "ticks": ""
             }
            },
            "type": "histogram"
           }
          ],
          "histogram2d": [
           {
            "colorbar": {
             "outlinewidth": 0,
             "ticks": ""
            },
            "colorscale": [
             [
              0,
              "#0d0887"
             ],
             [
              0.1111111111111111,
              "#46039f"
             ],
             [
              0.2222222222222222,
              "#7201a8"
             ],
             [
              0.3333333333333333,
              "#9c179e"
             ],
             [
              0.4444444444444444,
              "#bd3786"
             ],
             [
              0.5555555555555556,
              "#d8576b"
             ],
             [
              0.6666666666666666,
              "#ed7953"
             ],
             [
              0.7777777777777778,
              "#fb9f3a"
             ],
             [
              0.8888888888888888,
              "#fdca26"
             ],
             [
              1,
              "#f0f921"
             ]
            ],
            "type": "histogram2d"
           }
          ],
          "histogram2dcontour": [
           {
            "colorbar": {
             "outlinewidth": 0,
             "ticks": ""
            },
            "colorscale": [
             [
              0,
              "#0d0887"
             ],
             [
              0.1111111111111111,
              "#46039f"
             ],
             [
              0.2222222222222222,
              "#7201a8"
             ],
             [
              0.3333333333333333,
              "#9c179e"
             ],
             [
              0.4444444444444444,
              "#bd3786"
             ],
             [
              0.5555555555555556,
              "#d8576b"
             ],
             [
              0.6666666666666666,
              "#ed7953"
             ],
             [
              0.7777777777777778,
              "#fb9f3a"
             ],
             [
              0.8888888888888888,
              "#fdca26"
             ],
             [
              1,
              "#f0f921"
             ]
            ],
            "type": "histogram2dcontour"
           }
          ],
          "mesh3d": [
           {
            "colorbar": {
             "outlinewidth": 0,
             "ticks": ""
            },
            "type": "mesh3d"
           }
          ],
          "parcoords": [
           {
            "line": {
             "colorbar": {
              "outlinewidth": 0,
              "ticks": ""
             }
            },
            "type": "parcoords"
           }
          ],
          "pie": [
           {
            "automargin": true,
            "type": "pie"
           }
          ],
          "scatter": [
           {
            "marker": {
             "colorbar": {
              "outlinewidth": 0,
              "ticks": ""
             }
            },
            "type": "scatter"
           }
          ],
          "scatter3d": [
           {
            "line": {
             "colorbar": {
              "outlinewidth": 0,
              "ticks": ""
             }
            },
            "marker": {
             "colorbar": {
              "outlinewidth": 0,
              "ticks": ""
             }
            },
            "type": "scatter3d"
           }
          ],
          "scattercarpet": [
           {
            "marker": {
             "colorbar": {
              "outlinewidth": 0,
              "ticks": ""
             }
            },
            "type": "scattercarpet"
           }
          ],
          "scattergeo": [
           {
            "marker": {
             "colorbar": {
              "outlinewidth": 0,
              "ticks": ""
             }
            },
            "type": "scattergeo"
           }
          ],
          "scattergl": [
           {
            "marker": {
             "colorbar": {
              "outlinewidth": 0,
              "ticks": ""
             }
            },
            "type": "scattergl"
           }
          ],
          "scattermapbox": [
           {
            "marker": {
             "colorbar": {
              "outlinewidth": 0,
              "ticks": ""
             }
            },
            "type": "scattermapbox"
           }
          ],
          "scatterpolar": [
           {
            "marker": {
             "colorbar": {
              "outlinewidth": 0,
              "ticks": ""
             }
            },
            "type": "scatterpolar"
           }
          ],
          "scatterpolargl": [
           {
            "marker": {
             "colorbar": {
              "outlinewidth": 0,
              "ticks": ""
             }
            },
            "type": "scatterpolargl"
           }
          ],
          "scatterternary": [
           {
            "marker": {
             "colorbar": {
              "outlinewidth": 0,
              "ticks": ""
             }
            },
            "type": "scatterternary"
           }
          ],
          "surface": [
           {
            "colorbar": {
             "outlinewidth": 0,
             "ticks": ""
            },
            "colorscale": [
             [
              0,
              "#0d0887"
             ],
             [
              0.1111111111111111,
              "#46039f"
             ],
             [
              0.2222222222222222,
              "#7201a8"
             ],
             [
              0.3333333333333333,
              "#9c179e"
             ],
             [
              0.4444444444444444,
              "#bd3786"
             ],
             [
              0.5555555555555556,
              "#d8576b"
             ],
             [
              0.6666666666666666,
              "#ed7953"
             ],
             [
              0.7777777777777778,
              "#fb9f3a"
             ],
             [
              0.8888888888888888,
              "#fdca26"
             ],
             [
              1,
              "#f0f921"
             ]
            ],
            "type": "surface"
           }
          ],
          "table": [
           {
            "cells": {
             "fill": {
              "color": "#EBF0F8"
             },
             "line": {
              "color": "white"
             }
            },
            "header": {
             "fill": {
              "color": "#C8D4E3"
             },
             "line": {
              "color": "white"
             }
            },
            "type": "table"
           }
          ]
         },
         "layout": {
          "annotationdefaults": {
           "arrowcolor": "#2a3f5f",
           "arrowhead": 0,
           "arrowwidth": 1
          },
          "coloraxis": {
           "colorbar": {
            "outlinewidth": 0,
            "ticks": ""
           }
          },
          "colorscale": {
           "diverging": [
            [
             0,
             "#8e0152"
            ],
            [
             0.1,
             "#c51b7d"
            ],
            [
             0.2,
             "#de77ae"
            ],
            [
             0.3,
             "#f1b6da"
            ],
            [
             0.4,
             "#fde0ef"
            ],
            [
             0.5,
             "#f7f7f7"
            ],
            [
             0.6,
             "#e6f5d0"
            ],
            [
             0.7,
             "#b8e186"
            ],
            [
             0.8,
             "#7fbc41"
            ],
            [
             0.9,
             "#4d9221"
            ],
            [
             1,
             "#276419"
            ]
           ],
           "sequential": [
            [
             0,
             "#0d0887"
            ],
            [
             0.1111111111111111,
             "#46039f"
            ],
            [
             0.2222222222222222,
             "#7201a8"
            ],
            [
             0.3333333333333333,
             "#9c179e"
            ],
            [
             0.4444444444444444,
             "#bd3786"
            ],
            [
             0.5555555555555556,
             "#d8576b"
            ],
            [
             0.6666666666666666,
             "#ed7953"
            ],
            [
             0.7777777777777778,
             "#fb9f3a"
            ],
            [
             0.8888888888888888,
             "#fdca26"
            ],
            [
             1,
             "#f0f921"
            ]
           ],
           "sequentialminus": [
            [
             0,
             "#0d0887"
            ],
            [
             0.1111111111111111,
             "#46039f"
            ],
            [
             0.2222222222222222,
             "#7201a8"
            ],
            [
             0.3333333333333333,
             "#9c179e"
            ],
            [
             0.4444444444444444,
             "#bd3786"
            ],
            [
             0.5555555555555556,
             "#d8576b"
            ],
            [
             0.6666666666666666,
             "#ed7953"
            ],
            [
             0.7777777777777778,
             "#fb9f3a"
            ],
            [
             0.8888888888888888,
             "#fdca26"
            ],
            [
             1,
             "#f0f921"
            ]
           ]
          },
          "colorway": [
           "#636efa",
           "#EF553B",
           "#00cc96",
           "#ab63fa",
           "#FFA15A",
           "#19d3f3",
           "#FF6692",
           "#B6E880",
           "#FF97FF",
           "#FECB52"
          ],
          "font": {
           "color": "#2a3f5f"
          },
          "geo": {
           "bgcolor": "white",
           "lakecolor": "white",
           "landcolor": "#E5ECF6",
           "showlakes": true,
           "showland": true,
           "subunitcolor": "white"
          },
          "hoverlabel": {
           "align": "left"
          },
          "hovermode": "closest",
          "mapbox": {
           "style": "light"
          },
          "paper_bgcolor": "white",
          "plot_bgcolor": "#E5ECF6",
          "polar": {
           "angularaxis": {
            "gridcolor": "white",
            "linecolor": "white",
            "ticks": ""
           },
           "bgcolor": "#E5ECF6",
           "radialaxis": {
            "gridcolor": "white",
            "linecolor": "white",
            "ticks": ""
           }
          },
          "scene": {
           "xaxis": {
            "backgroundcolor": "#E5ECF6",
            "gridcolor": "white",
            "gridwidth": 2,
            "linecolor": "white",
            "showbackground": true,
            "ticks": "",
            "zerolinecolor": "white"
           },
           "yaxis": {
            "backgroundcolor": "#E5ECF6",
            "gridcolor": "white",
            "gridwidth": 2,
            "linecolor": "white",
            "showbackground": true,
            "ticks": "",
            "zerolinecolor": "white"
           },
           "zaxis": {
            "backgroundcolor": "#E5ECF6",
            "gridcolor": "white",
            "gridwidth": 2,
            "linecolor": "white",
            "showbackground": true,
            "ticks": "",
            "zerolinecolor": "white"
           }
          },
          "shapedefaults": {
           "line": {
            "color": "#2a3f5f"
           }
          },
          "ternary": {
           "aaxis": {
            "gridcolor": "white",
            "linecolor": "white",
            "ticks": ""
           },
           "baxis": {
            "gridcolor": "white",
            "linecolor": "white",
            "ticks": ""
           },
           "bgcolor": "#E5ECF6",
           "caxis": {
            "gridcolor": "white",
            "linecolor": "white",
            "ticks": ""
           }
          },
          "title": {
           "x": 0.05
          },
          "xaxis": {
           "automargin": true,
           "gridcolor": "white",
           "linecolor": "white",
           "ticks": "",
           "title": {
            "standoff": 15
           },
           "zerolinecolor": "white",
           "zerolinewidth": 2
          },
          "yaxis": {
           "automargin": true,
           "gridcolor": "white",
           "linecolor": "white",
           "ticks": "",
           "title": {
            "standoff": 15
           },
           "zerolinecolor": "white",
           "zerolinewidth": 2
          }
         }
        },
        "title": {
         "text": "Top 3 Vendors"
        }
       }
      },
      "text/html": [
       "<div>\n",
       "        \n",
       "        \n",
       "            <div id=\"54a5f824-da58-46f7-8fb1-cbbb8d74973a\" class=\"plotly-graph-div\" style=\"height:525px; width:100%;\"></div>\n",
       "            <script type=\"text/javascript\">\n",
       "                require([\"plotly\"], function(Plotly) {\n",
       "                    window.PLOTLYENV=window.PLOTLYENV || {};\n",
       "                    \n",
       "                if (document.getElementById(\"54a5f824-da58-46f7-8fb1-cbbb8d74973a\")) {\n",
       "                    Plotly.newPlot(\n",
       "                        '54a5f824-da58-46f7-8fb1-cbbb8d74973a',\n",
       "                        [{\"orientation\": \"h\", \"type\": \"bar\", \"x\": [2714901.7199999946, 19043433.99999984, 19549084.280000236], \"y\": [\"Dependable Driver Service, Inc\", \"VeriFone Inc\", \"Creative Mobile Technologies, LLC\"]}],\n",
       "                        {\"template\": {\"data\": {\"bar\": [{\"error_x\": {\"color\": \"#2a3f5f\"}, \"error_y\": {\"color\": \"#2a3f5f\"}, \"marker\": {\"line\": {\"color\": \"#E5ECF6\", \"width\": 0.5}}, \"type\": \"bar\"}], \"barpolar\": [{\"marker\": {\"line\": {\"color\": \"#E5ECF6\", \"width\": 0.5}}, \"type\": \"barpolar\"}], \"carpet\": [{\"aaxis\": {\"endlinecolor\": \"#2a3f5f\", \"gridcolor\": \"white\", \"linecolor\": \"white\", \"minorgridcolor\": \"white\", \"startlinecolor\": \"#2a3f5f\"}, \"baxis\": {\"endlinecolor\": \"#2a3f5f\", \"gridcolor\": \"white\", \"linecolor\": \"white\", \"minorgridcolor\": \"white\", \"startlinecolor\": \"#2a3f5f\"}, \"type\": \"carpet\"}], \"choropleth\": [{\"colorbar\": {\"outlinewidth\": 0, \"ticks\": \"\"}, \"type\": \"choropleth\"}], \"contour\": [{\"colorbar\": {\"outlinewidth\": 0, \"ticks\": \"\"}, \"colorscale\": [[0.0, \"#0d0887\"], [0.1111111111111111, \"#46039f\"], [0.2222222222222222, \"#7201a8\"], [0.3333333333333333, \"#9c179e\"], [0.4444444444444444, \"#bd3786\"], [0.5555555555555556, \"#d8576b\"], [0.6666666666666666, \"#ed7953\"], [0.7777777777777778, \"#fb9f3a\"], [0.8888888888888888, \"#fdca26\"], [1.0, \"#f0f921\"]], \"type\": \"contour\"}], \"contourcarpet\": [{\"colorbar\": {\"outlinewidth\": 0, \"ticks\": \"\"}, \"type\": \"contourcarpet\"}], \"heatmap\": [{\"colorbar\": {\"outlinewidth\": 0, \"ticks\": \"\"}, \"colorscale\": [[0.0, \"#0d0887\"], [0.1111111111111111, \"#46039f\"], [0.2222222222222222, \"#7201a8\"], [0.3333333333333333, \"#9c179e\"], [0.4444444444444444, \"#bd3786\"], [0.5555555555555556, \"#d8576b\"], [0.6666666666666666, \"#ed7953\"], [0.7777777777777778, \"#fb9f3a\"], [0.8888888888888888, \"#fdca26\"], [1.0, \"#f0f921\"]], \"type\": \"heatmap\"}], \"heatmapgl\": [{\"colorbar\": {\"outlinewidth\": 0, \"ticks\": \"\"}, \"colorscale\": [[0.0, \"#0d0887\"], [0.1111111111111111, \"#46039f\"], [0.2222222222222222, \"#7201a8\"], [0.3333333333333333, \"#9c179e\"], [0.4444444444444444, \"#bd3786\"], [0.5555555555555556, \"#d8576b\"], [0.6666666666666666, \"#ed7953\"], [0.7777777777777778, \"#fb9f3a\"], [0.8888888888888888, \"#fdca26\"], [1.0, \"#f0f921\"]], \"type\": \"heatmapgl\"}], \"histogram\": [{\"marker\": {\"colorbar\": {\"outlinewidth\": 0, \"ticks\": \"\"}}, \"type\": \"histogram\"}], \"histogram2d\": [{\"colorbar\": {\"outlinewidth\": 0, \"ticks\": \"\"}, \"colorscale\": [[0.0, \"#0d0887\"], [0.1111111111111111, \"#46039f\"], [0.2222222222222222, \"#7201a8\"], [0.3333333333333333, \"#9c179e\"], [0.4444444444444444, \"#bd3786\"], [0.5555555555555556, \"#d8576b\"], [0.6666666666666666, \"#ed7953\"], [0.7777777777777778, \"#fb9f3a\"], [0.8888888888888888, \"#fdca26\"], [1.0, \"#f0f921\"]], \"type\": \"histogram2d\"}], \"histogram2dcontour\": [{\"colorbar\": {\"outlinewidth\": 0, \"ticks\": \"\"}, \"colorscale\": [[0.0, \"#0d0887\"], [0.1111111111111111, \"#46039f\"], [0.2222222222222222, \"#7201a8\"], [0.3333333333333333, \"#9c179e\"], [0.4444444444444444, \"#bd3786\"], [0.5555555555555556, \"#d8576b\"], [0.6666666666666666, \"#ed7953\"], [0.7777777777777778, \"#fb9f3a\"], [0.8888888888888888, \"#fdca26\"], [1.0, \"#f0f921\"]], \"type\": \"histogram2dcontour\"}], \"mesh3d\": [{\"colorbar\": {\"outlinewidth\": 0, \"ticks\": \"\"}, \"type\": \"mesh3d\"}], \"parcoords\": [{\"line\": {\"colorbar\": {\"outlinewidth\": 0, \"ticks\": \"\"}}, \"type\": \"parcoords\"}], \"pie\": [{\"automargin\": true, \"type\": \"pie\"}], \"scatter\": [{\"marker\": {\"colorbar\": {\"outlinewidth\": 0, \"ticks\": \"\"}}, \"type\": \"scatter\"}], \"scatter3d\": [{\"line\": {\"colorbar\": {\"outlinewidth\": 0, \"ticks\": \"\"}}, \"marker\": {\"colorbar\": {\"outlinewidth\": 0, \"ticks\": \"\"}}, \"type\": \"scatter3d\"}], \"scattercarpet\": [{\"marker\": {\"colorbar\": {\"outlinewidth\": 0, \"ticks\": \"\"}}, \"type\": \"scattercarpet\"}], \"scattergeo\": [{\"marker\": {\"colorbar\": {\"outlinewidth\": 0, \"ticks\": \"\"}}, \"type\": \"scattergeo\"}], \"scattergl\": [{\"marker\": {\"colorbar\": {\"outlinewidth\": 0, \"ticks\": \"\"}}, \"type\": \"scattergl\"}], \"scattermapbox\": [{\"marker\": {\"colorbar\": {\"outlinewidth\": 0, \"ticks\": \"\"}}, \"type\": \"scattermapbox\"}], \"scatterpolar\": [{\"marker\": {\"colorbar\": {\"outlinewidth\": 0, \"ticks\": \"\"}}, \"type\": \"scatterpolar\"}], \"scatterpolargl\": [{\"marker\": {\"colorbar\": {\"outlinewidth\": 0, \"ticks\": \"\"}}, \"type\": \"scatterpolargl\"}], \"scatterternary\": [{\"marker\": {\"colorbar\": {\"outlinewidth\": 0, \"ticks\": \"\"}}, \"type\": \"scatterternary\"}], \"surface\": [{\"colorbar\": {\"outlinewidth\": 0, \"ticks\": \"\"}, \"colorscale\": [[0.0, \"#0d0887\"], [0.1111111111111111, \"#46039f\"], [0.2222222222222222, \"#7201a8\"], [0.3333333333333333, \"#9c179e\"], [0.4444444444444444, \"#bd3786\"], [0.5555555555555556, \"#d8576b\"], [0.6666666666666666, \"#ed7953\"], [0.7777777777777778, \"#fb9f3a\"], [0.8888888888888888, \"#fdca26\"], [1.0, \"#f0f921\"]], \"type\": \"surface\"}], \"table\": [{\"cells\": {\"fill\": {\"color\": \"#EBF0F8\"}, \"line\": {\"color\": \"white\"}}, \"header\": {\"fill\": {\"color\": \"#C8D4E3\"}, \"line\": {\"color\": \"white\"}}, \"type\": \"table\"}]}, \"layout\": {\"annotationdefaults\": {\"arrowcolor\": \"#2a3f5f\", \"arrowhead\": 0, \"arrowwidth\": 1}, \"coloraxis\": {\"colorbar\": {\"outlinewidth\": 0, \"ticks\": \"\"}}, \"colorscale\": {\"diverging\": [[0, \"#8e0152\"], [0.1, \"#c51b7d\"], [0.2, \"#de77ae\"], [0.3, \"#f1b6da\"], [0.4, \"#fde0ef\"], [0.5, \"#f7f7f7\"], [0.6, \"#e6f5d0\"], [0.7, \"#b8e186\"], [0.8, \"#7fbc41\"], [0.9, \"#4d9221\"], [1, \"#276419\"]], \"sequential\": [[0.0, \"#0d0887\"], [0.1111111111111111, \"#46039f\"], [0.2222222222222222, \"#7201a8\"], [0.3333333333333333, \"#9c179e\"], [0.4444444444444444, \"#bd3786\"], [0.5555555555555556, \"#d8576b\"], [0.6666666666666666, \"#ed7953\"], [0.7777777777777778, \"#fb9f3a\"], [0.8888888888888888, \"#fdca26\"], [1.0, \"#f0f921\"]], \"sequentialminus\": [[0.0, \"#0d0887\"], [0.1111111111111111, \"#46039f\"], [0.2222222222222222, \"#7201a8\"], [0.3333333333333333, \"#9c179e\"], [0.4444444444444444, \"#bd3786\"], [0.5555555555555556, \"#d8576b\"], [0.6666666666666666, \"#ed7953\"], [0.7777777777777778, \"#fb9f3a\"], [0.8888888888888888, \"#fdca26\"], [1.0, \"#f0f921\"]]}, \"colorway\": [\"#636efa\", \"#EF553B\", \"#00cc96\", \"#ab63fa\", \"#FFA15A\", \"#19d3f3\", \"#FF6692\", \"#B6E880\", \"#FF97FF\", \"#FECB52\"], \"font\": {\"color\": \"#2a3f5f\"}, \"geo\": {\"bgcolor\": \"white\", \"lakecolor\": \"white\", \"landcolor\": \"#E5ECF6\", \"showlakes\": true, \"showland\": true, \"subunitcolor\": \"white\"}, \"hoverlabel\": {\"align\": \"left\"}, \"hovermode\": \"closest\", \"mapbox\": {\"style\": \"light\"}, \"paper_bgcolor\": \"white\", \"plot_bgcolor\": \"#E5ECF6\", \"polar\": {\"angularaxis\": {\"gridcolor\": \"white\", \"linecolor\": \"white\", \"ticks\": \"\"}, \"bgcolor\": \"#E5ECF6\", \"radialaxis\": {\"gridcolor\": \"white\", \"linecolor\": \"white\", \"ticks\": \"\"}}, \"scene\": {\"xaxis\": {\"backgroundcolor\": \"#E5ECF6\", \"gridcolor\": \"white\", \"gridwidth\": 2, \"linecolor\": \"white\", \"showbackground\": true, \"ticks\": \"\", \"zerolinecolor\": \"white\"}, \"yaxis\": {\"backgroundcolor\": \"#E5ECF6\", \"gridcolor\": \"white\", \"gridwidth\": 2, \"linecolor\": \"white\", \"showbackground\": true, \"ticks\": \"\", \"zerolinecolor\": \"white\"}, \"zaxis\": {\"backgroundcolor\": \"#E5ECF6\", \"gridcolor\": \"white\", \"gridwidth\": 2, \"linecolor\": \"white\", \"showbackground\": true, \"ticks\": \"\", \"zerolinecolor\": \"white\"}}, \"shapedefaults\": {\"line\": {\"color\": \"#2a3f5f\"}}, \"ternary\": {\"aaxis\": {\"gridcolor\": \"white\", \"linecolor\": \"white\", \"ticks\": \"\"}, \"baxis\": {\"gridcolor\": \"white\", \"linecolor\": \"white\", \"ticks\": \"\"}, \"bgcolor\": \"#E5ECF6\", \"caxis\": {\"gridcolor\": \"white\", \"linecolor\": \"white\", \"ticks\": \"\"}}, \"title\": {\"x\": 0.05}, \"xaxis\": {\"automargin\": true, \"gridcolor\": \"white\", \"linecolor\": \"white\", \"ticks\": \"\", \"title\": {\"standoff\": 15}, \"zerolinecolor\": \"white\", \"zerolinewidth\": 2}, \"yaxis\": {\"automargin\": true, \"gridcolor\": \"white\", \"linecolor\": \"white\", \"ticks\": \"\", \"title\": {\"standoff\": 15}, \"zerolinecolor\": \"white\", \"zerolinewidth\": 2}}}, \"title\": {\"text\": \"Top 3 Vendors\"}},\n",
       "                        {\"responsive\": true}\n",
       "                    ).then(function(){\n",
       "                            \n",
       "var gd = document.getElementById('54a5f824-da58-46f7-8fb1-cbbb8d74973a');\n",
       "var x = new MutationObserver(function (mutations, observer) {{\n",
       "        var display = window.getComputedStyle(gd).display;\n",
       "        if (!display || display === 'none') {{\n",
       "            console.log([gd, 'removed!']);\n",
       "            Plotly.purge(gd);\n",
       "            observer.disconnect();\n",
       "        }}\n",
       "}});\n",
       "\n",
       "// Listen for the removal of the full notebook cells\n",
       "var notebookContainer = gd.closest('#notebook-container');\n",
       "if (notebookContainer) {{\n",
       "    x.observe(notebookContainer, {childList: true});\n",
       "}}\n",
       "\n",
       "// Listen for the clearing of the current output cell\n",
       "var outputEl = gd.closest('.output');\n",
       "if (outputEl) {{\n",
       "    x.observe(outputEl, {childList: true});\n",
       "}}\n",
       "\n",
       "                        })\n",
       "                };\n",
       "                });\n",
       "            </script>\n",
       "        </div>"
      ]
     },
     "metadata": {},
     "output_type": "display_data"
    }
   ],
   "source": [
    "top_3_vendors = trips_data.select('vendor_id','total_amount')\\\n",
    "                          .groupBy('vendor_id').sum()\\\n",
    "                          .select('vendor_id', col(\"sum(total_amount)\").alias(\"total\"))\\\n",
    "                          .orderBy(desc('total'))\n",
    "\n",
    "top_3_vendors_pd = top_3_vendors.toPandas()[0:3]\n",
    "\n",
    "top_3_vendors_pd = top_3_vendors_pd.merge(vendors_data_pd[['vendor_id', 'name']], on='vendor_id' )\n",
    "\n",
    "top_3_vendors_pd.sort_values(by=\"total\", inplace=True)\n",
    "\n",
    "fig = go.Figure(go.Bar(\n",
    "    x=top_3_vendors_pd.total,\n",
    "    y=top_3_vendors_pd.name,\n",
    "    orientation='h'))\n",
    "fig.update_layout(title = \"Top 3 Vendors\")\n",
    "fig.show()"
   ]
  },
  {
   "cell_type": "markdown",
   "metadata": {},
   "source": [
    "### 3. Faça um histograma da distribuição mensal, nos 4 anos, de corridas pagas em dinheiro"
   ]
  },
  {
   "cell_type": "code",
   "execution_count": 39,
   "metadata": {},
   "outputs": [
    {
     "data": {
      "application/vnd.plotly.v1+json": {
       "config": {
        "plotlyServerURL": "https://plot.ly"
       },
       "data": [
        {
         "orientation": "v",
         "type": "bar",
         "x": [
          "2009-01-01T00:00:00",
          "2009-02-01T00:00:00",
          "2009-03-01T00:00:00",
          "2009-04-01T00:00:00",
          "2009-05-01T00:00:00",
          "2009-06-01T00:00:00",
          "2009-07-01T00:00:00",
          "2009-08-01T00:00:00",
          "2009-09-01T00:00:00",
          "2009-10-01T00:00:00",
          "2009-11-01T00:00:00",
          "2009-12-01T00:00:00",
          "2010-01-01T00:00:00",
          "2010-02-01T00:00:00",
          "2010-03-01T00:00:00",
          "2010-04-01T00:00:00",
          "2010-05-01T00:00:00",
          "2010-06-01T00:00:00",
          "2010-07-01T00:00:00",
          "2010-08-01T00:00:00",
          "2010-09-01T00:00:00",
          "2010-10-01T00:00:00",
          "2010-11-01T00:00:00",
          "2010-12-01T00:00:00",
          "2011-01-01T00:00:00",
          "2011-02-01T00:00:00",
          "2011-03-01T00:00:00",
          "2011-04-01T00:00:00",
          "2011-05-01T00:00:00",
          "2011-06-01T00:00:00",
          "2011-07-01T00:00:00",
          "2011-08-01T00:00:00",
          "2011-09-01T00:00:00",
          "2011-10-01T00:00:00",
          "2011-11-01T00:00:00",
          "2012-01-01T00:00:00",
          "2012-02-01T00:00:00",
          "2012-03-01T00:00:00",
          "2012-04-01T00:00:00",
          "2012-05-01T00:00:00",
          "2012-06-01T00:00:00",
          "2012-07-01T00:00:00",
          "2012-08-01T00:00:00",
          "2012-09-01T00:00:00",
          "2012-10-01T00:00:00"
         ],
         "y": [
          66991,
          66820,
          73945,
          71141,
          74136,
          71364,
          74084,
          73996,
          71525,
          73915,
          71420,
          21376,
          66382,
          66957,
          73607,
          71088,
          73632,
          70996,
          73455,
          73365,
          71138,
          73566,
          70832,
          25695,
          55792,
          71115,
          78255,
          76123,
          78606,
          75723,
          78729,
          78847,
          76230,
          78461,
          62832,
          81143,
          78599,
          83320,
          81321,
          83971,
          80794,
          84426,
          83381,
          81312,
          72446
         ]
        }
       ],
       "layout": {
        "template": {
         "data": {
          "bar": [
           {
            "error_x": {
             "color": "#2a3f5f"
            },
            "error_y": {
             "color": "#2a3f5f"
            },
            "marker": {
             "line": {
              "color": "#E5ECF6",
              "width": 0.5
             }
            },
            "type": "bar"
           }
          ],
          "barpolar": [
           {
            "marker": {
             "line": {
              "color": "#E5ECF6",
              "width": 0.5
             }
            },
            "type": "barpolar"
           }
          ],
          "carpet": [
           {
            "aaxis": {
             "endlinecolor": "#2a3f5f",
             "gridcolor": "white",
             "linecolor": "white",
             "minorgridcolor": "white",
             "startlinecolor": "#2a3f5f"
            },
            "baxis": {
             "endlinecolor": "#2a3f5f",
             "gridcolor": "white",
             "linecolor": "white",
             "minorgridcolor": "white",
             "startlinecolor": "#2a3f5f"
            },
            "type": "carpet"
           }
          ],
          "choropleth": [
           {
            "colorbar": {
             "outlinewidth": 0,
             "ticks": ""
            },
            "type": "choropleth"
           }
          ],
          "contour": [
           {
            "colorbar": {
             "outlinewidth": 0,
             "ticks": ""
            },
            "colorscale": [
             [
              0,
              "#0d0887"
             ],
             [
              0.1111111111111111,
              "#46039f"
             ],
             [
              0.2222222222222222,
              "#7201a8"
             ],
             [
              0.3333333333333333,
              "#9c179e"
             ],
             [
              0.4444444444444444,
              "#bd3786"
             ],
             [
              0.5555555555555556,
              "#d8576b"
             ],
             [
              0.6666666666666666,
              "#ed7953"
             ],
             [
              0.7777777777777778,
              "#fb9f3a"
             ],
             [
              0.8888888888888888,
              "#fdca26"
             ],
             [
              1,
              "#f0f921"
             ]
            ],
            "type": "contour"
           }
          ],
          "contourcarpet": [
           {
            "colorbar": {
             "outlinewidth": 0,
             "ticks": ""
            },
            "type": "contourcarpet"
           }
          ],
          "heatmap": [
           {
            "colorbar": {
             "outlinewidth": 0,
             "ticks": ""
            },
            "colorscale": [
             [
              0,
              "#0d0887"
             ],
             [
              0.1111111111111111,
              "#46039f"
             ],
             [
              0.2222222222222222,
              "#7201a8"
             ],
             [
              0.3333333333333333,
              "#9c179e"
             ],
             [
              0.4444444444444444,
              "#bd3786"
             ],
             [
              0.5555555555555556,
              "#d8576b"
             ],
             [
              0.6666666666666666,
              "#ed7953"
             ],
             [
              0.7777777777777778,
              "#fb9f3a"
             ],
             [
              0.8888888888888888,
              "#fdca26"
             ],
             [
              1,
              "#f0f921"
             ]
            ],
            "type": "heatmap"
           }
          ],
          "heatmapgl": [
           {
            "colorbar": {
             "outlinewidth": 0,
             "ticks": ""
            },
            "colorscale": [
             [
              0,
              "#0d0887"
             ],
             [
              0.1111111111111111,
              "#46039f"
             ],
             [
              0.2222222222222222,
              "#7201a8"
             ],
             [
              0.3333333333333333,
              "#9c179e"
             ],
             [
              0.4444444444444444,
              "#bd3786"
             ],
             [
              0.5555555555555556,
              "#d8576b"
             ],
             [
              0.6666666666666666,
              "#ed7953"
             ],
             [
              0.7777777777777778,
              "#fb9f3a"
             ],
             [
              0.8888888888888888,
              "#fdca26"
             ],
             [
              1,
              "#f0f921"
             ]
            ],
            "type": "heatmapgl"
           }
          ],
          "histogram": [
           {
            "marker": {
             "colorbar": {
              "outlinewidth": 0,
              "ticks": ""
             }
            },
            "type": "histogram"
           }
          ],
          "histogram2d": [
           {
            "colorbar": {
             "outlinewidth": 0,
             "ticks": ""
            },
            "colorscale": [
             [
              0,
              "#0d0887"
             ],
             [
              0.1111111111111111,
              "#46039f"
             ],
             [
              0.2222222222222222,
              "#7201a8"
             ],
             [
              0.3333333333333333,
              "#9c179e"
             ],
             [
              0.4444444444444444,
              "#bd3786"
             ],
             [
              0.5555555555555556,
              "#d8576b"
             ],
             [
              0.6666666666666666,
              "#ed7953"
             ],
             [
              0.7777777777777778,
              "#fb9f3a"
             ],
             [
              0.8888888888888888,
              "#fdca26"
             ],
             [
              1,
              "#f0f921"
             ]
            ],
            "type": "histogram2d"
           }
          ],
          "histogram2dcontour": [
           {
            "colorbar": {
             "outlinewidth": 0,
             "ticks": ""
            },
            "colorscale": [
             [
              0,
              "#0d0887"
             ],
             [
              0.1111111111111111,
              "#46039f"
             ],
             [
              0.2222222222222222,
              "#7201a8"
             ],
             [
              0.3333333333333333,
              "#9c179e"
             ],
             [
              0.4444444444444444,
              "#bd3786"
             ],
             [
              0.5555555555555556,
              "#d8576b"
             ],
             [
              0.6666666666666666,
              "#ed7953"
             ],
             [
              0.7777777777777778,
              "#fb9f3a"
             ],
             [
              0.8888888888888888,
              "#fdca26"
             ],
             [
              1,
              "#f0f921"
             ]
            ],
            "type": "histogram2dcontour"
           }
          ],
          "mesh3d": [
           {
            "colorbar": {
             "outlinewidth": 0,
             "ticks": ""
            },
            "type": "mesh3d"
           }
          ],
          "parcoords": [
           {
            "line": {
             "colorbar": {
              "outlinewidth": 0,
              "ticks": ""
             }
            },
            "type": "parcoords"
           }
          ],
          "pie": [
           {
            "automargin": true,
            "type": "pie"
           }
          ],
          "scatter": [
           {
            "marker": {
             "colorbar": {
              "outlinewidth": 0,
              "ticks": ""
             }
            },
            "type": "scatter"
           }
          ],
          "scatter3d": [
           {
            "line": {
             "colorbar": {
              "outlinewidth": 0,
              "ticks": ""
             }
            },
            "marker": {
             "colorbar": {
              "outlinewidth": 0,
              "ticks": ""
             }
            },
            "type": "scatter3d"
           }
          ],
          "scattercarpet": [
           {
            "marker": {
             "colorbar": {
              "outlinewidth": 0,
              "ticks": ""
             }
            },
            "type": "scattercarpet"
           }
          ],
          "scattergeo": [
           {
            "marker": {
             "colorbar": {
              "outlinewidth": 0,
              "ticks": ""
             }
            },
            "type": "scattergeo"
           }
          ],
          "scattergl": [
           {
            "marker": {
             "colorbar": {
              "outlinewidth": 0,
              "ticks": ""
             }
            },
            "type": "scattergl"
           }
          ],
          "scattermapbox": [
           {
            "marker": {
             "colorbar": {
              "outlinewidth": 0,
              "ticks": ""
             }
            },
            "type": "scattermapbox"
           }
          ],
          "scatterpolar": [
           {
            "marker": {
             "colorbar": {
              "outlinewidth": 0,
              "ticks": ""
             }
            },
            "type": "scatterpolar"
           }
          ],
          "scatterpolargl": [
           {
            "marker": {
             "colorbar": {
              "outlinewidth": 0,
              "ticks": ""
             }
            },
            "type": "scatterpolargl"
           }
          ],
          "scatterternary": [
           {
            "marker": {
             "colorbar": {
              "outlinewidth": 0,
              "ticks": ""
             }
            },
            "type": "scatterternary"
           }
          ],
          "surface": [
           {
            "colorbar": {
             "outlinewidth": 0,
             "ticks": ""
            },
            "colorscale": [
             [
              0,
              "#0d0887"
             ],
             [
              0.1111111111111111,
              "#46039f"
             ],
             [
              0.2222222222222222,
              "#7201a8"
             ],
             [
              0.3333333333333333,
              "#9c179e"
             ],
             [
              0.4444444444444444,
              "#bd3786"
             ],
             [
              0.5555555555555556,
              "#d8576b"
             ],
             [
              0.6666666666666666,
              "#ed7953"
             ],
             [
              0.7777777777777778,
              "#fb9f3a"
             ],
             [
              0.8888888888888888,
              "#fdca26"
             ],
             [
              1,
              "#f0f921"
             ]
            ],
            "type": "surface"
           }
          ],
          "table": [
           {
            "cells": {
             "fill": {
              "color": "#EBF0F8"
             },
             "line": {
              "color": "white"
             }
            },
            "header": {
             "fill": {
              "color": "#C8D4E3"
             },
             "line": {
              "color": "white"
             }
            },
            "type": "table"
           }
          ]
         },
         "layout": {
          "annotationdefaults": {
           "arrowcolor": "#2a3f5f",
           "arrowhead": 0,
           "arrowwidth": 1
          },
          "coloraxis": {
           "colorbar": {
            "outlinewidth": 0,
            "ticks": ""
           }
          },
          "colorscale": {
           "diverging": [
            [
             0,
             "#8e0152"
            ],
            [
             0.1,
             "#c51b7d"
            ],
            [
             0.2,
             "#de77ae"
            ],
            [
             0.3,
             "#f1b6da"
            ],
            [
             0.4,
             "#fde0ef"
            ],
            [
             0.5,
             "#f7f7f7"
            ],
            [
             0.6,
             "#e6f5d0"
            ],
            [
             0.7,
             "#b8e186"
            ],
            [
             0.8,
             "#7fbc41"
            ],
            [
             0.9,
             "#4d9221"
            ],
            [
             1,
             "#276419"
            ]
           ],
           "sequential": [
            [
             0,
             "#0d0887"
            ],
            [
             0.1111111111111111,
             "#46039f"
            ],
            [
             0.2222222222222222,
             "#7201a8"
            ],
            [
             0.3333333333333333,
             "#9c179e"
            ],
            [
             0.4444444444444444,
             "#bd3786"
            ],
            [
             0.5555555555555556,
             "#d8576b"
            ],
            [
             0.6666666666666666,
             "#ed7953"
            ],
            [
             0.7777777777777778,
             "#fb9f3a"
            ],
            [
             0.8888888888888888,
             "#fdca26"
            ],
            [
             1,
             "#f0f921"
            ]
           ],
           "sequentialminus": [
            [
             0,
             "#0d0887"
            ],
            [
             0.1111111111111111,
             "#46039f"
            ],
            [
             0.2222222222222222,
             "#7201a8"
            ],
            [
             0.3333333333333333,
             "#9c179e"
            ],
            [
             0.4444444444444444,
             "#bd3786"
            ],
            [
             0.5555555555555556,
             "#d8576b"
            ],
            [
             0.6666666666666666,
             "#ed7953"
            ],
            [
             0.7777777777777778,
             "#fb9f3a"
            ],
            [
             0.8888888888888888,
             "#fdca26"
            ],
            [
             1,
             "#f0f921"
            ]
           ]
          },
          "colorway": [
           "#636efa",
           "#EF553B",
           "#00cc96",
           "#ab63fa",
           "#FFA15A",
           "#19d3f3",
           "#FF6692",
           "#B6E880",
           "#FF97FF",
           "#FECB52"
          ],
          "font": {
           "color": "#2a3f5f"
          },
          "geo": {
           "bgcolor": "white",
           "lakecolor": "white",
           "landcolor": "#E5ECF6",
           "showlakes": true,
           "showland": true,
           "subunitcolor": "white"
          },
          "hoverlabel": {
           "align": "left"
          },
          "hovermode": "closest",
          "mapbox": {
           "style": "light"
          },
          "paper_bgcolor": "white",
          "plot_bgcolor": "#E5ECF6",
          "polar": {
           "angularaxis": {
            "gridcolor": "white",
            "linecolor": "white",
            "ticks": ""
           },
           "bgcolor": "#E5ECF6",
           "radialaxis": {
            "gridcolor": "white",
            "linecolor": "white",
            "ticks": ""
           }
          },
          "scene": {
           "xaxis": {
            "backgroundcolor": "#E5ECF6",
            "gridcolor": "white",
            "gridwidth": 2,
            "linecolor": "white",
            "showbackground": true,
            "ticks": "",
            "zerolinecolor": "white"
           },
           "yaxis": {
            "backgroundcolor": "#E5ECF6",
            "gridcolor": "white",
            "gridwidth": 2,
            "linecolor": "white",
            "showbackground": true,
            "ticks": "",
            "zerolinecolor": "white"
           },
           "zaxis": {
            "backgroundcolor": "#E5ECF6",
            "gridcolor": "white",
            "gridwidth": 2,
            "linecolor": "white",
            "showbackground": true,
            "ticks": "",
            "zerolinecolor": "white"
           }
          },
          "shapedefaults": {
           "line": {
            "color": "#2a3f5f"
           }
          },
          "ternary": {
           "aaxis": {
            "gridcolor": "white",
            "linecolor": "white",
            "ticks": ""
           },
           "baxis": {
            "gridcolor": "white",
            "linecolor": "white",
            "ticks": ""
           },
           "bgcolor": "#E5ECF6",
           "caxis": {
            "gridcolor": "white",
            "linecolor": "white",
            "ticks": ""
           }
          },
          "title": {
           "x": 0.05
          },
          "xaxis": {
           "automargin": true,
           "gridcolor": "white",
           "linecolor": "white",
           "ticks": "",
           "title": {
            "standoff": 15
           },
           "zerolinecolor": "white",
           "zerolinewidth": 2
          },
          "yaxis": {
           "automargin": true,
           "gridcolor": "white",
           "linecolor": "white",
           "ticks": "",
           "title": {
            "standoff": 15
           },
           "zerolinecolor": "white",
           "zerolinewidth": 2
          }
         }
        },
        "title": {
         "text": "Montly Distribution Between 2009 and 2012"
        }
       }
      },
      "text/html": [
       "<div>\n",
       "        \n",
       "        \n",
       "            <div id=\"6d6058fd-5429-46b9-89c6-d28b314a4d2c\" class=\"plotly-graph-div\" style=\"height:525px; width:100%;\"></div>\n",
       "            <script type=\"text/javascript\">\n",
       "                require([\"plotly\"], function(Plotly) {\n",
       "                    window.PLOTLYENV=window.PLOTLYENV || {};\n",
       "                    \n",
       "                if (document.getElementById(\"6d6058fd-5429-46b9-89c6-d28b314a4d2c\")) {\n",
       "                    Plotly.newPlot(\n",
       "                        '6d6058fd-5429-46b9-89c6-d28b314a4d2c',\n",
       "                        [{\"orientation\": \"v\", \"type\": \"bar\", \"x\": [\"2009-01-01T00:00:00\", \"2009-02-01T00:00:00\", \"2009-03-01T00:00:00\", \"2009-04-01T00:00:00\", \"2009-05-01T00:00:00\", \"2009-06-01T00:00:00\", \"2009-07-01T00:00:00\", \"2009-08-01T00:00:00\", \"2009-09-01T00:00:00\", \"2009-10-01T00:00:00\", \"2009-11-01T00:00:00\", \"2009-12-01T00:00:00\", \"2010-01-01T00:00:00\", \"2010-02-01T00:00:00\", \"2010-03-01T00:00:00\", \"2010-04-01T00:00:00\", \"2010-05-01T00:00:00\", \"2010-06-01T00:00:00\", \"2010-07-01T00:00:00\", \"2010-08-01T00:00:00\", \"2010-09-01T00:00:00\", \"2010-10-01T00:00:00\", \"2010-11-01T00:00:00\", \"2010-12-01T00:00:00\", \"2011-01-01T00:00:00\", \"2011-02-01T00:00:00\", \"2011-03-01T00:00:00\", \"2011-04-01T00:00:00\", \"2011-05-01T00:00:00\", \"2011-06-01T00:00:00\", \"2011-07-01T00:00:00\", \"2011-08-01T00:00:00\", \"2011-09-01T00:00:00\", \"2011-10-01T00:00:00\", \"2011-11-01T00:00:00\", \"2012-01-01T00:00:00\", \"2012-02-01T00:00:00\", \"2012-03-01T00:00:00\", \"2012-04-01T00:00:00\", \"2012-05-01T00:00:00\", \"2012-06-01T00:00:00\", \"2012-07-01T00:00:00\", \"2012-08-01T00:00:00\", \"2012-09-01T00:00:00\", \"2012-10-01T00:00:00\"], \"y\": [66991, 66820, 73945, 71141, 74136, 71364, 74084, 73996, 71525, 73915, 71420, 21376, 66382, 66957, 73607, 71088, 73632, 70996, 73455, 73365, 71138, 73566, 70832, 25695, 55792, 71115, 78255, 76123, 78606, 75723, 78729, 78847, 76230, 78461, 62832, 81143, 78599, 83320, 81321, 83971, 80794, 84426, 83381, 81312, 72446]}],\n",
       "                        {\"template\": {\"data\": {\"bar\": [{\"error_x\": {\"color\": \"#2a3f5f\"}, \"error_y\": {\"color\": \"#2a3f5f\"}, \"marker\": {\"line\": {\"color\": \"#E5ECF6\", \"width\": 0.5}}, \"type\": \"bar\"}], \"barpolar\": [{\"marker\": {\"line\": {\"color\": \"#E5ECF6\", \"width\": 0.5}}, \"type\": \"barpolar\"}], \"carpet\": [{\"aaxis\": {\"endlinecolor\": \"#2a3f5f\", \"gridcolor\": \"white\", \"linecolor\": \"white\", \"minorgridcolor\": \"white\", \"startlinecolor\": \"#2a3f5f\"}, \"baxis\": {\"endlinecolor\": \"#2a3f5f\", \"gridcolor\": \"white\", \"linecolor\": \"white\", \"minorgridcolor\": \"white\", \"startlinecolor\": \"#2a3f5f\"}, \"type\": \"carpet\"}], \"choropleth\": [{\"colorbar\": {\"outlinewidth\": 0, \"ticks\": \"\"}, \"type\": \"choropleth\"}], \"contour\": [{\"colorbar\": {\"outlinewidth\": 0, \"ticks\": \"\"}, \"colorscale\": [[0.0, \"#0d0887\"], [0.1111111111111111, \"#46039f\"], [0.2222222222222222, \"#7201a8\"], [0.3333333333333333, \"#9c179e\"], [0.4444444444444444, \"#bd3786\"], [0.5555555555555556, \"#d8576b\"], [0.6666666666666666, \"#ed7953\"], [0.7777777777777778, \"#fb9f3a\"], [0.8888888888888888, \"#fdca26\"], [1.0, \"#f0f921\"]], \"type\": \"contour\"}], \"contourcarpet\": [{\"colorbar\": {\"outlinewidth\": 0, \"ticks\": \"\"}, \"type\": \"contourcarpet\"}], \"heatmap\": [{\"colorbar\": {\"outlinewidth\": 0, \"ticks\": \"\"}, \"colorscale\": [[0.0, \"#0d0887\"], [0.1111111111111111, \"#46039f\"], [0.2222222222222222, \"#7201a8\"], [0.3333333333333333, \"#9c179e\"], [0.4444444444444444, \"#bd3786\"], [0.5555555555555556, \"#d8576b\"], [0.6666666666666666, \"#ed7953\"], [0.7777777777777778, \"#fb9f3a\"], [0.8888888888888888, \"#fdca26\"], [1.0, \"#f0f921\"]], \"type\": \"heatmap\"}], \"heatmapgl\": [{\"colorbar\": {\"outlinewidth\": 0, \"ticks\": \"\"}, \"colorscale\": [[0.0, \"#0d0887\"], [0.1111111111111111, \"#46039f\"], [0.2222222222222222, \"#7201a8\"], [0.3333333333333333, \"#9c179e\"], [0.4444444444444444, \"#bd3786\"], [0.5555555555555556, \"#d8576b\"], [0.6666666666666666, \"#ed7953\"], [0.7777777777777778, \"#fb9f3a\"], [0.8888888888888888, \"#fdca26\"], [1.0, \"#f0f921\"]], \"type\": \"heatmapgl\"}], \"histogram\": [{\"marker\": {\"colorbar\": {\"outlinewidth\": 0, \"ticks\": \"\"}}, \"type\": \"histogram\"}], \"histogram2d\": [{\"colorbar\": {\"outlinewidth\": 0, \"ticks\": \"\"}, \"colorscale\": [[0.0, \"#0d0887\"], [0.1111111111111111, \"#46039f\"], [0.2222222222222222, \"#7201a8\"], [0.3333333333333333, \"#9c179e\"], [0.4444444444444444, \"#bd3786\"], [0.5555555555555556, \"#d8576b\"], [0.6666666666666666, \"#ed7953\"], [0.7777777777777778, \"#fb9f3a\"], [0.8888888888888888, \"#fdca26\"], [1.0, \"#f0f921\"]], \"type\": \"histogram2d\"}], \"histogram2dcontour\": [{\"colorbar\": {\"outlinewidth\": 0, \"ticks\": \"\"}, \"colorscale\": [[0.0, \"#0d0887\"], [0.1111111111111111, \"#46039f\"], [0.2222222222222222, \"#7201a8\"], [0.3333333333333333, \"#9c179e\"], [0.4444444444444444, \"#bd3786\"], [0.5555555555555556, \"#d8576b\"], [0.6666666666666666, \"#ed7953\"], [0.7777777777777778, \"#fb9f3a\"], [0.8888888888888888, \"#fdca26\"], [1.0, \"#f0f921\"]], \"type\": \"histogram2dcontour\"}], \"mesh3d\": [{\"colorbar\": {\"outlinewidth\": 0, \"ticks\": \"\"}, \"type\": \"mesh3d\"}], \"parcoords\": [{\"line\": {\"colorbar\": {\"outlinewidth\": 0, \"ticks\": \"\"}}, \"type\": \"parcoords\"}], \"pie\": [{\"automargin\": true, \"type\": \"pie\"}], \"scatter\": [{\"marker\": {\"colorbar\": {\"outlinewidth\": 0, \"ticks\": \"\"}}, \"type\": \"scatter\"}], \"scatter3d\": [{\"line\": {\"colorbar\": {\"outlinewidth\": 0, \"ticks\": \"\"}}, \"marker\": {\"colorbar\": {\"outlinewidth\": 0, \"ticks\": \"\"}}, \"type\": \"scatter3d\"}], \"scattercarpet\": [{\"marker\": {\"colorbar\": {\"outlinewidth\": 0, \"ticks\": \"\"}}, \"type\": \"scattercarpet\"}], \"scattergeo\": [{\"marker\": {\"colorbar\": {\"outlinewidth\": 0, \"ticks\": \"\"}}, \"type\": \"scattergeo\"}], \"scattergl\": [{\"marker\": {\"colorbar\": {\"outlinewidth\": 0, \"ticks\": \"\"}}, \"type\": \"scattergl\"}], \"scattermapbox\": [{\"marker\": {\"colorbar\": {\"outlinewidth\": 0, \"ticks\": \"\"}}, \"type\": \"scattermapbox\"}], \"scatterpolar\": [{\"marker\": {\"colorbar\": {\"outlinewidth\": 0, \"ticks\": \"\"}}, \"type\": \"scatterpolar\"}], \"scatterpolargl\": [{\"marker\": {\"colorbar\": {\"outlinewidth\": 0, \"ticks\": \"\"}}, \"type\": \"scatterpolargl\"}], \"scatterternary\": [{\"marker\": {\"colorbar\": {\"outlinewidth\": 0, \"ticks\": \"\"}}, \"type\": \"scatterternary\"}], \"surface\": [{\"colorbar\": {\"outlinewidth\": 0, \"ticks\": \"\"}, \"colorscale\": [[0.0, \"#0d0887\"], [0.1111111111111111, \"#46039f\"], [0.2222222222222222, \"#7201a8\"], [0.3333333333333333, \"#9c179e\"], [0.4444444444444444, \"#bd3786\"], [0.5555555555555556, \"#d8576b\"], [0.6666666666666666, \"#ed7953\"], [0.7777777777777778, \"#fb9f3a\"], [0.8888888888888888, \"#fdca26\"], [1.0, \"#f0f921\"]], \"type\": \"surface\"}], \"table\": [{\"cells\": {\"fill\": {\"color\": \"#EBF0F8\"}, \"line\": {\"color\": \"white\"}}, \"header\": {\"fill\": {\"color\": \"#C8D4E3\"}, \"line\": {\"color\": \"white\"}}, \"type\": \"table\"}]}, \"layout\": {\"annotationdefaults\": {\"arrowcolor\": \"#2a3f5f\", \"arrowhead\": 0, \"arrowwidth\": 1}, \"coloraxis\": {\"colorbar\": {\"outlinewidth\": 0, \"ticks\": \"\"}}, \"colorscale\": {\"diverging\": [[0, \"#8e0152\"], [0.1, \"#c51b7d\"], [0.2, \"#de77ae\"], [0.3, \"#f1b6da\"], [0.4, \"#fde0ef\"], [0.5, \"#f7f7f7\"], [0.6, \"#e6f5d0\"], [0.7, \"#b8e186\"], [0.8, \"#7fbc41\"], [0.9, \"#4d9221\"], [1, \"#276419\"]], \"sequential\": [[0.0, \"#0d0887\"], [0.1111111111111111, \"#46039f\"], [0.2222222222222222, \"#7201a8\"], [0.3333333333333333, \"#9c179e\"], [0.4444444444444444, \"#bd3786\"], [0.5555555555555556, \"#d8576b\"], [0.6666666666666666, \"#ed7953\"], [0.7777777777777778, \"#fb9f3a\"], [0.8888888888888888, \"#fdca26\"], [1.0, \"#f0f921\"]], \"sequentialminus\": [[0.0, \"#0d0887\"], [0.1111111111111111, \"#46039f\"], [0.2222222222222222, \"#7201a8\"], [0.3333333333333333, \"#9c179e\"], [0.4444444444444444, \"#bd3786\"], [0.5555555555555556, \"#d8576b\"], [0.6666666666666666, \"#ed7953\"], [0.7777777777777778, \"#fb9f3a\"], [0.8888888888888888, \"#fdca26\"], [1.0, \"#f0f921\"]]}, \"colorway\": [\"#636efa\", \"#EF553B\", \"#00cc96\", \"#ab63fa\", \"#FFA15A\", \"#19d3f3\", \"#FF6692\", \"#B6E880\", \"#FF97FF\", \"#FECB52\"], \"font\": {\"color\": \"#2a3f5f\"}, \"geo\": {\"bgcolor\": \"white\", \"lakecolor\": \"white\", \"landcolor\": \"#E5ECF6\", \"showlakes\": true, \"showland\": true, \"subunitcolor\": \"white\"}, \"hoverlabel\": {\"align\": \"left\"}, \"hovermode\": \"closest\", \"mapbox\": {\"style\": \"light\"}, \"paper_bgcolor\": \"white\", \"plot_bgcolor\": \"#E5ECF6\", \"polar\": {\"angularaxis\": {\"gridcolor\": \"white\", \"linecolor\": \"white\", \"ticks\": \"\"}, \"bgcolor\": \"#E5ECF6\", \"radialaxis\": {\"gridcolor\": \"white\", \"linecolor\": \"white\", \"ticks\": \"\"}}, \"scene\": {\"xaxis\": {\"backgroundcolor\": \"#E5ECF6\", \"gridcolor\": \"white\", \"gridwidth\": 2, \"linecolor\": \"white\", \"showbackground\": true, \"ticks\": \"\", \"zerolinecolor\": \"white\"}, \"yaxis\": {\"backgroundcolor\": \"#E5ECF6\", \"gridcolor\": \"white\", \"gridwidth\": 2, \"linecolor\": \"white\", \"showbackground\": true, \"ticks\": \"\", \"zerolinecolor\": \"white\"}, \"zaxis\": {\"backgroundcolor\": \"#E5ECF6\", \"gridcolor\": \"white\", \"gridwidth\": 2, \"linecolor\": \"white\", \"showbackground\": true, \"ticks\": \"\", \"zerolinecolor\": \"white\"}}, \"shapedefaults\": {\"line\": {\"color\": \"#2a3f5f\"}}, \"ternary\": {\"aaxis\": {\"gridcolor\": \"white\", \"linecolor\": \"white\", \"ticks\": \"\"}, \"baxis\": {\"gridcolor\": \"white\", \"linecolor\": \"white\", \"ticks\": \"\"}, \"bgcolor\": \"#E5ECF6\", \"caxis\": {\"gridcolor\": \"white\", \"linecolor\": \"white\", \"ticks\": \"\"}}, \"title\": {\"x\": 0.05}, \"xaxis\": {\"automargin\": true, \"gridcolor\": \"white\", \"linecolor\": \"white\", \"ticks\": \"\", \"title\": {\"standoff\": 15}, \"zerolinecolor\": \"white\", \"zerolinewidth\": 2}, \"yaxis\": {\"automargin\": true, \"gridcolor\": \"white\", \"linecolor\": \"white\", \"ticks\": \"\", \"title\": {\"standoff\": 15}, \"zerolinecolor\": \"white\", \"zerolinewidth\": 2}}}, \"title\": {\"text\": \"Montly Distribution Between 2009 and 2012\"}},\n",
       "                        {\"responsive\": true}\n",
       "                    ).then(function(){\n",
       "                            \n",
       "var gd = document.getElementById('6d6058fd-5429-46b9-89c6-d28b314a4d2c');\n",
       "var x = new MutationObserver(function (mutations, observer) {{\n",
       "        var display = window.getComputedStyle(gd).display;\n",
       "        if (!display || display === 'none') {{\n",
       "            console.log([gd, 'removed!']);\n",
       "            Plotly.purge(gd);\n",
       "            observer.disconnect();\n",
       "        }}\n",
       "}});\n",
       "\n",
       "// Listen for the removal of the full notebook cells\n",
       "var notebookContainer = gd.closest('#notebook-container');\n",
       "if (notebookContainer) {{\n",
       "    x.observe(notebookContainer, {childList: true});\n",
       "}}\n",
       "\n",
       "// Listen for the clearing of the current output cell\n",
       "var outputEl = gd.closest('.output');\n",
       "if (outputEl) {{\n",
       "    x.observe(outputEl, {childList: true});\n",
       "}}\n",
       "\n",
       "                        })\n",
       "                };\n",
       "                });\n",
       "            </script>\n",
       "        </div>"
      ]
     },
     "metadata": {},
     "output_type": "display_data"
    }
   ],
   "source": [
    "query = \"\"\"\n",
    "SELECT date_trunc('MONTH', trips.pickup_datetime) as trip_month,                                                                   \n",
    "       count(trips.pickup_datetime) as trip_count\n",
    "FROM trips\n",
    "JOIN payments on trips.payment_type = payments.payment_type\n",
    "WHERE payments.payment_lookup = 'Cash'\n",
    "GROUP BY trip_month\n",
    "ORDER BY trip_month\n",
    "\"\"\"\n",
    "\n",
    "histogram_data = spark.sql(query)\n",
    "\n",
    "from pyspark.sql.functions import count, col,  mean as _mean, desc, date_trunc\n",
    "\n",
    "\n",
    "histogram_data_pd = histogram_data.toPandas()\n",
    "\n",
    "fig = go.Figure(go.Bar(\n",
    "    x=histogram_data_pd.trip_month,\n",
    "    y=histogram_data_pd.trip_count,\n",
    "    orientation='v'))\n",
    "fig.update_layout(title = \"Montly Distribution Between 2009 and 2012\")\n",
    "fig.show()"
   ]
  },
  {
   "cell_type": "markdown",
   "metadata": {},
   "source": [
    "### 4. Faça um gráfico de série temporal contando a quantidade de gorjetas de cada dia nos últimos 3 meses de 2012."
   ]
  },
  {
   "cell_type": "code",
   "execution_count": 9,
   "metadata": {
    "scrolled": false
   },
   "outputs": [
    {
     "data": {
      "application/vnd.plotly.v1+json": {
       "config": {
        "plotlyServerURL": "https://plot.ly"
       },
       "data": [
        {
         "type": "scatter",
         "x": [
          "2012-10-01",
          "2012-10-02",
          "2012-10-03",
          "2012-10-04",
          "2012-10-05",
          "2012-10-06",
          "2012-10-07",
          "2012-10-08",
          "2012-10-09",
          "2012-10-10",
          "2012-10-11",
          "2012-10-12",
          "2012-10-13",
          "2012-10-14",
          "2012-10-15",
          "2012-10-16",
          "2012-10-17",
          "2012-10-18",
          "2012-10-19",
          "2012-10-20",
          "2012-10-21",
          "2012-10-22",
          "2012-10-23",
          "2012-10-24",
          "2012-10-25",
          "2012-10-26",
          "2012-10-27"
         ],
         "y": [
          1444.4100000000003,
          1434.28,
          1344.52,
          1427.06,
          1382.02,
          1370.1399999999999,
          1335.05,
          1299.48,
          1408.3300000000002,
          1461.6799999999998,
          1352.6,
          1398.0500000000002,
          1311.9399999999998,
          1249.66,
          1295.14,
          1352.4600000000003,
          1597.9,
          1345.85,
          1374.8700000000001,
          1356.6700000000003,
          1533.9199999999998,
          1375.38,
          1420.3799999999999,
          1236.91,
          1253.87,
          1397.91,
          1217.4
         ]
        }
       ],
       "layout": {
        "template": {
         "data": {
          "bar": [
           {
            "error_x": {
             "color": "#2a3f5f"
            },
            "error_y": {
             "color": "#2a3f5f"
            },
            "marker": {
             "line": {
              "color": "#E5ECF6",
              "width": 0.5
             }
            },
            "type": "bar"
           }
          ],
          "barpolar": [
           {
            "marker": {
             "line": {
              "color": "#E5ECF6",
              "width": 0.5
             }
            },
            "type": "barpolar"
           }
          ],
          "carpet": [
           {
            "aaxis": {
             "endlinecolor": "#2a3f5f",
             "gridcolor": "white",
             "linecolor": "white",
             "minorgridcolor": "white",
             "startlinecolor": "#2a3f5f"
            },
            "baxis": {
             "endlinecolor": "#2a3f5f",
             "gridcolor": "white",
             "linecolor": "white",
             "minorgridcolor": "white",
             "startlinecolor": "#2a3f5f"
            },
            "type": "carpet"
           }
          ],
          "choropleth": [
           {
            "colorbar": {
             "outlinewidth": 0,
             "ticks": ""
            },
            "type": "choropleth"
           }
          ],
          "contour": [
           {
            "colorbar": {
             "outlinewidth": 0,
             "ticks": ""
            },
            "colorscale": [
             [
              0,
              "#0d0887"
             ],
             [
              0.1111111111111111,
              "#46039f"
             ],
             [
              0.2222222222222222,
              "#7201a8"
             ],
             [
              0.3333333333333333,
              "#9c179e"
             ],
             [
              0.4444444444444444,
              "#bd3786"
             ],
             [
              0.5555555555555556,
              "#d8576b"
             ],
             [
              0.6666666666666666,
              "#ed7953"
             ],
             [
              0.7777777777777778,
              "#fb9f3a"
             ],
             [
              0.8888888888888888,
              "#fdca26"
             ],
             [
              1,
              "#f0f921"
             ]
            ],
            "type": "contour"
           }
          ],
          "contourcarpet": [
           {
            "colorbar": {
             "outlinewidth": 0,
             "ticks": ""
            },
            "type": "contourcarpet"
           }
          ],
          "heatmap": [
           {
            "colorbar": {
             "outlinewidth": 0,
             "ticks": ""
            },
            "colorscale": [
             [
              0,
              "#0d0887"
             ],
             [
              0.1111111111111111,
              "#46039f"
             ],
             [
              0.2222222222222222,
              "#7201a8"
             ],
             [
              0.3333333333333333,
              "#9c179e"
             ],
             [
              0.4444444444444444,
              "#bd3786"
             ],
             [
              0.5555555555555556,
              "#d8576b"
             ],
             [
              0.6666666666666666,
              "#ed7953"
             ],
             [
              0.7777777777777778,
              "#fb9f3a"
             ],
             [
              0.8888888888888888,
              "#fdca26"
             ],
             [
              1,
              "#f0f921"
             ]
            ],
            "type": "heatmap"
           }
          ],
          "heatmapgl": [
           {
            "colorbar": {
             "outlinewidth": 0,
             "ticks": ""
            },
            "colorscale": [
             [
              0,
              "#0d0887"
             ],
             [
              0.1111111111111111,
              "#46039f"
             ],
             [
              0.2222222222222222,
              "#7201a8"
             ],
             [
              0.3333333333333333,
              "#9c179e"
             ],
             [
              0.4444444444444444,
              "#bd3786"
             ],
             [
              0.5555555555555556,
              "#d8576b"
             ],
             [
              0.6666666666666666,
              "#ed7953"
             ],
             [
              0.7777777777777778,
              "#fb9f3a"
             ],
             [
              0.8888888888888888,
              "#fdca26"
             ],
             [
              1,
              "#f0f921"
             ]
            ],
            "type": "heatmapgl"
           }
          ],
          "histogram": [
           {
            "marker": {
             "colorbar": {
              "outlinewidth": 0,
              "ticks": ""
             }
            },
            "type": "histogram"
           }
          ],
          "histogram2d": [
           {
            "colorbar": {
             "outlinewidth": 0,
             "ticks": ""
            },
            "colorscale": [
             [
              0,
              "#0d0887"
             ],
             [
              0.1111111111111111,
              "#46039f"
             ],
             [
              0.2222222222222222,
              "#7201a8"
             ],
             [
              0.3333333333333333,
              "#9c179e"
             ],
             [
              0.4444444444444444,
              "#bd3786"
             ],
             [
              0.5555555555555556,
              "#d8576b"
             ],
             [
              0.6666666666666666,
              "#ed7953"
             ],
             [
              0.7777777777777778,
              "#fb9f3a"
             ],
             [
              0.8888888888888888,
              "#fdca26"
             ],
             [
              1,
              "#f0f921"
             ]
            ],
            "type": "histogram2d"
           }
          ],
          "histogram2dcontour": [
           {
            "colorbar": {
             "outlinewidth": 0,
             "ticks": ""
            },
            "colorscale": [
             [
              0,
              "#0d0887"
             ],
             [
              0.1111111111111111,
              "#46039f"
             ],
             [
              0.2222222222222222,
              "#7201a8"
             ],
             [
              0.3333333333333333,
              "#9c179e"
             ],
             [
              0.4444444444444444,
              "#bd3786"
             ],
             [
              0.5555555555555556,
              "#d8576b"
             ],
             [
              0.6666666666666666,
              "#ed7953"
             ],
             [
              0.7777777777777778,
              "#fb9f3a"
             ],
             [
              0.8888888888888888,
              "#fdca26"
             ],
             [
              1,
              "#f0f921"
             ]
            ],
            "type": "histogram2dcontour"
           }
          ],
          "mesh3d": [
           {
            "colorbar": {
             "outlinewidth": 0,
             "ticks": ""
            },
            "type": "mesh3d"
           }
          ],
          "parcoords": [
           {
            "line": {
             "colorbar": {
              "outlinewidth": 0,
              "ticks": ""
             }
            },
            "type": "parcoords"
           }
          ],
          "pie": [
           {
            "automargin": true,
            "type": "pie"
           }
          ],
          "scatter": [
           {
            "marker": {
             "colorbar": {
              "outlinewidth": 0,
              "ticks": ""
             }
            },
            "type": "scatter"
           }
          ],
          "scatter3d": [
           {
            "line": {
             "colorbar": {
              "outlinewidth": 0,
              "ticks": ""
             }
            },
            "marker": {
             "colorbar": {
              "outlinewidth": 0,
              "ticks": ""
             }
            },
            "type": "scatter3d"
           }
          ],
          "scattercarpet": [
           {
            "marker": {
             "colorbar": {
              "outlinewidth": 0,
              "ticks": ""
             }
            },
            "type": "scattercarpet"
           }
          ],
          "scattergeo": [
           {
            "marker": {
             "colorbar": {
              "outlinewidth": 0,
              "ticks": ""
             }
            },
            "type": "scattergeo"
           }
          ],
          "scattergl": [
           {
            "marker": {
             "colorbar": {
              "outlinewidth": 0,
              "ticks": ""
             }
            },
            "type": "scattergl"
           }
          ],
          "scattermapbox": [
           {
            "marker": {
             "colorbar": {
              "outlinewidth": 0,
              "ticks": ""
             }
            },
            "type": "scattermapbox"
           }
          ],
          "scatterpolar": [
           {
            "marker": {
             "colorbar": {
              "outlinewidth": 0,
              "ticks": ""
             }
            },
            "type": "scatterpolar"
           }
          ],
          "scatterpolargl": [
           {
            "marker": {
             "colorbar": {
              "outlinewidth": 0,
              "ticks": ""
             }
            },
            "type": "scatterpolargl"
           }
          ],
          "scatterternary": [
           {
            "marker": {
             "colorbar": {
              "outlinewidth": 0,
              "ticks": ""
             }
            },
            "type": "scatterternary"
           }
          ],
          "surface": [
           {
            "colorbar": {
             "outlinewidth": 0,
             "ticks": ""
            },
            "colorscale": [
             [
              0,
              "#0d0887"
             ],
             [
              0.1111111111111111,
              "#46039f"
             ],
             [
              0.2222222222222222,
              "#7201a8"
             ],
             [
              0.3333333333333333,
              "#9c179e"
             ],
             [
              0.4444444444444444,
              "#bd3786"
             ],
             [
              0.5555555555555556,
              "#d8576b"
             ],
             [
              0.6666666666666666,
              "#ed7953"
             ],
             [
              0.7777777777777778,
              "#fb9f3a"
             ],
             [
              0.8888888888888888,
              "#fdca26"
             ],
             [
              1,
              "#f0f921"
             ]
            ],
            "type": "surface"
           }
          ],
          "table": [
           {
            "cells": {
             "fill": {
              "color": "#EBF0F8"
             },
             "line": {
              "color": "white"
             }
            },
            "header": {
             "fill": {
              "color": "#C8D4E3"
             },
             "line": {
              "color": "white"
             }
            },
            "type": "table"
           }
          ]
         },
         "layout": {
          "annotationdefaults": {
           "arrowcolor": "#2a3f5f",
           "arrowhead": 0,
           "arrowwidth": 1
          },
          "coloraxis": {
           "colorbar": {
            "outlinewidth": 0,
            "ticks": ""
           }
          },
          "colorscale": {
           "diverging": [
            [
             0,
             "#8e0152"
            ],
            [
             0.1,
             "#c51b7d"
            ],
            [
             0.2,
             "#de77ae"
            ],
            [
             0.3,
             "#f1b6da"
            ],
            [
             0.4,
             "#fde0ef"
            ],
            [
             0.5,
             "#f7f7f7"
            ],
            [
             0.6,
             "#e6f5d0"
            ],
            [
             0.7,
             "#b8e186"
            ],
            [
             0.8,
             "#7fbc41"
            ],
            [
             0.9,
             "#4d9221"
            ],
            [
             1,
             "#276419"
            ]
           ],
           "sequential": [
            [
             0,
             "#0d0887"
            ],
            [
             0.1111111111111111,
             "#46039f"
            ],
            [
             0.2222222222222222,
             "#7201a8"
            ],
            [
             0.3333333333333333,
             "#9c179e"
            ],
            [
             0.4444444444444444,
             "#bd3786"
            ],
            [
             0.5555555555555556,
             "#d8576b"
            ],
            [
             0.6666666666666666,
             "#ed7953"
            ],
            [
             0.7777777777777778,
             "#fb9f3a"
            ],
            [
             0.8888888888888888,
             "#fdca26"
            ],
            [
             1,
             "#f0f921"
            ]
           ],
           "sequentialminus": [
            [
             0,
             "#0d0887"
            ],
            [
             0.1111111111111111,
             "#46039f"
            ],
            [
             0.2222222222222222,
             "#7201a8"
            ],
            [
             0.3333333333333333,
             "#9c179e"
            ],
            [
             0.4444444444444444,
             "#bd3786"
            ],
            [
             0.5555555555555556,
             "#d8576b"
            ],
            [
             0.6666666666666666,
             "#ed7953"
            ],
            [
             0.7777777777777778,
             "#fb9f3a"
            ],
            [
             0.8888888888888888,
             "#fdca26"
            ],
            [
             1,
             "#f0f921"
            ]
           ]
          },
          "colorway": [
           "#636efa",
           "#EF553B",
           "#00cc96",
           "#ab63fa",
           "#FFA15A",
           "#19d3f3",
           "#FF6692",
           "#B6E880",
           "#FF97FF",
           "#FECB52"
          ],
          "font": {
           "color": "#2a3f5f"
          },
          "geo": {
           "bgcolor": "white",
           "lakecolor": "white",
           "landcolor": "#E5ECF6",
           "showlakes": true,
           "showland": true,
           "subunitcolor": "white"
          },
          "hoverlabel": {
           "align": "left"
          },
          "hovermode": "closest",
          "mapbox": {
           "style": "light"
          },
          "paper_bgcolor": "white",
          "plot_bgcolor": "#E5ECF6",
          "polar": {
           "angularaxis": {
            "gridcolor": "white",
            "linecolor": "white",
            "ticks": ""
           },
           "bgcolor": "#E5ECF6",
           "radialaxis": {
            "gridcolor": "white",
            "linecolor": "white",
            "ticks": ""
           }
          },
          "scene": {
           "xaxis": {
            "backgroundcolor": "#E5ECF6",
            "gridcolor": "white",
            "gridwidth": 2,
            "linecolor": "white",
            "showbackground": true,
            "ticks": "",
            "zerolinecolor": "white"
           },
           "yaxis": {
            "backgroundcolor": "#E5ECF6",
            "gridcolor": "white",
            "gridwidth": 2,
            "linecolor": "white",
            "showbackground": true,
            "ticks": "",
            "zerolinecolor": "white"
           },
           "zaxis": {
            "backgroundcolor": "#E5ECF6",
            "gridcolor": "white",
            "gridwidth": 2,
            "linecolor": "white",
            "showbackground": true,
            "ticks": "",
            "zerolinecolor": "white"
           }
          },
          "shapedefaults": {
           "line": {
            "color": "#2a3f5f"
           }
          },
          "ternary": {
           "aaxis": {
            "gridcolor": "white",
            "linecolor": "white",
            "ticks": ""
           },
           "baxis": {
            "gridcolor": "white",
            "linecolor": "white",
            "ticks": ""
           },
           "bgcolor": "#E5ECF6",
           "caxis": {
            "gridcolor": "white",
            "linecolor": "white",
            "ticks": ""
           }
          },
          "title": {
           "x": 0.05
          },
          "xaxis": {
           "automargin": true,
           "gridcolor": "white",
           "linecolor": "white",
           "ticks": "",
           "title": {
            "standoff": 15
           },
           "zerolinecolor": "white",
           "zerolinewidth": 2
          },
          "yaxis": {
           "automargin": true,
           "gridcolor": "white",
           "linecolor": "white",
           "ticks": "",
           "title": {
            "standoff": 15
           },
           "zerolinecolor": "white",
           "zerolinewidth": 2
          }
         }
        },
        "title": {
         "text": "Tips ammout on October, November and December 2012"
        }
       }
      },
      "text/html": [
       "<div>\n",
       "        \n",
       "        \n",
       "            <div id=\"1ff8592e-8434-43a3-8daa-792e1081aecb\" class=\"plotly-graph-div\" style=\"height:525px; width:100%;\"></div>\n",
       "            <script type=\"text/javascript\">\n",
       "                require([\"plotly\"], function(Plotly) {\n",
       "                    window.PLOTLYENV=window.PLOTLYENV || {};\n",
       "                    \n",
       "                if (document.getElementById(\"1ff8592e-8434-43a3-8daa-792e1081aecb\")) {\n",
       "                    Plotly.newPlot(\n",
       "                        '1ff8592e-8434-43a3-8daa-792e1081aecb',\n",
       "                        [{\"type\": \"scatter\", \"x\": [\"2012-10-01\", \"2012-10-02\", \"2012-10-03\", \"2012-10-04\", \"2012-10-05\", \"2012-10-06\", \"2012-10-07\", \"2012-10-08\", \"2012-10-09\", \"2012-10-10\", \"2012-10-11\", \"2012-10-12\", \"2012-10-13\", \"2012-10-14\", \"2012-10-15\", \"2012-10-16\", \"2012-10-17\", \"2012-10-18\", \"2012-10-19\", \"2012-10-20\", \"2012-10-21\", \"2012-10-22\", \"2012-10-23\", \"2012-10-24\", \"2012-10-25\", \"2012-10-26\", \"2012-10-27\"], \"y\": [1444.4100000000003, 1434.28, 1344.52, 1427.06, 1382.02, 1370.1399999999999, 1335.05, 1299.48, 1408.3300000000002, 1461.6799999999998, 1352.6, 1398.0500000000002, 1311.9399999999998, 1249.66, 1295.14, 1352.4600000000003, 1597.9, 1345.85, 1374.8700000000001, 1356.6700000000003, 1533.9199999999998, 1375.38, 1420.3799999999999, 1236.91, 1253.87, 1397.91, 1217.4]}],\n",
       "                        {\"template\": {\"data\": {\"bar\": [{\"error_x\": {\"color\": \"#2a3f5f\"}, \"error_y\": {\"color\": \"#2a3f5f\"}, \"marker\": {\"line\": {\"color\": \"#E5ECF6\", \"width\": 0.5}}, \"type\": \"bar\"}], \"barpolar\": [{\"marker\": {\"line\": {\"color\": \"#E5ECF6\", \"width\": 0.5}}, \"type\": \"barpolar\"}], \"carpet\": [{\"aaxis\": {\"endlinecolor\": \"#2a3f5f\", \"gridcolor\": \"white\", \"linecolor\": \"white\", \"minorgridcolor\": \"white\", \"startlinecolor\": \"#2a3f5f\"}, \"baxis\": {\"endlinecolor\": \"#2a3f5f\", \"gridcolor\": \"white\", \"linecolor\": \"white\", \"minorgridcolor\": \"white\", \"startlinecolor\": \"#2a3f5f\"}, \"type\": \"carpet\"}], \"choropleth\": [{\"colorbar\": {\"outlinewidth\": 0, \"ticks\": \"\"}, \"type\": \"choropleth\"}], \"contour\": [{\"colorbar\": {\"outlinewidth\": 0, \"ticks\": \"\"}, \"colorscale\": [[0.0, \"#0d0887\"], [0.1111111111111111, \"#46039f\"], [0.2222222222222222, \"#7201a8\"], [0.3333333333333333, \"#9c179e\"], [0.4444444444444444, \"#bd3786\"], [0.5555555555555556, \"#d8576b\"], [0.6666666666666666, \"#ed7953\"], [0.7777777777777778, \"#fb9f3a\"], [0.8888888888888888, \"#fdca26\"], [1.0, \"#f0f921\"]], \"type\": \"contour\"}], \"contourcarpet\": [{\"colorbar\": {\"outlinewidth\": 0, \"ticks\": \"\"}, \"type\": \"contourcarpet\"}], \"heatmap\": [{\"colorbar\": {\"outlinewidth\": 0, \"ticks\": \"\"}, \"colorscale\": [[0.0, \"#0d0887\"], [0.1111111111111111, \"#46039f\"], [0.2222222222222222, \"#7201a8\"], [0.3333333333333333, \"#9c179e\"], [0.4444444444444444, \"#bd3786\"], [0.5555555555555556, \"#d8576b\"], [0.6666666666666666, \"#ed7953\"], [0.7777777777777778, \"#fb9f3a\"], [0.8888888888888888, \"#fdca26\"], [1.0, \"#f0f921\"]], \"type\": \"heatmap\"}], \"heatmapgl\": [{\"colorbar\": {\"outlinewidth\": 0, \"ticks\": \"\"}, \"colorscale\": [[0.0, \"#0d0887\"], [0.1111111111111111, \"#46039f\"], [0.2222222222222222, \"#7201a8\"], [0.3333333333333333, \"#9c179e\"], [0.4444444444444444, \"#bd3786\"], [0.5555555555555556, \"#d8576b\"], [0.6666666666666666, \"#ed7953\"], [0.7777777777777778, \"#fb9f3a\"], [0.8888888888888888, \"#fdca26\"], [1.0, \"#f0f921\"]], \"type\": \"heatmapgl\"}], \"histogram\": [{\"marker\": {\"colorbar\": {\"outlinewidth\": 0, \"ticks\": \"\"}}, \"type\": \"histogram\"}], \"histogram2d\": [{\"colorbar\": {\"outlinewidth\": 0, \"ticks\": \"\"}, \"colorscale\": [[0.0, \"#0d0887\"], [0.1111111111111111, \"#46039f\"], [0.2222222222222222, \"#7201a8\"], [0.3333333333333333, \"#9c179e\"], [0.4444444444444444, \"#bd3786\"], [0.5555555555555556, \"#d8576b\"], [0.6666666666666666, \"#ed7953\"], [0.7777777777777778, \"#fb9f3a\"], [0.8888888888888888, \"#fdca26\"], [1.0, \"#f0f921\"]], \"type\": \"histogram2d\"}], \"histogram2dcontour\": [{\"colorbar\": {\"outlinewidth\": 0, \"ticks\": \"\"}, \"colorscale\": [[0.0, \"#0d0887\"], [0.1111111111111111, \"#46039f\"], [0.2222222222222222, \"#7201a8\"], [0.3333333333333333, \"#9c179e\"], [0.4444444444444444, \"#bd3786\"], [0.5555555555555556, \"#d8576b\"], [0.6666666666666666, \"#ed7953\"], [0.7777777777777778, \"#fb9f3a\"], [0.8888888888888888, \"#fdca26\"], [1.0, \"#f0f921\"]], \"type\": \"histogram2dcontour\"}], \"mesh3d\": [{\"colorbar\": {\"outlinewidth\": 0, \"ticks\": \"\"}, \"type\": \"mesh3d\"}], \"parcoords\": [{\"line\": {\"colorbar\": {\"outlinewidth\": 0, \"ticks\": \"\"}}, \"type\": \"parcoords\"}], \"pie\": [{\"automargin\": true, \"type\": \"pie\"}], \"scatter\": [{\"marker\": {\"colorbar\": {\"outlinewidth\": 0, \"ticks\": \"\"}}, \"type\": \"scatter\"}], \"scatter3d\": [{\"line\": {\"colorbar\": {\"outlinewidth\": 0, \"ticks\": \"\"}}, \"marker\": {\"colorbar\": {\"outlinewidth\": 0, \"ticks\": \"\"}}, \"type\": \"scatter3d\"}], \"scattercarpet\": [{\"marker\": {\"colorbar\": {\"outlinewidth\": 0, \"ticks\": \"\"}}, \"type\": \"scattercarpet\"}], \"scattergeo\": [{\"marker\": {\"colorbar\": {\"outlinewidth\": 0, \"ticks\": \"\"}}, \"type\": \"scattergeo\"}], \"scattergl\": [{\"marker\": {\"colorbar\": {\"outlinewidth\": 0, \"ticks\": \"\"}}, \"type\": \"scattergl\"}], \"scattermapbox\": [{\"marker\": {\"colorbar\": {\"outlinewidth\": 0, \"ticks\": \"\"}}, \"type\": \"scattermapbox\"}], \"scatterpolar\": [{\"marker\": {\"colorbar\": {\"outlinewidth\": 0, \"ticks\": \"\"}}, \"type\": \"scatterpolar\"}], \"scatterpolargl\": [{\"marker\": {\"colorbar\": {\"outlinewidth\": 0, \"ticks\": \"\"}}, \"type\": \"scatterpolargl\"}], \"scatterternary\": [{\"marker\": {\"colorbar\": {\"outlinewidth\": 0, \"ticks\": \"\"}}, \"type\": \"scatterternary\"}], \"surface\": [{\"colorbar\": {\"outlinewidth\": 0, \"ticks\": \"\"}, \"colorscale\": [[0.0, \"#0d0887\"], [0.1111111111111111, \"#46039f\"], [0.2222222222222222, \"#7201a8\"], [0.3333333333333333, \"#9c179e\"], [0.4444444444444444, \"#bd3786\"], [0.5555555555555556, \"#d8576b\"], [0.6666666666666666, \"#ed7953\"], [0.7777777777777778, \"#fb9f3a\"], [0.8888888888888888, \"#fdca26\"], [1.0, \"#f0f921\"]], \"type\": \"surface\"}], \"table\": [{\"cells\": {\"fill\": {\"color\": \"#EBF0F8\"}, \"line\": {\"color\": \"white\"}}, \"header\": {\"fill\": {\"color\": \"#C8D4E3\"}, \"line\": {\"color\": \"white\"}}, \"type\": \"table\"}]}, \"layout\": {\"annotationdefaults\": {\"arrowcolor\": \"#2a3f5f\", \"arrowhead\": 0, \"arrowwidth\": 1}, \"coloraxis\": {\"colorbar\": {\"outlinewidth\": 0, \"ticks\": \"\"}}, \"colorscale\": {\"diverging\": [[0, \"#8e0152\"], [0.1, \"#c51b7d\"], [0.2, \"#de77ae\"], [0.3, \"#f1b6da\"], [0.4, \"#fde0ef\"], [0.5, \"#f7f7f7\"], [0.6, \"#e6f5d0\"], [0.7, \"#b8e186\"], [0.8, \"#7fbc41\"], [0.9, \"#4d9221\"], [1, \"#276419\"]], \"sequential\": [[0.0, \"#0d0887\"], [0.1111111111111111, \"#46039f\"], [0.2222222222222222, \"#7201a8\"], [0.3333333333333333, \"#9c179e\"], [0.4444444444444444, \"#bd3786\"], [0.5555555555555556, \"#d8576b\"], [0.6666666666666666, \"#ed7953\"], [0.7777777777777778, \"#fb9f3a\"], [0.8888888888888888, \"#fdca26\"], [1.0, \"#f0f921\"]], \"sequentialminus\": [[0.0, \"#0d0887\"], [0.1111111111111111, \"#46039f\"], [0.2222222222222222, \"#7201a8\"], [0.3333333333333333, \"#9c179e\"], [0.4444444444444444, \"#bd3786\"], [0.5555555555555556, \"#d8576b\"], [0.6666666666666666, \"#ed7953\"], [0.7777777777777778, \"#fb9f3a\"], [0.8888888888888888, \"#fdca26\"], [1.0, \"#f0f921\"]]}, \"colorway\": [\"#636efa\", \"#EF553B\", \"#00cc96\", \"#ab63fa\", \"#FFA15A\", \"#19d3f3\", \"#FF6692\", \"#B6E880\", \"#FF97FF\", \"#FECB52\"], \"font\": {\"color\": \"#2a3f5f\"}, \"geo\": {\"bgcolor\": \"white\", \"lakecolor\": \"white\", \"landcolor\": \"#E5ECF6\", \"showlakes\": true, \"showland\": true, \"subunitcolor\": \"white\"}, \"hoverlabel\": {\"align\": \"left\"}, \"hovermode\": \"closest\", \"mapbox\": {\"style\": \"light\"}, \"paper_bgcolor\": \"white\", \"plot_bgcolor\": \"#E5ECF6\", \"polar\": {\"angularaxis\": {\"gridcolor\": \"white\", \"linecolor\": \"white\", \"ticks\": \"\"}, \"bgcolor\": \"#E5ECF6\", \"radialaxis\": {\"gridcolor\": \"white\", \"linecolor\": \"white\", \"ticks\": \"\"}}, \"scene\": {\"xaxis\": {\"backgroundcolor\": \"#E5ECF6\", \"gridcolor\": \"white\", \"gridwidth\": 2, \"linecolor\": \"white\", \"showbackground\": true, \"ticks\": \"\", \"zerolinecolor\": \"white\"}, \"yaxis\": {\"backgroundcolor\": \"#E5ECF6\", \"gridcolor\": \"white\", \"gridwidth\": 2, \"linecolor\": \"white\", \"showbackground\": true, \"ticks\": \"\", \"zerolinecolor\": \"white\"}, \"zaxis\": {\"backgroundcolor\": \"#E5ECF6\", \"gridcolor\": \"white\", \"gridwidth\": 2, \"linecolor\": \"white\", \"showbackground\": true, \"ticks\": \"\", \"zerolinecolor\": \"white\"}}, \"shapedefaults\": {\"line\": {\"color\": \"#2a3f5f\"}}, \"ternary\": {\"aaxis\": {\"gridcolor\": \"white\", \"linecolor\": \"white\", \"ticks\": \"\"}, \"baxis\": {\"gridcolor\": \"white\", \"linecolor\": \"white\", \"ticks\": \"\"}, \"bgcolor\": \"#E5ECF6\", \"caxis\": {\"gridcolor\": \"white\", \"linecolor\": \"white\", \"ticks\": \"\"}}, \"title\": {\"x\": 0.05}, \"xaxis\": {\"automargin\": true, \"gridcolor\": \"white\", \"linecolor\": \"white\", \"ticks\": \"\", \"title\": {\"standoff\": 15}, \"zerolinecolor\": \"white\", \"zerolinewidth\": 2}, \"yaxis\": {\"automargin\": true, \"gridcolor\": \"white\", \"linecolor\": \"white\", \"ticks\": \"\", \"title\": {\"standoff\": 15}, \"zerolinecolor\": \"white\", \"zerolinewidth\": 2}}}, \"title\": {\"text\": \"Tips ammout on October, November and December 2012\"}},\n",
       "                        {\"responsive\": true}\n",
       "                    ).then(function(){\n",
       "                            \n",
       "var gd = document.getElementById('1ff8592e-8434-43a3-8daa-792e1081aecb');\n",
       "var x = new MutationObserver(function (mutations, observer) {{\n",
       "        var display = window.getComputedStyle(gd).display;\n",
       "        if (!display || display === 'none') {{\n",
       "            console.log([gd, 'removed!']);\n",
       "            Plotly.purge(gd);\n",
       "            observer.disconnect();\n",
       "        }}\n",
       "}});\n",
       "\n",
       "// Listen for the removal of the full notebook cells\n",
       "var notebookContainer = gd.closest('#notebook-container');\n",
       "if (notebookContainer) {{\n",
       "    x.observe(notebookContainer, {childList: true});\n",
       "}}\n",
       "\n",
       "// Listen for the clearing of the current output cell\n",
       "var outputEl = gd.closest('.output');\n",
       "if (outputEl) {{\n",
       "    x.observe(outputEl, {childList: true});\n",
       "}}\n",
       "\n",
       "                        })\n",
       "                };\n",
       "                });\n",
       "            </script>\n",
       "        </div>"
      ]
     },
     "metadata": {},
     "output_type": "display_data"
    }
   ],
   "source": [
    "query = \"\"\"\n",
    "SELECT DATE(pickup_datetime) as day, \n",
    "       SUM(tip_amount) as tips\n",
    "FROM trips \n",
    "WHERE extract(YEAR from pickup_datetime) = 2012 \n",
    "  AND extract(MONTH from pickup_datetime) IN (10, 11, 12)\n",
    "GROUP BY DATE(pickup_datetime)\n",
    "ORDER BY DATE(pickup_datetime)\n",
    "\"\"\"\n",
    "\n",
    "tips = spark.sql(query)\n",
    "\n",
    "pd_tips = tips.toPandas()\n",
    "\n",
    "fig = go.Figure(data=go.Scatter(x=pd_tips.day, y=pd_tips.tips))\n",
    "fig.update_layout(title = \"Tips ammout on October, November and December 2012\")\n",
    "fig.show()"
   ]
  },
  {
   "cell_type": "markdown",
   "metadata": {},
   "source": [
    "## Quesitos bônus"
   ]
  },
  {
   "cell_type": "markdown",
   "metadata": {},
   "source": [
    "### Qual o tempo médio das corridas nos dias de sábado e domingo?"
   ]
  },
  {
   "cell_type": "code",
   "execution_count": 10,
   "metadata": {},
   "outputs": [
    {
     "data": {
      "application/vnd.plotly.v1+json": {
       "config": {
        "plotlyServerURL": "https://plot.ly"
       },
       "data": [
        {
         "domain": {
          "x": [
           0,
           1
          ],
          "y": [
           0,
           1
          ]
         },
         "mode": "number",
         "number": {
          "suffix": " minutes"
         },
         "title": {
          "text": "Average duration for trips in the weekend"
         },
         "type": "indicator",
         "value": 8.741962354042323
        }
       ],
       "layout": {
        "template": {
         "data": {
          "bar": [
           {
            "error_x": {
             "color": "#2a3f5f"
            },
            "error_y": {
             "color": "#2a3f5f"
            },
            "marker": {
             "line": {
              "color": "#E5ECF6",
              "width": 0.5
             }
            },
            "type": "bar"
           }
          ],
          "barpolar": [
           {
            "marker": {
             "line": {
              "color": "#E5ECF6",
              "width": 0.5
             }
            },
            "type": "barpolar"
           }
          ],
          "carpet": [
           {
            "aaxis": {
             "endlinecolor": "#2a3f5f",
             "gridcolor": "white",
             "linecolor": "white",
             "minorgridcolor": "white",
             "startlinecolor": "#2a3f5f"
            },
            "baxis": {
             "endlinecolor": "#2a3f5f",
             "gridcolor": "white",
             "linecolor": "white",
             "minorgridcolor": "white",
             "startlinecolor": "#2a3f5f"
            },
            "type": "carpet"
           }
          ],
          "choropleth": [
           {
            "colorbar": {
             "outlinewidth": 0,
             "ticks": ""
            },
            "type": "choropleth"
           }
          ],
          "contour": [
           {
            "colorbar": {
             "outlinewidth": 0,
             "ticks": ""
            },
            "colorscale": [
             [
              0,
              "#0d0887"
             ],
             [
              0.1111111111111111,
              "#46039f"
             ],
             [
              0.2222222222222222,
              "#7201a8"
             ],
             [
              0.3333333333333333,
              "#9c179e"
             ],
             [
              0.4444444444444444,
              "#bd3786"
             ],
             [
              0.5555555555555556,
              "#d8576b"
             ],
             [
              0.6666666666666666,
              "#ed7953"
             ],
             [
              0.7777777777777778,
              "#fb9f3a"
             ],
             [
              0.8888888888888888,
              "#fdca26"
             ],
             [
              1,
              "#f0f921"
             ]
            ],
            "type": "contour"
           }
          ],
          "contourcarpet": [
           {
            "colorbar": {
             "outlinewidth": 0,
             "ticks": ""
            },
            "type": "contourcarpet"
           }
          ],
          "heatmap": [
           {
            "colorbar": {
             "outlinewidth": 0,
             "ticks": ""
            },
            "colorscale": [
             [
              0,
              "#0d0887"
             ],
             [
              0.1111111111111111,
              "#46039f"
             ],
             [
              0.2222222222222222,
              "#7201a8"
             ],
             [
              0.3333333333333333,
              "#9c179e"
             ],
             [
              0.4444444444444444,
              "#bd3786"
             ],
             [
              0.5555555555555556,
              "#d8576b"
             ],
             [
              0.6666666666666666,
              "#ed7953"
             ],
             [
              0.7777777777777778,
              "#fb9f3a"
             ],
             [
              0.8888888888888888,
              "#fdca26"
             ],
             [
              1,
              "#f0f921"
             ]
            ],
            "type": "heatmap"
           }
          ],
          "heatmapgl": [
           {
            "colorbar": {
             "outlinewidth": 0,
             "ticks": ""
            },
            "colorscale": [
             [
              0,
              "#0d0887"
             ],
             [
              0.1111111111111111,
              "#46039f"
             ],
             [
              0.2222222222222222,
              "#7201a8"
             ],
             [
              0.3333333333333333,
              "#9c179e"
             ],
             [
              0.4444444444444444,
              "#bd3786"
             ],
             [
              0.5555555555555556,
              "#d8576b"
             ],
             [
              0.6666666666666666,
              "#ed7953"
             ],
             [
              0.7777777777777778,
              "#fb9f3a"
             ],
             [
              0.8888888888888888,
              "#fdca26"
             ],
             [
              1,
              "#f0f921"
             ]
            ],
            "type": "heatmapgl"
           }
          ],
          "histogram": [
           {
            "marker": {
             "colorbar": {
              "outlinewidth": 0,
              "ticks": ""
             }
            },
            "type": "histogram"
           }
          ],
          "histogram2d": [
           {
            "colorbar": {
             "outlinewidth": 0,
             "ticks": ""
            },
            "colorscale": [
             [
              0,
              "#0d0887"
             ],
             [
              0.1111111111111111,
              "#46039f"
             ],
             [
              0.2222222222222222,
              "#7201a8"
             ],
             [
              0.3333333333333333,
              "#9c179e"
             ],
             [
              0.4444444444444444,
              "#bd3786"
             ],
             [
              0.5555555555555556,
              "#d8576b"
             ],
             [
              0.6666666666666666,
              "#ed7953"
             ],
             [
              0.7777777777777778,
              "#fb9f3a"
             ],
             [
              0.8888888888888888,
              "#fdca26"
             ],
             [
              1,
              "#f0f921"
             ]
            ],
            "type": "histogram2d"
           }
          ],
          "histogram2dcontour": [
           {
            "colorbar": {
             "outlinewidth": 0,
             "ticks": ""
            },
            "colorscale": [
             [
              0,
              "#0d0887"
             ],
             [
              0.1111111111111111,
              "#46039f"
             ],
             [
              0.2222222222222222,
              "#7201a8"
             ],
             [
              0.3333333333333333,
              "#9c179e"
             ],
             [
              0.4444444444444444,
              "#bd3786"
             ],
             [
              0.5555555555555556,
              "#d8576b"
             ],
             [
              0.6666666666666666,
              "#ed7953"
             ],
             [
              0.7777777777777778,
              "#fb9f3a"
             ],
             [
              0.8888888888888888,
              "#fdca26"
             ],
             [
              1,
              "#f0f921"
             ]
            ],
            "type": "histogram2dcontour"
           }
          ],
          "mesh3d": [
           {
            "colorbar": {
             "outlinewidth": 0,
             "ticks": ""
            },
            "type": "mesh3d"
           }
          ],
          "parcoords": [
           {
            "line": {
             "colorbar": {
              "outlinewidth": 0,
              "ticks": ""
             }
            },
            "type": "parcoords"
           }
          ],
          "pie": [
           {
            "automargin": true,
            "type": "pie"
           }
          ],
          "scatter": [
           {
            "marker": {
             "colorbar": {
              "outlinewidth": 0,
              "ticks": ""
             }
            },
            "type": "scatter"
           }
          ],
          "scatter3d": [
           {
            "line": {
             "colorbar": {
              "outlinewidth": 0,
              "ticks": ""
             }
            },
            "marker": {
             "colorbar": {
              "outlinewidth": 0,
              "ticks": ""
             }
            },
            "type": "scatter3d"
           }
          ],
          "scattercarpet": [
           {
            "marker": {
             "colorbar": {
              "outlinewidth": 0,
              "ticks": ""
             }
            },
            "type": "scattercarpet"
           }
          ],
          "scattergeo": [
           {
            "marker": {
             "colorbar": {
              "outlinewidth": 0,
              "ticks": ""
             }
            },
            "type": "scattergeo"
           }
          ],
          "scattergl": [
           {
            "marker": {
             "colorbar": {
              "outlinewidth": 0,
              "ticks": ""
             }
            },
            "type": "scattergl"
           }
          ],
          "scattermapbox": [
           {
            "marker": {
             "colorbar": {
              "outlinewidth": 0,
              "ticks": ""
             }
            },
            "type": "scattermapbox"
           }
          ],
          "scatterpolar": [
           {
            "marker": {
             "colorbar": {
              "outlinewidth": 0,
              "ticks": ""
             }
            },
            "type": "scatterpolar"
           }
          ],
          "scatterpolargl": [
           {
            "marker": {
             "colorbar": {
              "outlinewidth": 0,
              "ticks": ""
             }
            },
            "type": "scatterpolargl"
           }
          ],
          "scatterternary": [
           {
            "marker": {
             "colorbar": {
              "outlinewidth": 0,
              "ticks": ""
             }
            },
            "type": "scatterternary"
           }
          ],
          "surface": [
           {
            "colorbar": {
             "outlinewidth": 0,
             "ticks": ""
            },
            "colorscale": [
             [
              0,
              "#0d0887"
             ],
             [
              0.1111111111111111,
              "#46039f"
             ],
             [
              0.2222222222222222,
              "#7201a8"
             ],
             [
              0.3333333333333333,
              "#9c179e"
             ],
             [
              0.4444444444444444,
              "#bd3786"
             ],
             [
              0.5555555555555556,
              "#d8576b"
             ],
             [
              0.6666666666666666,
              "#ed7953"
             ],
             [
              0.7777777777777778,
              "#fb9f3a"
             ],
             [
              0.8888888888888888,
              "#fdca26"
             ],
             [
              1,
              "#f0f921"
             ]
            ],
            "type": "surface"
           }
          ],
          "table": [
           {
            "cells": {
             "fill": {
              "color": "#EBF0F8"
             },
             "line": {
              "color": "white"
             }
            },
            "header": {
             "fill": {
              "color": "#C8D4E3"
             },
             "line": {
              "color": "white"
             }
            },
            "type": "table"
           }
          ]
         },
         "layout": {
          "annotationdefaults": {
           "arrowcolor": "#2a3f5f",
           "arrowhead": 0,
           "arrowwidth": 1
          },
          "coloraxis": {
           "colorbar": {
            "outlinewidth": 0,
            "ticks": ""
           }
          },
          "colorscale": {
           "diverging": [
            [
             0,
             "#8e0152"
            ],
            [
             0.1,
             "#c51b7d"
            ],
            [
             0.2,
             "#de77ae"
            ],
            [
             0.3,
             "#f1b6da"
            ],
            [
             0.4,
             "#fde0ef"
            ],
            [
             0.5,
             "#f7f7f7"
            ],
            [
             0.6,
             "#e6f5d0"
            ],
            [
             0.7,
             "#b8e186"
            ],
            [
             0.8,
             "#7fbc41"
            ],
            [
             0.9,
             "#4d9221"
            ],
            [
             1,
             "#276419"
            ]
           ],
           "sequential": [
            [
             0,
             "#0d0887"
            ],
            [
             0.1111111111111111,
             "#46039f"
            ],
            [
             0.2222222222222222,
             "#7201a8"
            ],
            [
             0.3333333333333333,
             "#9c179e"
            ],
            [
             0.4444444444444444,
             "#bd3786"
            ],
            [
             0.5555555555555556,
             "#d8576b"
            ],
            [
             0.6666666666666666,
             "#ed7953"
            ],
            [
             0.7777777777777778,
             "#fb9f3a"
            ],
            [
             0.8888888888888888,
             "#fdca26"
            ],
            [
             1,
             "#f0f921"
            ]
           ],
           "sequentialminus": [
            [
             0,
             "#0d0887"
            ],
            [
             0.1111111111111111,
             "#46039f"
            ],
            [
             0.2222222222222222,
             "#7201a8"
            ],
            [
             0.3333333333333333,
             "#9c179e"
            ],
            [
             0.4444444444444444,
             "#bd3786"
            ],
            [
             0.5555555555555556,
             "#d8576b"
            ],
            [
             0.6666666666666666,
             "#ed7953"
            ],
            [
             0.7777777777777778,
             "#fb9f3a"
            ],
            [
             0.8888888888888888,
             "#fdca26"
            ],
            [
             1,
             "#f0f921"
            ]
           ]
          },
          "colorway": [
           "#636efa",
           "#EF553B",
           "#00cc96",
           "#ab63fa",
           "#FFA15A",
           "#19d3f3",
           "#FF6692",
           "#B6E880",
           "#FF97FF",
           "#FECB52"
          ],
          "font": {
           "color": "#2a3f5f"
          },
          "geo": {
           "bgcolor": "white",
           "lakecolor": "white",
           "landcolor": "#E5ECF6",
           "showlakes": true,
           "showland": true,
           "subunitcolor": "white"
          },
          "hoverlabel": {
           "align": "left"
          },
          "hovermode": "closest",
          "mapbox": {
           "style": "light"
          },
          "paper_bgcolor": "white",
          "plot_bgcolor": "#E5ECF6",
          "polar": {
           "angularaxis": {
            "gridcolor": "white",
            "linecolor": "white",
            "ticks": ""
           },
           "bgcolor": "#E5ECF6",
           "radialaxis": {
            "gridcolor": "white",
            "linecolor": "white",
            "ticks": ""
           }
          },
          "scene": {
           "xaxis": {
            "backgroundcolor": "#E5ECF6",
            "gridcolor": "white",
            "gridwidth": 2,
            "linecolor": "white",
            "showbackground": true,
            "ticks": "",
            "zerolinecolor": "white"
           },
           "yaxis": {
            "backgroundcolor": "#E5ECF6",
            "gridcolor": "white",
            "gridwidth": 2,
            "linecolor": "white",
            "showbackground": true,
            "ticks": "",
            "zerolinecolor": "white"
           },
           "zaxis": {
            "backgroundcolor": "#E5ECF6",
            "gridcolor": "white",
            "gridwidth": 2,
            "linecolor": "white",
            "showbackground": true,
            "ticks": "",
            "zerolinecolor": "white"
           }
          },
          "shapedefaults": {
           "line": {
            "color": "#2a3f5f"
           }
          },
          "ternary": {
           "aaxis": {
            "gridcolor": "white",
            "linecolor": "white",
            "ticks": ""
           },
           "baxis": {
            "gridcolor": "white",
            "linecolor": "white",
            "ticks": ""
           },
           "bgcolor": "#E5ECF6",
           "caxis": {
            "gridcolor": "white",
            "linecolor": "white",
            "ticks": ""
           }
          },
          "title": {
           "x": 0.05
          },
          "xaxis": {
           "automargin": true,
           "gridcolor": "white",
           "linecolor": "white",
           "ticks": "",
           "title": {
            "standoff": 15
           },
           "zerolinecolor": "white",
           "zerolinewidth": 2
          },
          "yaxis": {
           "automargin": true,
           "gridcolor": "white",
           "linecolor": "white",
           "ticks": "",
           "title": {
            "standoff": 15
           },
           "zerolinecolor": "white",
           "zerolinewidth": 2
          }
         }
        }
       }
      },
      "text/html": [
       "<div>\n",
       "        \n",
       "        \n",
       "            <div id=\"b6425f32-23c8-494d-821e-1c47d635aa85\" class=\"plotly-graph-div\" style=\"height:525px; width:100%;\"></div>\n",
       "            <script type=\"text/javascript\">\n",
       "                require([\"plotly\"], function(Plotly) {\n",
       "                    window.PLOTLYENV=window.PLOTLYENV || {};\n",
       "                    \n",
       "                if (document.getElementById(\"b6425f32-23c8-494d-821e-1c47d635aa85\")) {\n",
       "                    Plotly.newPlot(\n",
       "                        'b6425f32-23c8-494d-821e-1c47d635aa85',\n",
       "                        [{\"domain\": {\"x\": [0, 1], \"y\": [0, 1]}, \"mode\": \"number\", \"number\": {\"suffix\": \" minutes\"}, \"title\": {\"text\": \"Average duration for trips in the weekend\"}, \"type\": \"indicator\", \"value\": 8.741962354042323}],\n",
       "                        {\"template\": {\"data\": {\"bar\": [{\"error_x\": {\"color\": \"#2a3f5f\"}, \"error_y\": {\"color\": \"#2a3f5f\"}, \"marker\": {\"line\": {\"color\": \"#E5ECF6\", \"width\": 0.5}}, \"type\": \"bar\"}], \"barpolar\": [{\"marker\": {\"line\": {\"color\": \"#E5ECF6\", \"width\": 0.5}}, \"type\": \"barpolar\"}], \"carpet\": [{\"aaxis\": {\"endlinecolor\": \"#2a3f5f\", \"gridcolor\": \"white\", \"linecolor\": \"white\", \"minorgridcolor\": \"white\", \"startlinecolor\": \"#2a3f5f\"}, \"baxis\": {\"endlinecolor\": \"#2a3f5f\", \"gridcolor\": \"white\", \"linecolor\": \"white\", \"minorgridcolor\": \"white\", \"startlinecolor\": \"#2a3f5f\"}, \"type\": \"carpet\"}], \"choropleth\": [{\"colorbar\": {\"outlinewidth\": 0, \"ticks\": \"\"}, \"type\": \"choropleth\"}], \"contour\": [{\"colorbar\": {\"outlinewidth\": 0, \"ticks\": \"\"}, \"colorscale\": [[0.0, \"#0d0887\"], [0.1111111111111111, \"#46039f\"], [0.2222222222222222, \"#7201a8\"], [0.3333333333333333, \"#9c179e\"], [0.4444444444444444, \"#bd3786\"], [0.5555555555555556, \"#d8576b\"], [0.6666666666666666, \"#ed7953\"], [0.7777777777777778, \"#fb9f3a\"], [0.8888888888888888, \"#fdca26\"], [1.0, \"#f0f921\"]], \"type\": \"contour\"}], \"contourcarpet\": [{\"colorbar\": {\"outlinewidth\": 0, \"ticks\": \"\"}, \"type\": \"contourcarpet\"}], \"heatmap\": [{\"colorbar\": {\"outlinewidth\": 0, \"ticks\": \"\"}, \"colorscale\": [[0.0, \"#0d0887\"], [0.1111111111111111, \"#46039f\"], [0.2222222222222222, \"#7201a8\"], [0.3333333333333333, \"#9c179e\"], [0.4444444444444444, \"#bd3786\"], [0.5555555555555556, \"#d8576b\"], [0.6666666666666666, \"#ed7953\"], [0.7777777777777778, \"#fb9f3a\"], [0.8888888888888888, \"#fdca26\"], [1.0, \"#f0f921\"]], \"type\": \"heatmap\"}], \"heatmapgl\": [{\"colorbar\": {\"outlinewidth\": 0, \"ticks\": \"\"}, \"colorscale\": [[0.0, \"#0d0887\"], [0.1111111111111111, \"#46039f\"], [0.2222222222222222, \"#7201a8\"], [0.3333333333333333, \"#9c179e\"], [0.4444444444444444, \"#bd3786\"], [0.5555555555555556, \"#d8576b\"], [0.6666666666666666, \"#ed7953\"], [0.7777777777777778, \"#fb9f3a\"], [0.8888888888888888, \"#fdca26\"], [1.0, \"#f0f921\"]], \"type\": \"heatmapgl\"}], \"histogram\": [{\"marker\": {\"colorbar\": {\"outlinewidth\": 0, \"ticks\": \"\"}}, \"type\": \"histogram\"}], \"histogram2d\": [{\"colorbar\": {\"outlinewidth\": 0, \"ticks\": \"\"}, \"colorscale\": [[0.0, \"#0d0887\"], [0.1111111111111111, \"#46039f\"], [0.2222222222222222, \"#7201a8\"], [0.3333333333333333, \"#9c179e\"], [0.4444444444444444, \"#bd3786\"], [0.5555555555555556, \"#d8576b\"], [0.6666666666666666, \"#ed7953\"], [0.7777777777777778, \"#fb9f3a\"], [0.8888888888888888, \"#fdca26\"], [1.0, \"#f0f921\"]], \"type\": \"histogram2d\"}], \"histogram2dcontour\": [{\"colorbar\": {\"outlinewidth\": 0, \"ticks\": \"\"}, \"colorscale\": [[0.0, \"#0d0887\"], [0.1111111111111111, \"#46039f\"], [0.2222222222222222, \"#7201a8\"], [0.3333333333333333, \"#9c179e\"], [0.4444444444444444, \"#bd3786\"], [0.5555555555555556, \"#d8576b\"], [0.6666666666666666, \"#ed7953\"], [0.7777777777777778, \"#fb9f3a\"], [0.8888888888888888, \"#fdca26\"], [1.0, \"#f0f921\"]], \"type\": \"histogram2dcontour\"}], \"mesh3d\": [{\"colorbar\": {\"outlinewidth\": 0, \"ticks\": \"\"}, \"type\": \"mesh3d\"}], \"parcoords\": [{\"line\": {\"colorbar\": {\"outlinewidth\": 0, \"ticks\": \"\"}}, \"type\": \"parcoords\"}], \"pie\": [{\"automargin\": true, \"type\": \"pie\"}], \"scatter\": [{\"marker\": {\"colorbar\": {\"outlinewidth\": 0, \"ticks\": \"\"}}, \"type\": \"scatter\"}], \"scatter3d\": [{\"line\": {\"colorbar\": {\"outlinewidth\": 0, \"ticks\": \"\"}}, \"marker\": {\"colorbar\": {\"outlinewidth\": 0, \"ticks\": \"\"}}, \"type\": \"scatter3d\"}], \"scattercarpet\": [{\"marker\": {\"colorbar\": {\"outlinewidth\": 0, \"ticks\": \"\"}}, \"type\": \"scattercarpet\"}], \"scattergeo\": [{\"marker\": {\"colorbar\": {\"outlinewidth\": 0, \"ticks\": \"\"}}, \"type\": \"scattergeo\"}], \"scattergl\": [{\"marker\": {\"colorbar\": {\"outlinewidth\": 0, \"ticks\": \"\"}}, \"type\": \"scattergl\"}], \"scattermapbox\": [{\"marker\": {\"colorbar\": {\"outlinewidth\": 0, \"ticks\": \"\"}}, \"type\": \"scattermapbox\"}], \"scatterpolar\": [{\"marker\": {\"colorbar\": {\"outlinewidth\": 0, \"ticks\": \"\"}}, \"type\": \"scatterpolar\"}], \"scatterpolargl\": [{\"marker\": {\"colorbar\": {\"outlinewidth\": 0, \"ticks\": \"\"}}, \"type\": \"scatterpolargl\"}], \"scatterternary\": [{\"marker\": {\"colorbar\": {\"outlinewidth\": 0, \"ticks\": \"\"}}, \"type\": \"scatterternary\"}], \"surface\": [{\"colorbar\": {\"outlinewidth\": 0, \"ticks\": \"\"}, \"colorscale\": [[0.0, \"#0d0887\"], [0.1111111111111111, \"#46039f\"], [0.2222222222222222, \"#7201a8\"], [0.3333333333333333, \"#9c179e\"], [0.4444444444444444, \"#bd3786\"], [0.5555555555555556, \"#d8576b\"], [0.6666666666666666, \"#ed7953\"], [0.7777777777777778, \"#fb9f3a\"], [0.8888888888888888, \"#fdca26\"], [1.0, \"#f0f921\"]], \"type\": \"surface\"}], \"table\": [{\"cells\": {\"fill\": {\"color\": \"#EBF0F8\"}, \"line\": {\"color\": \"white\"}}, \"header\": {\"fill\": {\"color\": \"#C8D4E3\"}, \"line\": {\"color\": \"white\"}}, \"type\": \"table\"}]}, \"layout\": {\"annotationdefaults\": {\"arrowcolor\": \"#2a3f5f\", \"arrowhead\": 0, \"arrowwidth\": 1}, \"coloraxis\": {\"colorbar\": {\"outlinewidth\": 0, \"ticks\": \"\"}}, \"colorscale\": {\"diverging\": [[0, \"#8e0152\"], [0.1, \"#c51b7d\"], [0.2, \"#de77ae\"], [0.3, \"#f1b6da\"], [0.4, \"#fde0ef\"], [0.5, \"#f7f7f7\"], [0.6, \"#e6f5d0\"], [0.7, \"#b8e186\"], [0.8, \"#7fbc41\"], [0.9, \"#4d9221\"], [1, \"#276419\"]], \"sequential\": [[0.0, \"#0d0887\"], [0.1111111111111111, \"#46039f\"], [0.2222222222222222, \"#7201a8\"], [0.3333333333333333, \"#9c179e\"], [0.4444444444444444, \"#bd3786\"], [0.5555555555555556, \"#d8576b\"], [0.6666666666666666, \"#ed7953\"], [0.7777777777777778, \"#fb9f3a\"], [0.8888888888888888, \"#fdca26\"], [1.0, \"#f0f921\"]], \"sequentialminus\": [[0.0, \"#0d0887\"], [0.1111111111111111, \"#46039f\"], [0.2222222222222222, \"#7201a8\"], [0.3333333333333333, \"#9c179e\"], [0.4444444444444444, \"#bd3786\"], [0.5555555555555556, \"#d8576b\"], [0.6666666666666666, \"#ed7953\"], [0.7777777777777778, \"#fb9f3a\"], [0.8888888888888888, \"#fdca26\"], [1.0, \"#f0f921\"]]}, \"colorway\": [\"#636efa\", \"#EF553B\", \"#00cc96\", \"#ab63fa\", \"#FFA15A\", \"#19d3f3\", \"#FF6692\", \"#B6E880\", \"#FF97FF\", \"#FECB52\"], \"font\": {\"color\": \"#2a3f5f\"}, \"geo\": {\"bgcolor\": \"white\", \"lakecolor\": \"white\", \"landcolor\": \"#E5ECF6\", \"showlakes\": true, \"showland\": true, \"subunitcolor\": \"white\"}, \"hoverlabel\": {\"align\": \"left\"}, \"hovermode\": \"closest\", \"mapbox\": {\"style\": \"light\"}, \"paper_bgcolor\": \"white\", \"plot_bgcolor\": \"#E5ECF6\", \"polar\": {\"angularaxis\": {\"gridcolor\": \"white\", \"linecolor\": \"white\", \"ticks\": \"\"}, \"bgcolor\": \"#E5ECF6\", \"radialaxis\": {\"gridcolor\": \"white\", \"linecolor\": \"white\", \"ticks\": \"\"}}, \"scene\": {\"xaxis\": {\"backgroundcolor\": \"#E5ECF6\", \"gridcolor\": \"white\", \"gridwidth\": 2, \"linecolor\": \"white\", \"showbackground\": true, \"ticks\": \"\", \"zerolinecolor\": \"white\"}, \"yaxis\": {\"backgroundcolor\": \"#E5ECF6\", \"gridcolor\": \"white\", \"gridwidth\": 2, \"linecolor\": \"white\", \"showbackground\": true, \"ticks\": \"\", \"zerolinecolor\": \"white\"}, \"zaxis\": {\"backgroundcolor\": \"#E5ECF6\", \"gridcolor\": \"white\", \"gridwidth\": 2, \"linecolor\": \"white\", \"showbackground\": true, \"ticks\": \"\", \"zerolinecolor\": \"white\"}}, \"shapedefaults\": {\"line\": {\"color\": \"#2a3f5f\"}}, \"ternary\": {\"aaxis\": {\"gridcolor\": \"white\", \"linecolor\": \"white\", \"ticks\": \"\"}, \"baxis\": {\"gridcolor\": \"white\", \"linecolor\": \"white\", \"ticks\": \"\"}, \"bgcolor\": \"#E5ECF6\", \"caxis\": {\"gridcolor\": \"white\", \"linecolor\": \"white\", \"ticks\": \"\"}}, \"title\": {\"x\": 0.05}, \"xaxis\": {\"automargin\": true, \"gridcolor\": \"white\", \"linecolor\": \"white\", \"ticks\": \"\", \"title\": {\"standoff\": 15}, \"zerolinecolor\": \"white\", \"zerolinewidth\": 2}, \"yaxis\": {\"automargin\": true, \"gridcolor\": \"white\", \"linecolor\": \"white\", \"ticks\": \"\", \"title\": {\"standoff\": 15}, \"zerolinecolor\": \"white\", \"zerolinewidth\": 2}}}},\n",
       "                        {\"responsive\": true}\n",
       "                    ).then(function(){\n",
       "                            \n",
       "var gd = document.getElementById('b6425f32-23c8-494d-821e-1c47d635aa85');\n",
       "var x = new MutationObserver(function (mutations, observer) {{\n",
       "        var display = window.getComputedStyle(gd).display;\n",
       "        if (!display || display === 'none') {{\n",
       "            console.log([gd, 'removed!']);\n",
       "            Plotly.purge(gd);\n",
       "            observer.disconnect();\n",
       "        }}\n",
       "}});\n",
       "\n",
       "// Listen for the removal of the full notebook cells\n",
       "var notebookContainer = gd.closest('#notebook-container');\n",
       "if (notebookContainer) {{\n",
       "    x.observe(notebookContainer, {childList: true});\n",
       "}}\n",
       "\n",
       "// Listen for the clearing of the current output cell\n",
       "var outputEl = gd.closest('.output');\n",
       "if (outputEl) {{\n",
       "    x.observe(outputEl, {childList: true});\n",
       "}}\n",
       "\n",
       "                        })\n",
       "                };\n",
       "                });\n",
       "            </script>\n",
       "        </div>"
      ]
     },
     "metadata": {},
     "output_type": "display_data"
    }
   ],
   "source": [
    "trips_data = trips_data.withColumn(\"trip_duration\",(col(\"dropoff_datetime\").cast(\"timestamp\").cast(\"long\") - col(\"pickup_datetime\").cast(\"timestamp\").cast(\"long\"))/60.)\n",
    "trips_data.createOrReplaceTempView(\"trips\")\n",
    "\n",
    "query = \"\"\"\n",
    "SELECT AVG(trip_duration) as average_trip_duration\n",
    "FROM trips \n",
    "WHERE DAY(pickup_datetime) IN (1,7)\n",
    "\"\"\"\n",
    "\n",
    "trip_duration = spark.sql(query)\n",
    "pd_trip_duration = trip_duration.toPandas()\n",
    "\n",
    "fig = go.Figure(go.Indicator(\n",
    "    title = {'text': \"Average duration for trips in the weekend\"},\n",
    "    mode = \"number\",\n",
    "    value = pd_trip_duration.average_trip_duration[0],\n",
    "    number = {'suffix': \" minutes\"},\n",
    "    domain = {'x': [0, 1], 'y': [0, 1]}))\n",
    "\n",
    "fig.show()"
   ]
  },
  {
   "cell_type": "markdown",
   "metadata": {},
   "source": [
    "### Fazer uma visualização em mapa com latitude e longitude de pickups and dropoffs no ano de 2010"
   ]
  },
  {
   "cell_type": "code",
   "execution_count": 22,
   "metadata": {},
   "outputs": [
    {
     "data": {
      "text/html": [
       "<div>\n",
       "<style scoped>\n",
       "    .dataframe tbody tr th:only-of-type {\n",
       "        vertical-align: middle;\n",
       "    }\n",
       "\n",
       "    .dataframe tbody tr th {\n",
       "        vertical-align: top;\n",
       "    }\n",
       "\n",
       "    .dataframe thead th {\n",
       "        text-align: right;\n",
       "    }\n",
       "</style>\n",
       "<table border=\"1\" class=\"dataframe\">\n",
       "  <thead>\n",
       "    <tr style=\"text-align: right;\">\n",
       "      <th></th>\n",
       "      <th>pickup_latitude</th>\n",
       "      <th>pickup_longitude</th>\n",
       "      <th>dropoff_latitude</th>\n",
       "      <th>dropoff_longitude</th>\n",
       "    </tr>\n",
       "  </thead>\n",
       "  <tbody>\n",
       "    <tr>\n",
       "      <th>0</th>\n",
       "      <td>40.742950</td>\n",
       "      <td>-74.004114</td>\n",
       "      <td>40.747950</td>\n",
       "      <td>-73.994712</td>\n",
       "    </tr>\n",
       "    <tr>\n",
       "      <th>1</th>\n",
       "      <td>40.747784</td>\n",
       "      <td>-73.996506</td>\n",
       "      <td>40.792385</td>\n",
       "      <td>-73.940449</td>\n",
       "    </tr>\n",
       "    <tr>\n",
       "      <th>2</th>\n",
       "      <td>40.752070</td>\n",
       "      <td>-73.951340</td>\n",
       "      <td>40.768108</td>\n",
       "      <td>-73.944535</td>\n",
       "    </tr>\n",
       "    <tr>\n",
       "      <th>3</th>\n",
       "      <td>40.729128</td>\n",
       "      <td>-74.001117</td>\n",
       "      <td>40.721812</td>\n",
       "      <td>-73.958122</td>\n",
       "    </tr>\n",
       "    <tr>\n",
       "      <th>4</th>\n",
       "      <td>40.756873</td>\n",
       "      <td>-73.976600</td>\n",
       "      <td>40.776075</td>\n",
       "      <td>-73.979757</td>\n",
       "    </tr>\n",
       "    <tr>\n",
       "      <th>...</th>\n",
       "      <td>...</td>\n",
       "      <td>...</td>\n",
       "      <td>...</td>\n",
       "      <td>...</td>\n",
       "    </tr>\n",
       "    <tr>\n",
       "      <th>984512</th>\n",
       "      <td>40.737280</td>\n",
       "      <td>-73.988602</td>\n",
       "      <td>40.721065</td>\n",
       "      <td>-73.987888</td>\n",
       "    </tr>\n",
       "    <tr>\n",
       "      <th>984513</th>\n",
       "      <td>40.784441</td>\n",
       "      <td>-73.947063</td>\n",
       "      <td>40.738477</td>\n",
       "      <td>-73.987610</td>\n",
       "    </tr>\n",
       "    <tr>\n",
       "      <th>984514</th>\n",
       "      <td>40.743763</td>\n",
       "      <td>-74.006156</td>\n",
       "      <td>40.764069</td>\n",
       "      <td>-73.974005</td>\n",
       "    </tr>\n",
       "    <tr>\n",
       "      <th>984515</th>\n",
       "      <td>40.783816</td>\n",
       "      <td>-73.979615</td>\n",
       "      <td>40.764176</td>\n",
       "      <td>-73.988470</td>\n",
       "    </tr>\n",
       "    <tr>\n",
       "      <th>984516</th>\n",
       "      <td>40.731162</td>\n",
       "      <td>-73.988829</td>\n",
       "      <td>40.710155</td>\n",
       "      <td>-74.009790</td>\n",
       "    </tr>\n",
       "  </tbody>\n",
       "</table>\n",
       "<p>984517 rows × 4 columns</p>\n",
       "</div>"
      ],
      "text/plain": [
       "        pickup_latitude  pickup_longitude  dropoff_latitude  dropoff_longitude\n",
       "0             40.742950        -74.004114         40.747950         -73.994712\n",
       "1             40.747784        -73.996506         40.792385         -73.940449\n",
       "2             40.752070        -73.951340         40.768108         -73.944535\n",
       "3             40.729128        -74.001117         40.721812         -73.958122\n",
       "4             40.756873        -73.976600         40.776075         -73.979757\n",
       "...                 ...               ...               ...                ...\n",
       "984512        40.737280        -73.988602         40.721065         -73.987888\n",
       "984513        40.784441        -73.947063         40.738477         -73.987610\n",
       "984514        40.743763        -74.006156         40.764069         -73.974005\n",
       "984515        40.783816        -73.979615         40.764176         -73.988470\n",
       "984516        40.731162        -73.988829         40.710155         -74.009790\n",
       "\n",
       "[984517 rows x 4 columns]"
      ]
     },
     "execution_count": 22,
     "metadata": {},
     "output_type": "execute_result"
    }
   ],
   "source": [
    "from pyspark.sql.functions import year \n",
    "trip_coordinates = trips_data.filter(year(trips_data.pickup_datetime)==2010)\\\n",
    "                             .filter(trips_data.pickup_latitude!=0)\\\n",
    "                             .filter(trips_data.pickup_longitude!=0)\\\n",
    "                             .filter(trips_data.dropoff_latitude!=0)\\\n",
    "                             .filter(trips_data.dropoff_longitude!=0)\\\n",
    "                             .select('pickup_latitude', 'pickup_longitude', 'dropoff_latitude', 'dropoff_longitude')\n",
    "\n",
    "trip_coordinates_pd = trip_coordinates.toPandas()"
   ]
  },
  {
   "cell_type": "code",
   "execution_count": 40,
   "metadata": {},
   "outputs": [
    {
     "data": {
      "application/vnd.plotly.v1+json": {
       "config": {
        "plotlyServerURL": "https://plot.ly"
       },
       "data": [
        {
         "lat": [
          40.765967,
          40.768793,
          40.753247,
          40.744243,
          40.730003,
          40.763781,
          40.750186,
          40.729203,
          40.755939,
          40.804183,
          40.647425,
          40.75253,
          40.757141,
          40.75518,
          40.769017,
          40.743849,
          40.744829,
          40.757836,
          40.779302,
          40.755243,
          40.775258,
          40.787012,
          40.777385,
          40.757298,
          40.765862,
          40.740378,
          40.764628,
          40.76405,
          40.749997,
          40.771647,
          40.774053,
          40.732273,
          40.725188,
          40.741054,
          40.750092,
          40.731848,
          40.76357,
          40.752482,
          40.783752,
          40.729292,
          40.760778,
          40.784618,
          40.753223,
          40.744656,
          40.83576,
          40.780692,
          40.778712,
          40.783188,
          40.777108,
          40.764007,
          40.741925,
          40.754515,
          40.781733,
          40.76111,
          40.800153,
          40.769325,
          40.790863,
          40.756476,
          40.720748,
          40.765521,
          40.755857,
          40.780333,
          40.805535,
          40.77587,
          40.760657,
          40.744235,
          40.750217,
          40.719862,
          40.714416,
          40.763079,
          40.796659,
          40.717165,
          40.533107,
          40.757435,
          40.709368,
          40.763455,
          40.762343,
          40.764777,
          40.759267,
          40.76915,
          40.76774,
          40.76006,
          40.790833,
          40.736113,
          40.738802,
          40.767222,
          40.74309,
          40.758725,
          40.758315,
          40.713487,
          40.686795,
          40.773266,
          40.751085,
          40.751177,
          40.75036,
          40.77368,
          40.750397,
          40.761816,
          40.763451,
          40.763027,
          40.767968,
          40.70634,
          40.769552,
          40.77659,
          40.773193,
          40.74207,
          40.760368,
          40.720368,
          40.764631,
          40.776498,
          40.717026,
          40.766738,
          40.756557,
          40.737245,
          40.751652,
          40.77459,
          40.743608,
          40.740081,
          40.782197,
          40.785287,
          40.760907,
          40.745041,
          40.766329,
          40.753812,
          40.773722,
          40.74831,
          40.781938,
          40.766077,
          40.755904,
          40.715432,
          40.778763,
          40.788007,
          40.716282,
          40.785366,
          40.760243,
          40.761543,
          40.711532,
          40.758177,
          40.731479,
          40.738568,
          40.720848,
          40.761725,
          40.745007,
          40.797958,
          40.726121,
          40.742543,
          40.779635,
          40.798835,
          40.763596,
          40.719393,
          40.780137,
          40.761234,
          40.781017,
          40.757308,
          40.787379,
          40.755242,
          40.728889,
          40.71107,
          40.75013,
          40.77411,
          40.752926,
          40.747003,
          40.767269,
          40.758915,
          40.71631,
          40.756408,
          40.75925,
          40.75033,
          40.728807,
          40.777261,
          40.758781,
          40.755988,
          40.743296,
          40.771429,
          40.740297,
          40.766996,
          40.778378,
          40.689055,
          40.755354,
          40.724843,
          40.723226,
          40.777716,
          40.710843,
          40.764819,
          40.759839,
          40.762992,
          40.761557,
          40.744475,
          40.750118,
          40.715273,
          40.717523,
          40.710522,
          41.366138,
          40.796023,
          40.71881,
          40.648623,
          40.705718,
          40.759131,
          40.760727,
          40.761278,
          40.757908,
          40.769004,
          40.715112,
          40.787188,
          40.788432,
          40.746193,
          40.814878,
          40.804344,
          40.754374,
          40.738973,
          40.723172,
          40.744575,
          40.773957,
          40.717317,
          40.75206,
          40.778012,
          40.708091,
          40.777317,
          40.758384,
          40.754577,
          40.754542,
          40.647029,
          40.776228,
          40.735642,
          40.75265,
          40.767085,
          40.756528,
          40.727295,
          40.772893,
          40.762542,
          40.773814,
          40.757538,
          40.730248,
          40.745871,
          40.711215,
          40.753588,
          40.793795,
          40.75247,
          40.72613,
          40.751995,
          40.70896,
          40.805089,
          40.757638,
          40.646195,
          40.737577,
          40.748107,
          40.776363,
          40.775275,
          40.774317,
          40.721368,
          40.747937,
          40.744535,
          40.764243,
          40.719509,
          40.752089,
          40.729052,
          40.721281,
          40.685992,
          40.728185,
          40.745915,
          40.734958,
          40.764045,
          40.752255,
          40.764405,
          40.693807,
          40.721642,
          40.764197,
          40.740014,
          40.771883,
          40.814574,
          40.778648,
          40.763613,
          40.644725,
          40.729202,
          40.79037,
          40.742743,
          40.767767,
          40.741356,
          40.793808,
          40.748968,
          40.744278,
          40.764905,
          40.792767,
          40.759562,
          40.75239,
          40.719495,
          40.730072,
          40.733408,
          40.742382,
          40.742665,
          40.708167,
          40.76822,
          40.725305,
          40.739822,
          40.772402,
          40.769426,
          40.766715,
          40.736875,
          40.742043,
          40.736278,
          40.788073,
          40.729086,
          40.72792,
          40.769003,
          40.760713,
          40.729176,
          40.765857,
          40.766342,
          40.76318,
          40.75699,
          40.76611,
          40.727957,
          40.781605,
          40.764995,
          40.732958,
          40.71801,
          40.778789,
          40.783082,
          40.777057,
          40.760365,
          40.783219,
          40.758917,
          40.78709,
          40.751268,
          40.756384,
          40.781105,
          40.775366,
          40.770258,
          40.759773,
          40.733403,
          40.733558,
          40.761592,
          40.766382,
          40.768853,
          40.75896,
          40.727013,
          40.73667,
          40.717032,
          40.77559,
          40.730431,
          40.76286,
          40.74807,
          40.781457,
          40.759583,
          40.694278,
          40.756777,
          40.72923,
          40.757605,
          40.722087,
          40.766053,
          40.778318,
          40.7681,
          40.715948,
          40.770774,
          40.741144,
          40.711088,
          40.76892,
          40.785378,
          40.748797,
          40.752247,
          40.761305,
          40.768372,
          40.743877,
          40.762779,
          40.756862,
          40.719238,
          40.766595,
          40.754717,
          40.758817,
          40.726835,
          40.7393,
          40.751289,
          40.7636,
          40.705863,
          40.752496,
          40.783477,
          40.760102,
          40.78245,
          40.79322,
          40.731541,
          40.751679,
          40.711196,
          40.718992,
          40.756623,
          40.751323,
          40.76937,
          40.808947,
          40.742062,
          40.725764,
          40.7738,
          40.762638,
          40.780878,
          40.768288,
          40.760685,
          40.734171,
          40.730691,
          40.771667,
          40.731353,
          40.758282,
          40.723367,
          40.750868,
          40.727355,
          40.76493,
          40.760673,
          40.74254,
          40.733433,
          40.745017,
          40.737675,
          40.783058,
          40.768597,
          40.76135,
          40.799559,
          40.734865,
          40.738676,
          40.710756,
          40.719594,
          40.775212,
          40.789491,
          40.778025,
          40.761633,
          40.734932,
          40.74408,
          40.756645,
          40.75212,
          40.73038,
          40.750618,
          40.714761,
          40.742997,
          40.758804,
          40.735013,
          40.786512,
          40.73185,
          40.690301,
          40.783362,
          40.732494,
          40.757275,
          40.764932,
          40.689773,
          40.732,
          40.743968,
          40.74291,
          40.762429,
          40.727193,
          40.754576,
          40.761286,
          40.755227,
          40.706545,
          40.742542,
          40.743433,
          40.787954,
          40.756022,
          40.727842,
          40.742805,
          40.756065,
          40.729013,
          40.758839,
          40.74975,
          40.725534,
          40.74832,
          40.76283,
          40.758162,
          40.747797,
          40.771168,
          40.725502,
          40.752335,
          40.773608,
          40.743283,
          40.753562,
          40.72462,
          40.755814,
          40.763695,
          40.758715,
          40.748815,
          40.786365,
          40.723947,
          40.761508,
          40.769281,
          40.738918,
          40.673622,
          40.70888,
          40.779185,
          40.793735,
          40.767717,
          40.776167,
          40.766605,
          40.779005,
          40.759027,
          40.758598,
          40.784896,
          40.641413,
          40.751193,
          40.757908,
          40.743065,
          40.757087,
          40.718972,
          40.728337,
          40.763741,
          40.75222,
          40.784367,
          40.761895
         ],
         "lon": [
          -73.969742,
          -73.957892,
          -73.977787,
          -73.995573,
          -73.989615,
          -73.965196,
          -73.992291,
          -73.992049,
          -73.970121,
          -73.96669,
          -73.78829,
          -73.97787,
          -73.98837,
          -73.99,
          -73.862688,
          -73.989332,
          -73.978564,
          -73.985519,
          -73.944708,
          -73.979665,
          -73.960613,
          -73.942348,
          -73.959227,
          -73.96976,
          -73.954446,
          -73.994751,
          -73.969339,
          -73.955651,
          -73.991345,
          -73.965515,
          -73.961408,
          -74.007663,
          -74.003165,
          -74.001653,
          -73.994378,
          -73.982338,
          -73.970048,
          -73.976892,
          -73.956518,
          -73.98749,
          -73.980222,
          -73.979302,
          -73.988887,
          -73.97602,
          -73.979801,
          -73.979858,
          -73.958234,
          -73.984686,
          -73.95563,
          -73.964959,
          -73.993415,
          -73.994965,
          -73.953757,
          -73.993598,
          -73.962127,
          -73.952008,
          -73.974769,
          -73.961432,
          -73.995565,
          -73.963733,
          -73.982285,
          -73.957607,
          -73.939073,
          -73.989742,
          -73.979823,
          -73.98338,
          -73.987817,
          -73.989943,
          -74.008207,
          -73.967515,
          -73.970595,
          -74.009498,
          -73.687067,
          -73.975942,
          -74.013598,
          -73.974598,
          -73.986419,
          -73.970594,
          -73.975841,
          -73.961113,
          -73.962008,
          -73.984016,
          -73.936109,
          -73.997633,
          -73.988965,
          -73.954642,
          -73.977217,
          -73.976737,
          -73.986282,
          -73.958255,
          -73.984953,
          -73.985845,
          -73.994413,
          -73.994208,
          -73.987908,
          -73.87062,
          -73.991559,
          -73.974836,
          -73.973753,
          -73.982903,
          -73.986119,
          -74.005908,
          -73.962832,
          -73.979567,
          -73.98038,
          -73.991253,
          -73.987388,
          -73.993715,
          -73.96457,
          -73.952771,
          -73.981031,
          -73.968977,
          -74.003383,
          -73.981208,
          -73.981777,
          -73.982338,
          -73.988175,
          -74.006162,
          -73.976075,
          -73.96941,
          -73.95815,
          -73.984169,
          -73.952542,
          -73.976242,
          -73.981833,
          -73.984917,
          -73.956235,
          -73.986183,
          -73.990582,
          -74.004463,
          -73.958267,
          -73.955602,
          -74.01086,
          -73.977347,
          -73.964452,
          -73.924405,
          -74.008148,
          -73.966033,
          -73.996918,
          -73.99205,
          -73.997496,
          -73.966262,
          -73.982823,
          -73.969392,
          -73.977156,
          -73.984242,
          -73.981822,
          -73.970399,
          -73.971609,
          -74.008713,
          -73.959403,
          -73.981307,
          -73.945769,
          -73.966657,
          -73.954187,
          -73.976028,
          -73.984358,
          -74.015883,
          -73.974073,
          -73.874463,
          -73.975309,
          -74.032823,
          -73.959595,
          -73.962492,
          -73.987685,
          -73.990603,
          -73.988407,
          -73.978282,
          -73.998295,
          -73.959247,
          -73.968051,
          -73.973048,
          -73.972531,
          -73.982317,
          -74.001722,
          -73.970868,
          -73.951437,
          -73.980859,
          -73.975501,
          -73.994083,
          -73.982556,
          -73.95922,
          -73.957898,
          -73.9811,
          -73.995406,
          -73.968423,
          -73.957696,
          -73.981027,
          -73.994958,
          -74.010433,
          -74.009183,
          -73.956746,
          -73.137393,
          -73.961529,
          -73.987994,
          -73.783262,
          -74.01508,
          -73.976108,
          -73.961042,
          -73.974427,
          -73.989178,
          -73.862864,
          -73.944494,
          -73.977609,
          -73.953027,
          -74.001602,
          -73.92356,
          -73.939734,
          -73.974421,
          -73.991515,
          -73.994958,
          -73.98156,
          -73.872852,
          -73.89708,
          -73.97756,
          -73.951998,
          -74.007865,
          -73.978307,
          -73.969696,
          -73.977937,
          -73.968511,
          -73.789265,
          -73.982223,
          -74.001733,
          -73.970522,
          -73.953548,
          -73.969122,
          -73.99335,
          -73.952387,
          -73.986558,
          -73.963961,
          -73.970113,
          -74.006847,
          -73.987847,
          -74.01107,
          -73.985242,
          -73.936972,
          -73.978278,
          -73.996088,
          -73.979655,
          -74.017191,
          -73.966278,
          -73.976525,
          -73.790774,
          -74.004615,
          -73.958168,
          -73.98005,
          -73.95654,
          -73.951156,
          -73.997387,
          -73.987825,
          -73.983402,
          -73.978523,
          -73.997815,
          -73.981786,
          -73.986955,
          -73.993584,
          -73.996386,
          -73.985012,
          -73.985415,
          -73.979896,
          -73.978405,
          -73.970408,
          -73.973322,
          -73.664303,
          -73.995307,
          -73.954377,
          -73.998678,
          -73.965472,
          -73.944131,
          -73.951242,
          -73.97117,
          -73.7823,
          -74.000957,
          -73.97475,
          -73.980473,
          -73.962302,
          -73.978248,
          -73.945199,
          -73.979612,
          -73.985768,
          -73.980465,
          -73.967778,
          -73.995248,
          -73.989633,
          -73.99013,
          -73.978967,
          -74.003048,
          -74.000528,
          -73.992218,
          -74.001873,
          -73.984898,
          -73.99687,
          -73.979445,
          -73.963025,
          -73.989261,
          -73.983091,
          -73.995505,
          -73.974802,
          -73.984697,
          -73.978585,
          -73.987367,
          -73.985103,
          -73.96115,
          -73.984613,
          -73.981208,
          -73.954393,
          -73.983127,
          -73.982305,
          -73.990533,
          -73.97132,
          -73.984999,
          -73.949435,
          -73.982267,
          -73.995853,
          -73.999762,
          -73.981578,
          -73.978288,
          -73.955015,
          -73.975597,
          -73.978542,
          -73.96551,
          -73.975353,
          -73.991393,
          -73.97444,
          -73.9571,
          -73.953515,
          -73.962275,
          -73.991765,
          -74.008272,
          -73.995833,
          -73.974973,
          -73.952684,
          -73.862707,
          -73.981887,
          -73.988778,
          -73.97849,
          -74.037733,
          -73.944365,
          -74.000169,
          -73.973979,
          -73.974721,
          -73.98132,
          -73.976373,
          -73.992515,
          -73.984122,
          -73.989045,
          -73.989047,
          -74.008093,
          -73.997645,
          -73.948252,
          -73.982328,
          -74.009137,
          -73.956761,
          -74.007368,
          -74.016205,
          -73.862675,
          -73.949682,
          -73.97803,
          -73.989813,
          -73.999747,
          -73.982187,
          -73.999058,
          -73.967921,
          -74.005869,
          -73.985637,
          -73.978253,
          -73.967745,
          -73.970025,
          -73.994102,
          -73.98283,
          -73.993993,
          -73.972117,
          -74.006582,
          -73.993413,
          -73.980742,
          -73.981561,
          -73.980705,
          -73.967267,
          -73.982396,
          -73.977576,
          -74.000464,
          -74.004948,
          -73.989933,
          -73.994078,
          -73.982428,
          -73.95816,
          -73.98291,
          -73.986803,
          -73.870639,
          -73.973244,
          -73.972512,
          -73.985947,
          -73.969387,
          -73.98837,
          -74.000737,
          -73.950774,
          -73.985505,
          -73.99081,
          -73.99034,
          -73.998312,
          -73.98554,
          -73.970588,
          -73.99092,
          -73.992957,
          -74.003855,
          -73.982928,
          -74.004887,
          -73.95292,
          -73.987352,
          -73.985463,
          -73.963856,
          -73.990909,
          -73.983412,
          -74.010933,
          -73.991251,
          -73.97669,
          -73.975471,
          -73.945758,
          -73.984072,
          -73.98312,
          -73.986458,
          -73.974978,
          -73.990345,
          -73.931517,
          -73.987358,
          -74.005731,
          -74.003989,
          -73.993571,
          -74.006025,
          -73.952168,
          -73.985528,
          -73.994355,
          -73.974508,
          -73.999116,
          -73.989168,
          -73.97203,
          -73.981545,
          -73.988168,
          -73.995792,
          -73.954067,
          -73.970644,
          -74.003265,
          -73.981823,
          -73.964031,
          -73.972633,
          -74.016707,
          -73.992518,
          -73.98602,
          -73.979292,
          -73.990852,
          -74.005235,
          -73.98855,
          -73.9902,
          -73.987572,
          -73.977311,
          -73.991449,
          -73.989795,
          -73.988142,
          -73.974567,
          -73.960092,
          -73.98732,
          -73.964123,
          -73.996568,
          -73.993421,
          -73.945854,
          -73.979996,
          -73.968388,
          -73.999804,
          -73.973243,
          -73.975072,
          -73.9707,
          -73.97603,
          -73.977753,
          -73.985002,
          -73.970327,
          -73.948753,
          -74.007307,
          -73.982629,
          -73.990908,
          -73.96251,
          -73.9705,
          -73.980452,
          -73.98177,
          -73.812727,
          -73.954218,
          -74.00146,
          -73.970906,
          -73.948485,
          -73.788674,
          -73.994138,
          -73.99308,
          -73.98319,
          -73.966852,
          -74.008822,
          -73.999273,
          -73.975283,
          -74.004579,
          -73.947605,
          -73.986537
         ],
         "marker": {
          "opacity": 0.5,
          "size": 10
         },
         "mode": "markers",
         "name": "Pickups",
         "type": "scattermapbox"
        },
        {
         "lat": [
          40.778488,
          40.762255,
          40.750591,
          40.717707,
          40.730003,
          40.729983,
          40.781245,
          40.668092,
          40.795349,
          40.798242,
          40.671957,
          40.754708,
          40.746514,
          40.758185,
          40.771838,
          40.748943,
          40.758781,
          40.773452,
          40.778608,
          40.765462,
          40.772583,
          40.776673,
          40.761582,
          40.751942,
          40.783306,
          40.738542,
          40.755833,
          40.759386,
          40.76975,
          40.754812,
          40.765015,
          40.713902,
          40.702993,
          40.814518,
          40.743939,
          40.741053,
          40.742342,
          40.747743,
          40.762273,
          40.749558,
          40.780417,
          40.812241,
          40.743773,
          40.743455,
          40.833967,
          40.797048,
          40.784858,
          40.788573,
          40.778993,
          40.764198,
          40.750012,
          40.773335,
          40.774518,
          40.902637,
          40.787015,
          40.736567,
          40.759476,
          40.775345,
          40.718737,
          40.775726,
          40.744777,
          40.775941,
          40.805613,
          40.760245,
          40.78001,
          40.762905,
          40.765411,
          40.792414,
          40.724348,
          40.77725,
          40.801861,
          40.72875,
          40.534683,
          40.766315,
          40.74644,
          40.724925,
          40.734701,
          40.785744,
          40.723149,
          40.77499,
          40.773702,
          40.750921,
          40.790833,
          40.757567,
          40.738802,
          40.750437,
          40.722487,
          40.765203,
          40.774095,
          40.718773,
          40.779889,
          40.798705,
          40.764815,
          40.764808,
          40.76234,
          40.756132,
          40.747257,
          40.787676,
          40.7593,
          40.753933,
          40.757408,
          40.721573,
          40.75626,
          40.770802,
          40.782503,
          40.743362,
          40.771458,
          40.710861,
          40.791256,
          40.766202,
          40.688145,
          40.772725,
          40.746867,
          40.726723,
          40.732725,
          40.758928,
          40.707928,
          40.725509,
          40.777139,
          40.751512,
          40.68768,
          40.751107,
          40.779422,
          40.771524,
          40.780967,
          40.764285,
          40.77981,
          40.7603,
          40.756657,
          40.715432,
          40.764706,
          40.779742,
          40.731912,
          40.792561,
          40.74264,
          40.76694,
          40.736722,
          40.752527,
          40.731643,
          40.75332,
          40.744233,
          40.703133,
          40.688077,
          40.78566,
          40.741188,
          40.744779,
          40.764309,
          40.793915,
          40.779349,
          40.70579,
          40.773173,
          40.739741,
          40.792659,
          40.749767,
          40.782819,
          40.776505,
          40.750755,
          40.743715,
          40.689603,
          40.766195,
          40.756836,
          40.747003,
          40.741186,
          40.771522,
          40.763888,
          40.753463,
          40.758648,
          40.702278,
          40.703539,
          40.763073,
          40.764132,
          40.755137,
          40.851262,
          40.755876,
          40.718413,
          40.762755,
          40.787072,
          40.766664,
          40.730588,
          40.73628,
          40.726346,
          40.768436,
          40.704888,
          40.701481,
          40.766109,
          40.751678,
          40.763772,
          40.720218,
          40.744763,
          40.733125,
          40.721313,
          40.687128,
          40.761518,
          40.755463,
          40.761338,
          40.755042,
          40.723397,
          40.807075,
          40.796398,
          40.756475,
          40.76479,
          40.770141,
          40.711688,
          40.775487,
          40.792668,
          40.720765,
          40.810193,
          40.730412,
          40.733782,
          40.726374,
          40.721128,
          40.706123,
          40.730385,
          40.703538,
          40.775635,
          40.744648,
          40.729731,
          40.781428,
          40.756013,
          40.783056,
          40.774929,
          40.674967,
          40.786665,
          40.771795,
          40.760615,
          40.701762,
          40.778695,
          40.734965,
          40.776712,
          40.771865,
          40.767821,
          40.765805,
          40.750267,
          40.733773,
          40.703865,
          40.776698,
          40.788075,
          40.748545,
          40.73187,
          40.75889,
          40.755096,
          40.788895,
          40.780401,
          40.756424,
          40.760393,
          40.7473,
          40.77384,
          40.785382,
          40.7529,
          40.761273,
          40.738085,
          40.727903,
          40.74903,
          40.715059,
          40.761,
          40.730207,
          40.752384,
          40.692384,
          40.709249,
          40.735488,
          40.680336,
          40.72861,
          40.737482,
          40.741893,
          40.672245,
          40.762997,
          40.774825,
          40.804273,
          40.75933,
          40.804654,
          40.780795,
          40.768745,
          40.763318,
          40.724923,
          40.796748,
          40.748857,
          40.765327,
          40.734399,
          40.787407,
          40.734378,
          40.73427,
          40.762763,
          40.78631,
          40.70999,
          40.737433,
          40.735048,
          40.72188,
          40.790357,
          40.742382,
          40.759053,
          40.73462,
          40.723728,
          40.725673,
          40.744523,
          40.752747,
          40.739606,
          40.727428,
          40.754765,
          40.750158,
          40.768965,
          40.784372,
          40.734109,
          40.735048,
          40.77088,
          40.719923,
          40.742522,
          40.776839,
          40.796838,
          40.753917,
          40.75699,
          40.776407,
          40.749829,
          40.787743,
          40.742232,
          40.723164,
          40.747771,
          40.805379,
          40.793928,
          40.796942,
          40.754537,
          40.754878,
          40.744547,
          40.757478,
          40.757577,
          40.694045,
          40.763255,
          40.752083,
          40.764367,
          40.73948,
          40.735745,
          40.725777,
          40.752037,
          40.764164,
          40.762398,
          40.756805,
          40.678988,
          40.664863,
          40.71704,
          40.77559,
          40.685339,
          40.752501,
          40.761473,
          40.739319,
          40.775037,
          40.71748,
          40.759756,
          40.795323,
          40.724505,
          40.730523,
          40.758615,
          40.811703,
          40.784853,
          40.747462,
          40.755437,
          40.722639,
          40.75949,
          40.758267,
          40.79315,
          40.728783,
          40.710195,
          40.759875,
          40.786633,
          40.764532,
          40.763176,
          40.770858,
          40.729337,
          40.76171,
          40.745123,
          40.749484,
          40.755558,
          40.748832,
          40.734368,
          40.768843,
          40.750423,
          40.766814,
          40.778087,
          40.72517,
          40.758957,
          40.714647,
          40.767365,
          40.742053,
          40.704979,
          40.74211,
          40.760483,
          40.756365,
          40.772372,
          40.840737,
          40.761022,
          40.714051,
          40.706321,
          40.776046,
          40.790474,
          40.736435,
          40.776537,
          40.717503,
          40.726995,
          40.759577,
          40.721575,
          40.730087,
          40.72706,
          40.739352,
          40.77709,
          40.770315,
          40.707918,
          40.758433,
          40.740641,
          40.723525,
          40.73768,
          40.764855,
          40.749903,
          40.774439,
          40.831979,
          40.745543,
          40.717655,
          40.750428,
          40.751687,
          40.766803,
          40.800144,
          40.765925,
          40.753403,
          40.733357,
          40.748057,
          40.729768,
          40.753132,
          40.722073,
          40.748795,
          40.728368,
          40.726368,
          40.728781,
          40.724462,
          40.751283,
          40.684585,
          40.752811,
          40.713264,
          40.721463,
          40.759212,
          40.750252,
          40.697888,
          40.734153,
          40.733448,
          40.76427,
          40.747357,
          40.746533,
          40.74584,
          40.773445,
          40.750205,
          40.765417,
          40.741145,
          40.76256,
          40.745853,
          40.752966,
          40.726067,
          40.716348,
          40.765927,
          40.720663,
          40.757002,
          40.756065,
          40.714194,
          40.753775,
          40.736533,
          40.768467,
          40.801807,
          40.702653,
          40.775457,
          40.747527,
          40.771701,
          40.766889,
          40.750865,
          40.776912,
          40.757504,
          40.776836,
          40.749492,
          40.749978,
          40.786228,
          40.694552,
          40.774336,
          40.701876,
          40.736712,
          40.726288,
          40.709085,
          40.749447,
          40.823494,
          40.72472,
          40.781798,
          40.764837,
          40.76823,
          40.74265,
          40.736988,
          40.774464,
          40.74548,
          40.737975,
          40.769348,
          40.73961,
          40.776156,
          40.72324,
          40.583942,
          40.733462,
          40.734484,
          40.735731,
          40.777393
         ],
         "lon": [
          -73.957282,
          -73.965632,
          -73.990742,
          -74.008967,
          -73.989615,
          -74.000535,
          -73.981682,
          -73.958898,
          -73.943637,
          -73.970955,
          -73.976145,
          -74.007057,
          -73.979454,
          -74.000607,
          -73.981495,
          -73.991503,
          -73.981179,
          -73.981426,
          -73.78057,
          -73.92247,
          -73.961285,
          -73.952568,
          -73.971017,
          -73.970965,
          -73.958352,
          -73.982719,
          -73.962772,
          -73.968772,
          -73.951502,
          -73.978048,
          -73.970472,
          -74.013873,
          -74.013297,
          -73.802556,
          -74.006625,
          -74.005643,
          -73.984715,
          -73.989058,
          -73.985098,
          -73.984323,
          -73.972688,
          -73.962007,
          -73.999028,
          -73.979502,
          -73.981521,
          -73.973633,
          -73.953464,
          -73.981055,
          -73.974032,
          -73.976695,
          -73.981475,
          -73.952103,
          -73.945193,
          -73.864315,
          -73.975207,
          -73.888457,
          -73.96523,
          -73.960365,
          -73.984051,
          -73.956509,
          -73.89598,
          -73.977084,
          -73.961915,
          -73.984823,
          -73.980665,
          -73.973885,
          -73.980118,
          -73.966181,
          -73.993617,
          -73.978317,
          -73.970477,
          -73.987988,
          -73.667603,
          -73.992792,
          -73.990982,
          -73.981421,
          -73.994828,
          -73.956809,
          -73.857963,
          -73.959063,
          -73.963555,
          -73.968413,
          -73.936109,
          -74.000392,
          -73.988965,
          -73.973018,
          -73.993202,
          -73.96619,
          -73.87367,
          -73.988573,
          -73.943668,
          -73.942048,
          -73.984745,
          -73.98695,
          -73.978033,
          -73.973848,
          -73.982368,
          -73.953828,
          -73.985598,
          -73.986036,
          -73.931478,
          -73.99791,
          -73.987892,
          -73.98068,
          -73.978705,
          -73.976913,
          -73.981688,
          -73.959888,
          -73.974009,
          -73.956223,
          -73.975775,
          -73.955807,
          -73.97976,
          -73.989065,
          -73.991197,
          -73.992322,
          -74.008507,
          -73.997381,
          -73.985386,
          -73.990095,
          -74.18174,
          -73.987038,
          -73.955546,
          -73.982075,
          -73.979974,
          -73.982527,
          -73.944543,
          -73.991305,
          -73.979447,
          -74.004463,
          -73.970142,
          -73.957422,
          -74.007817,
          -73.973273,
          -73.980468,
          -73.916923,
          -73.988788,
          -73.972257,
          -73.9855,
          -73.979918,
          -73.975129,
          -74.010823,
          -73.98781,
          -73.969862,
          -73.978428,
          -73.997241,
          -73.963322,
          -73.970341,
          -73.962121,
          -74.016413,
          -73.946188,
          -73.99867,
          -73.972916,
          -73.972265,
          -73.947848,
          -73.948566,
          -74.006483,
          -73.973572,
          -73.994653,
          -73.915152,
          -73.989806,
          -74.032823,
          -73.985717,
          -73.950335,
          -73.970187,
          -73.998872,
          -73.919278,
          -74.012798,
          -74.013108,
          -73.968861,
          -73.965095,
          -73.98641,
          -73.852181,
          -73.972889,
          -74.008734,
          -73.965972,
          -73.97914,
          -73.994182,
          -73.976012,
          -74.00607,
          -73.991588,
          -73.956929,
          -73.933617,
          -74.01197,
          -73.98323,
          -73.982427,
          -73.956212,
          -73.988152,
          -73.980485,
          -73.975542,
          -74.008251,
          -73.965633,
          -73.963346,
          -73.987722,
          -73.923918,
          -73.919955,
          -74.00304,
          -73.941936,
          -73.94747,
          -73.979193,
          -73.974262,
          -73.955514,
          -73.962578,
          -73.982276,
          -73.964728,
          -74.010127,
          -73.924557,
          -73.992882,
          -73.980587,
          -74.002172,
          -73.977808,
          -74.010415,
          -73.989833,
          -73.909355,
          -73.95047,
          -74.004665,
          -73.989652,
          -73.957993,
          -73.979362,
          -73.952928,
          -73.951086,
          -73.969197,
          -73.977772,
          -73.983298,
          -73.97231,
          -74.011478,
          -73.948015,
          -74.000217,
          -73.955123,
          -73.988415,
          -73.965992,
          -73.954483,
          -73.994767,
          -73.998724,
          -74.011698,
          -73.988903,
          -73.938548,
          -73.989988,
          -74.005185,
          -73.957368,
          -73.984358,
          -73.97566,
          -73.972851,
          -73.975451,
          -73.98578,
          -73.956953,
          -73.989,
          -73.951637,
          -73.970238,
          -73.974425,
          -73.992688,
          -73.985615,
          -73.987258,
          -73.990134,
          -73.967438,
          -74.004814,
          -73.993577,
          -73.98722,
          -74.010654,
          -73.994118,
          -73.974777,
          -74.045017,
          -73.997003,
          -74.000947,
          -73.749308,
          -73.917948,
          -73.94897,
          -73.962822,
          -73.97791,
          -73.955299,
          -73.97638,
          -73.962173,
          -73.92188,
          -73.994943,
          -73.970307,
          -73.975603,
          -73.974887,
          -73.989608,
          -73.949919,
          -73.990866,
          -73.990922,
          -73.989112,
          -73.979603,
          -74.010313,
          -74.000462,
          -74.002402,
          -73.98915,
          -73.976693,
          -74.000528,
          -73.992032,
          -74.00713,
          -74.001033,
          -73.97751,
          -73.980432,
          -73.972328,
          -73.997619,
          -73.983145,
          -73.976637,
          -73.988512,
          -73.952687,
          -73.950925,
          -73.998879,
          -74.000183,
          -73.96732,
          -73.988057,
          -73.986893,
          -73.961938,
          -73.960851,
          -73.99095,
          -73.990533,
          -73.962317,
          -73.971888,
          -73.967478,
          -73.97774,
          -73.985699,
          -73.984775,
          -73.961527,
          -73.970192,
          -73.947555,
          -73.988037,
          -73.975822,
          -73.996615,
          -73.9903,
          -74.004292,
          -73.991708,
          -73.975853,
          -73.975641,
          -73.966695,
          -74.002055,
          -74.006638,
          -73.997525,
          -73.982517,
          -73.973125,
          -73.978733,
          -73.988262,
          -73.978783,
          -73.987778,
          -74.037727,
          -73.944365,
          -73.975171,
          -73.993353,
          -73.966419,
          -73.981908,
          -73.959012,
          -74.009063,
          -73.985148,
          -73.935855,
          -73.99828,
          -74.009185,
          -73.985783,
          -73.960943,
          -73.948545,
          -73.996935,
          -73.968131,
          -73.987611,
          -73.989265,
          -73.93061,
          -73.950647,
          -73.976365,
          -74.01475,
          -73.981083,
          -73.986688,
          -73.991848,
          -73.974011,
          -74.000189,
          -73.999945,
          -73.967642,
          -73.97569,
          -73.979662,
          -73.968408,
          -73.973387,
          -73.983434,
          -73.98811,
          -73.978962,
          -73.990182,
          -73.980741,
          -73.984279,
          -73.970402,
          -74.01586,
          -73.955152,
          -73.981027,
          -74.016048,
          -73.98952,
          -73.987468,
          -73.993373,
          -73.96343,
          -73.943097,
          -73.96788,
          -73.990994,
          -74.009551,
          -73.981998,
          -73.953842,
          -73.980708,
          -73.954605,
          -73.988703,
          -73.983776,
          -73.978256,
          -74.004508,
          -73.99397,
          -73.985578,
          -74.006993,
          -73.951942,
          -73.960815,
          -74.006643,
          -73.976944,
          -74.004956,
          -73.988219,
          -74.004885,
          -73.96334,
          -73.991438,
          -73.871839,
          -73.935864,
          -73.998817,
          -73.998284,
          -73.98792,
          -73.973393,
          -73.986607,
          -73.967957,
          -73.978338,
          -73.989408,
          -74.00502,
          -73.987715,
          -73.997077,
          -73.987897,
          -73.983543,
          -73.977953,
          -73.992811,
          -74.005308,
          -73.987554,
          -73.998132,
          -73.990718,
          -73.965088,
          -73.992822,
          -73.949904,
          -73.984026,
          -73.976517,
          -73.992067,
          -73.99446,
          -73.990693,
          -74.003738,
          -73.965108,
          -73.985219,
          -73.9901,
          -73.993028,
          -73.98165,
          -73.991193,
          -73.91592,
          -73.98763,
          -73.972376,
          -73.98648,
          -73.983701,
          -73.997845,
          -73.998102,
          -73.994532,
          -73.989808,
          -73.986023,
          -73.983621,
          -73.997525,
          -73.98055,
          -73.99323,
          -73.955438,
          -73.967113,
          -73.990668,
          -73.977338,
          -73.981964,
          -73.982723,
          -73.953647,
          -73.990412,
          -73.988886,
          -73.974152,
          -73.982373,
          -73.977118,
          -73.991328,
          -73.97977,
          -73.994457,
          -73.961645,
          -74.010843,
          -73.984596,
          -73.98957,
          -73.992307,
          -74.004358,
          -73.95335,
          -73.995722,
          -73.977357,
          -73.816085,
          -73.861575,
          -73.989468,
          -73.978839,
          -73.872981,
          -73.771295,
          -73.987665,
          -73.987132,
          -73.976463,
          -73.955884,
          -73.994005,
          -73.939703,
          -74.006455,
          -74.000017,
          -74.001745,
          -73.974954
         ],
         "marker": {
          "opacity": 0.5,
          "size": 10
         },
         "mode": "markers",
         "name": "Dropoffs",
         "type": "scattermapbox"
        }
       ],
       "layout": {
        "mapbox": {
         "center": {
          "lat": 40.73,
          "lon": -74
         },
         "style": "open-street-map",
         "zoom": 10
        },
        "margin": {
         "b": 0,
         "l": 0,
         "r": 0,
         "t": 0
        },
        "template": {
         "data": {
          "bar": [
           {
            "error_x": {
             "color": "#2a3f5f"
            },
            "error_y": {
             "color": "#2a3f5f"
            },
            "marker": {
             "line": {
              "color": "#E5ECF6",
              "width": 0.5
             }
            },
            "type": "bar"
           }
          ],
          "barpolar": [
           {
            "marker": {
             "line": {
              "color": "#E5ECF6",
              "width": 0.5
             }
            },
            "type": "barpolar"
           }
          ],
          "carpet": [
           {
            "aaxis": {
             "endlinecolor": "#2a3f5f",
             "gridcolor": "white",
             "linecolor": "white",
             "minorgridcolor": "white",
             "startlinecolor": "#2a3f5f"
            },
            "baxis": {
             "endlinecolor": "#2a3f5f",
             "gridcolor": "white",
             "linecolor": "white",
             "minorgridcolor": "white",
             "startlinecolor": "#2a3f5f"
            },
            "type": "carpet"
           }
          ],
          "choropleth": [
           {
            "colorbar": {
             "outlinewidth": 0,
             "ticks": ""
            },
            "type": "choropleth"
           }
          ],
          "contour": [
           {
            "colorbar": {
             "outlinewidth": 0,
             "ticks": ""
            },
            "colorscale": [
             [
              0,
              "#0d0887"
             ],
             [
              0.1111111111111111,
              "#46039f"
             ],
             [
              0.2222222222222222,
              "#7201a8"
             ],
             [
              0.3333333333333333,
              "#9c179e"
             ],
             [
              0.4444444444444444,
              "#bd3786"
             ],
             [
              0.5555555555555556,
              "#d8576b"
             ],
             [
              0.6666666666666666,
              "#ed7953"
             ],
             [
              0.7777777777777778,
              "#fb9f3a"
             ],
             [
              0.8888888888888888,
              "#fdca26"
             ],
             [
              1,
              "#f0f921"
             ]
            ],
            "type": "contour"
           }
          ],
          "contourcarpet": [
           {
            "colorbar": {
             "outlinewidth": 0,
             "ticks": ""
            },
            "type": "contourcarpet"
           }
          ],
          "heatmap": [
           {
            "colorbar": {
             "outlinewidth": 0,
             "ticks": ""
            },
            "colorscale": [
             [
              0,
              "#0d0887"
             ],
             [
              0.1111111111111111,
              "#46039f"
             ],
             [
              0.2222222222222222,
              "#7201a8"
             ],
             [
              0.3333333333333333,
              "#9c179e"
             ],
             [
              0.4444444444444444,
              "#bd3786"
             ],
             [
              0.5555555555555556,
              "#d8576b"
             ],
             [
              0.6666666666666666,
              "#ed7953"
             ],
             [
              0.7777777777777778,
              "#fb9f3a"
             ],
             [
              0.8888888888888888,
              "#fdca26"
             ],
             [
              1,
              "#f0f921"
             ]
            ],
            "type": "heatmap"
           }
          ],
          "heatmapgl": [
           {
            "colorbar": {
             "outlinewidth": 0,
             "ticks": ""
            },
            "colorscale": [
             [
              0,
              "#0d0887"
             ],
             [
              0.1111111111111111,
              "#46039f"
             ],
             [
              0.2222222222222222,
              "#7201a8"
             ],
             [
              0.3333333333333333,
              "#9c179e"
             ],
             [
              0.4444444444444444,
              "#bd3786"
             ],
             [
              0.5555555555555556,
              "#d8576b"
             ],
             [
              0.6666666666666666,
              "#ed7953"
             ],
             [
              0.7777777777777778,
              "#fb9f3a"
             ],
             [
              0.8888888888888888,
              "#fdca26"
             ],
             [
              1,
              "#f0f921"
             ]
            ],
            "type": "heatmapgl"
           }
          ],
          "histogram": [
           {
            "marker": {
             "colorbar": {
              "outlinewidth": 0,
              "ticks": ""
             }
            },
            "type": "histogram"
           }
          ],
          "histogram2d": [
           {
            "colorbar": {
             "outlinewidth": 0,
             "ticks": ""
            },
            "colorscale": [
             [
              0,
              "#0d0887"
             ],
             [
              0.1111111111111111,
              "#46039f"
             ],
             [
              0.2222222222222222,
              "#7201a8"
             ],
             [
              0.3333333333333333,
              "#9c179e"
             ],
             [
              0.4444444444444444,
              "#bd3786"
             ],
             [
              0.5555555555555556,
              "#d8576b"
             ],
             [
              0.6666666666666666,
              "#ed7953"
             ],
             [
              0.7777777777777778,
              "#fb9f3a"
             ],
             [
              0.8888888888888888,
              "#fdca26"
             ],
             [
              1,
              "#f0f921"
             ]
            ],
            "type": "histogram2d"
           }
          ],
          "histogram2dcontour": [
           {
            "colorbar": {
             "outlinewidth": 0,
             "ticks": ""
            },
            "colorscale": [
             [
              0,
              "#0d0887"
             ],
             [
              0.1111111111111111,
              "#46039f"
             ],
             [
              0.2222222222222222,
              "#7201a8"
             ],
             [
              0.3333333333333333,
              "#9c179e"
             ],
             [
              0.4444444444444444,
              "#bd3786"
             ],
             [
              0.5555555555555556,
              "#d8576b"
             ],
             [
              0.6666666666666666,
              "#ed7953"
             ],
             [
              0.7777777777777778,
              "#fb9f3a"
             ],
             [
              0.8888888888888888,
              "#fdca26"
             ],
             [
              1,
              "#f0f921"
             ]
            ],
            "type": "histogram2dcontour"
           }
          ],
          "mesh3d": [
           {
            "colorbar": {
             "outlinewidth": 0,
             "ticks": ""
            },
            "type": "mesh3d"
           }
          ],
          "parcoords": [
           {
            "line": {
             "colorbar": {
              "outlinewidth": 0,
              "ticks": ""
             }
            },
            "type": "parcoords"
           }
          ],
          "pie": [
           {
            "automargin": true,
            "type": "pie"
           }
          ],
          "scatter": [
           {
            "marker": {
             "colorbar": {
              "outlinewidth": 0,
              "ticks": ""
             }
            },
            "type": "scatter"
           }
          ],
          "scatter3d": [
           {
            "line": {
             "colorbar": {
              "outlinewidth": 0,
              "ticks": ""
             }
            },
            "marker": {
             "colorbar": {
              "outlinewidth": 0,
              "ticks": ""
             }
            },
            "type": "scatter3d"
           }
          ],
          "scattercarpet": [
           {
            "marker": {
             "colorbar": {
              "outlinewidth": 0,
              "ticks": ""
             }
            },
            "type": "scattercarpet"
           }
          ],
          "scattergeo": [
           {
            "marker": {
             "colorbar": {
              "outlinewidth": 0,
              "ticks": ""
             }
            },
            "type": "scattergeo"
           }
          ],
          "scattergl": [
           {
            "marker": {
             "colorbar": {
              "outlinewidth": 0,
              "ticks": ""
             }
            },
            "type": "scattergl"
           }
          ],
          "scattermapbox": [
           {
            "marker": {
             "colorbar": {
              "outlinewidth": 0,
              "ticks": ""
             }
            },
            "type": "scattermapbox"
           }
          ],
          "scatterpolar": [
           {
            "marker": {
             "colorbar": {
              "outlinewidth": 0,
              "ticks": ""
             }
            },
            "type": "scatterpolar"
           }
          ],
          "scatterpolargl": [
           {
            "marker": {
             "colorbar": {
              "outlinewidth": 0,
              "ticks": ""
             }
            },
            "type": "scatterpolargl"
           }
          ],
          "scatterternary": [
           {
            "marker": {
             "colorbar": {
              "outlinewidth": 0,
              "ticks": ""
             }
            },
            "type": "scatterternary"
           }
          ],
          "surface": [
           {
            "colorbar": {
             "outlinewidth": 0,
             "ticks": ""
            },
            "colorscale": [
             [
              0,
              "#0d0887"
             ],
             [
              0.1111111111111111,
              "#46039f"
             ],
             [
              0.2222222222222222,
              "#7201a8"
             ],
             [
              0.3333333333333333,
              "#9c179e"
             ],
             [
              0.4444444444444444,
              "#bd3786"
             ],
             [
              0.5555555555555556,
              "#d8576b"
             ],
             [
              0.6666666666666666,
              "#ed7953"
             ],
             [
              0.7777777777777778,
              "#fb9f3a"
             ],
             [
              0.8888888888888888,
              "#fdca26"
             ],
             [
              1,
              "#f0f921"
             ]
            ],
            "type": "surface"
           }
          ],
          "table": [
           {
            "cells": {
             "fill": {
              "color": "#EBF0F8"
             },
             "line": {
              "color": "white"
             }
            },
            "header": {
             "fill": {
              "color": "#C8D4E3"
             },
             "line": {
              "color": "white"
             }
            },
            "type": "table"
           }
          ]
         },
         "layout": {
          "annotationdefaults": {
           "arrowcolor": "#2a3f5f",
           "arrowhead": 0,
           "arrowwidth": 1
          },
          "coloraxis": {
           "colorbar": {
            "outlinewidth": 0,
            "ticks": ""
           }
          },
          "colorscale": {
           "diverging": [
            [
             0,
             "#8e0152"
            ],
            [
             0.1,
             "#c51b7d"
            ],
            [
             0.2,
             "#de77ae"
            ],
            [
             0.3,
             "#f1b6da"
            ],
            [
             0.4,
             "#fde0ef"
            ],
            [
             0.5,
             "#f7f7f7"
            ],
            [
             0.6,
             "#e6f5d0"
            ],
            [
             0.7,
             "#b8e186"
            ],
            [
             0.8,
             "#7fbc41"
            ],
            [
             0.9,
             "#4d9221"
            ],
            [
             1,
             "#276419"
            ]
           ],
           "sequential": [
            [
             0,
             "#0d0887"
            ],
            [
             0.1111111111111111,
             "#46039f"
            ],
            [
             0.2222222222222222,
             "#7201a8"
            ],
            [
             0.3333333333333333,
             "#9c179e"
            ],
            [
             0.4444444444444444,
             "#bd3786"
            ],
            [
             0.5555555555555556,
             "#d8576b"
            ],
            [
             0.6666666666666666,
             "#ed7953"
            ],
            [
             0.7777777777777778,
             "#fb9f3a"
            ],
            [
             0.8888888888888888,
             "#fdca26"
            ],
            [
             1,
             "#f0f921"
            ]
           ],
           "sequentialminus": [
            [
             0,
             "#0d0887"
            ],
            [
             0.1111111111111111,
             "#46039f"
            ],
            [
             0.2222222222222222,
             "#7201a8"
            ],
            [
             0.3333333333333333,
             "#9c179e"
            ],
            [
             0.4444444444444444,
             "#bd3786"
            ],
            [
             0.5555555555555556,
             "#d8576b"
            ],
            [
             0.6666666666666666,
             "#ed7953"
            ],
            [
             0.7777777777777778,
             "#fb9f3a"
            ],
            [
             0.8888888888888888,
             "#fdca26"
            ],
            [
             1,
             "#f0f921"
            ]
           ]
          },
          "colorway": [
           "#636efa",
           "#EF553B",
           "#00cc96",
           "#ab63fa",
           "#FFA15A",
           "#19d3f3",
           "#FF6692",
           "#B6E880",
           "#FF97FF",
           "#FECB52"
          ],
          "font": {
           "color": "#2a3f5f"
          },
          "geo": {
           "bgcolor": "white",
           "lakecolor": "white",
           "landcolor": "#E5ECF6",
           "showlakes": true,
           "showland": true,
           "subunitcolor": "white"
          },
          "hoverlabel": {
           "align": "left"
          },
          "hovermode": "closest",
          "mapbox": {
           "style": "light"
          },
          "paper_bgcolor": "white",
          "plot_bgcolor": "#E5ECF6",
          "polar": {
           "angularaxis": {
            "gridcolor": "white",
            "linecolor": "white",
            "ticks": ""
           },
           "bgcolor": "#E5ECF6",
           "radialaxis": {
            "gridcolor": "white",
            "linecolor": "white",
            "ticks": ""
           }
          },
          "scene": {
           "xaxis": {
            "backgroundcolor": "#E5ECF6",
            "gridcolor": "white",
            "gridwidth": 2,
            "linecolor": "white",
            "showbackground": true,
            "ticks": "",
            "zerolinecolor": "white"
           },
           "yaxis": {
            "backgroundcolor": "#E5ECF6",
            "gridcolor": "white",
            "gridwidth": 2,
            "linecolor": "white",
            "showbackground": true,
            "ticks": "",
            "zerolinecolor": "white"
           },
           "zaxis": {
            "backgroundcolor": "#E5ECF6",
            "gridcolor": "white",
            "gridwidth": 2,
            "linecolor": "white",
            "showbackground": true,
            "ticks": "",
            "zerolinecolor": "white"
           }
          },
          "shapedefaults": {
           "line": {
            "color": "#2a3f5f"
           }
          },
          "ternary": {
           "aaxis": {
            "gridcolor": "white",
            "linecolor": "white",
            "ticks": ""
           },
           "baxis": {
            "gridcolor": "white",
            "linecolor": "white",
            "ticks": ""
           },
           "bgcolor": "#E5ECF6",
           "caxis": {
            "gridcolor": "white",
            "linecolor": "white",
            "ticks": ""
           }
          },
          "title": {
           "x": 0.05
          },
          "xaxis": {
           "automargin": true,
           "gridcolor": "white",
           "linecolor": "white",
           "ticks": "",
           "title": {
            "standoff": 15
           },
           "zerolinecolor": "white",
           "zerolinewidth": 2
          },
          "yaxis": {
           "automargin": true,
           "gridcolor": "white",
           "linecolor": "white",
           "ticks": "",
           "title": {
            "standoff": 15
           },
           "zerolinecolor": "white",
           "zerolinewidth": 2
          }
         }
        }
       }
      },
      "text/html": [
       "<div>\n",
       "        \n",
       "        \n",
       "            <div id=\"3a38b5a9-6cf6-40dd-a53b-9bee74ad2783\" class=\"plotly-graph-div\" style=\"height:525px; width:100%;\"></div>\n",
       "            <script type=\"text/javascript\">\n",
       "                require([\"plotly\"], function(Plotly) {\n",
       "                    window.PLOTLYENV=window.PLOTLYENV || {};\n",
       "                    \n",
       "                if (document.getElementById(\"3a38b5a9-6cf6-40dd-a53b-9bee74ad2783\")) {\n",
       "                    Plotly.newPlot(\n",
       "                        '3a38b5a9-6cf6-40dd-a53b-9bee74ad2783',\n",
       "                        [{\"lat\": [40.765967, 40.768793, 40.753247, 40.744243, 40.730003, 40.763781, 40.750186, 40.729203, 40.755939, 40.804183, 40.647425, 40.75253, 40.757141, 40.75518, 40.769017, 40.743849, 40.744829, 40.757836, 40.779302, 40.755243, 40.775258, 40.787012, 40.777385, 40.757298, 40.765862, 40.740378, 40.764628, 40.76405, 40.749997, 40.771647, 40.774053, 40.732273, 40.725188, 40.741054, 40.750092, 40.731848, 40.76357, 40.752482, 40.783752, 40.729292, 40.760778, 40.784618, 40.753223, 40.744656, 40.83576, 40.780692, 40.778712, 40.783188, 40.777108, 40.764007, 40.741925, 40.754515, 40.781733, 40.76111, 40.800153, 40.769325, 40.790863, 40.756476, 40.720748, 40.765521, 40.755857, 40.780333, 40.805535, 40.77587, 40.760657, 40.744235, 40.750217, 40.719862, 40.714416, 40.763079, 40.796659, 40.717165, 40.533107, 40.757435, 40.709368, 40.763455, 40.762343, 40.764777, 40.759267, 40.76915, 40.76774, 40.76006, 40.790833, 40.736113, 40.738802, 40.767222, 40.74309, 40.758725, 40.758315, 40.713487, 40.686795, 40.773266, 40.751085, 40.751177, 40.75036, 40.77368, 40.750397, 40.761816, 40.763451, 40.763027, 40.767968, 40.70634, 40.769552, 40.77659, 40.773193, 40.74207, 40.760368, 40.720368, 40.764631, 40.776498, 40.717026, 40.766738, 40.756557, 40.737245, 40.751652, 40.77459, 40.743608, 40.740081, 40.782197, 40.785287, 40.760907, 40.745041, 40.766329, 40.753812, 40.773722, 40.74831, 40.781938, 40.766077, 40.755904, 40.715432, 40.778763, 40.788007, 40.716282, 40.785366, 40.760243, 40.761543, 40.711532, 40.758177, 40.731479, 40.738568, 40.720848, 40.761725, 40.745007, 40.797958, 40.726121, 40.742543, 40.779635, 40.798835, 40.763596, 40.719393, 40.780137, 40.761234, 40.781017, 40.757308, 40.787379, 40.755242, 40.728889, 40.71107, 40.75013, 40.77411, 40.752926, 40.747003, 40.767269, 40.758915, 40.71631, 40.756408, 40.75925, 40.75033, 40.728807, 40.777261, 40.758781, 40.755988, 40.743296, 40.771429, 40.740297, 40.766996, 40.778378, 40.689055, 40.755354, 40.724843, 40.723226, 40.777716, 40.710843, 40.764819, 40.759839, 40.762992, 40.761557, 40.744475, 40.750118, 40.715273, 40.717523, 40.710522, 41.366138, 40.796023, 40.71881, 40.648623, 40.705718, 40.759131, 40.760727, 40.761278, 40.757908, 40.769004, 40.715112, 40.787188, 40.788432, 40.746193, 40.814878, 40.804344, 40.754374, 40.738973, 40.723172, 40.744575, 40.773957, 40.717317, 40.75206, 40.778012, 40.708091, 40.777317, 40.758384, 40.754577, 40.754542, 40.647029, 40.776228, 40.735642, 40.75265, 40.767085, 40.756528, 40.727295, 40.772893, 40.762542, 40.773814, 40.757538, 40.730248, 40.745871, 40.711215, 40.753588, 40.793795, 40.75247, 40.72613, 40.751995, 40.70896, 40.805089, 40.757638, 40.646195, 40.737577, 40.748107, 40.776363, 40.775275, 40.774317, 40.721368, 40.747937, 40.744535, 40.764243, 40.719509, 40.752089, 40.729052, 40.721281, 40.685992, 40.728185, 40.745915, 40.734958, 40.764045, 40.752255, 40.764405, 40.693807, 40.721642, 40.764197, 40.740014, 40.771883, 40.814574, 40.778648, 40.763613, 40.644725, 40.729202, 40.79037, 40.742743, 40.767767, 40.741356, 40.793808, 40.748968, 40.744278, 40.764905, 40.792767, 40.759562, 40.75239, 40.719495, 40.730072, 40.733408, 40.742382, 40.742665, 40.708167, 40.76822, 40.725305, 40.739822, 40.772402, 40.769426, 40.766715, 40.736875, 40.742043, 40.736278, 40.788073, 40.729086, 40.72792, 40.769003, 40.760713, 40.729176, 40.765857, 40.766342, 40.76318, 40.75699, 40.76611, 40.727957, 40.781605, 40.764995, 40.732958, 40.71801, 40.778789, 40.783082, 40.777057, 40.760365, 40.783219, 40.758917, 40.78709, 40.751268, 40.756384, 40.781105, 40.775366, 40.770258, 40.759773, 40.733403, 40.733558, 40.761592, 40.766382, 40.768853, 40.75896, 40.727013, 40.73667, 40.717032, 40.77559, 40.730431, 40.76286, 40.74807, 40.781457, 40.759583, 40.694278, 40.756777, 40.72923, 40.757605, 40.722087, 40.766053, 40.778318, 40.7681, 40.715948, 40.770774, 40.741144, 40.711088, 40.76892, 40.785378, 40.748797, 40.752247, 40.761305, 40.768372, 40.743877, 40.762779, 40.756862, 40.719238, 40.766595, 40.754717, 40.758817, 40.726835, 40.7393, 40.751289, 40.7636, 40.705863, 40.752496, 40.783477, 40.760102, 40.78245, 40.79322, 40.731541, 40.751679, 40.711196, 40.718992, 40.756623, 40.751323, 40.76937, 40.808947, 40.742062, 40.725764, 40.7738, 40.762638, 40.780878, 40.768288, 40.760685, 40.734171, 40.730691, 40.771667, 40.731353, 40.758282, 40.723367, 40.750868, 40.727355, 40.76493, 40.760673, 40.74254, 40.733433, 40.745017, 40.737675, 40.783058, 40.768597, 40.76135, 40.799559, 40.734865, 40.738676, 40.710756, 40.719594, 40.775212, 40.789491, 40.778025, 40.761633, 40.734932, 40.74408, 40.756645, 40.75212, 40.73038, 40.750618, 40.714761, 40.742997, 40.758804, 40.735013, 40.786512, 40.73185, 40.690301, 40.783362, 40.732494, 40.757275, 40.764932, 40.689773, 40.732, 40.743968, 40.74291, 40.762429, 40.727193, 40.754576, 40.761286, 40.755227, 40.706545, 40.742542, 40.743433, 40.787954, 40.756022, 40.727842, 40.742805, 40.756065, 40.729013, 40.758839, 40.74975, 40.725534, 40.74832, 40.76283, 40.758162, 40.747797, 40.771168, 40.725502, 40.752335, 40.773608, 40.743283, 40.753562, 40.72462, 40.755814, 40.763695, 40.758715, 40.748815, 40.786365, 40.723947, 40.761508, 40.769281, 40.738918, 40.673622, 40.70888, 40.779185, 40.793735, 40.767717, 40.776167, 40.766605, 40.779005, 40.759027, 40.758598, 40.784896, 40.641413, 40.751193, 40.757908, 40.743065, 40.757087, 40.718972, 40.728337, 40.763741, 40.75222, 40.784367, 40.761895], \"lon\": [-73.969742, -73.957892, -73.977787, -73.995573, -73.989615, -73.965196, -73.992291, -73.992049, -73.970121, -73.96669, -73.78829, -73.97787, -73.98837, -73.99, -73.862688, -73.989332, -73.978564, -73.985519, -73.944708, -73.979665, -73.960613, -73.942348, -73.959227, -73.96976, -73.954446, -73.994751, -73.969339, -73.955651, -73.991345, -73.965515, -73.961408, -74.007663, -74.003165, -74.001653, -73.994378, -73.982338, -73.970048, -73.976892, -73.956518, -73.98749, -73.980222, -73.979302, -73.988887, -73.97602, -73.979801, -73.979858, -73.958234, -73.984686, -73.95563, -73.964959, -73.993415, -73.994965, -73.953757, -73.993598, -73.962127, -73.952008, -73.974769, -73.961432, -73.995565, -73.963733, -73.982285, -73.957607, -73.939073, -73.989742, -73.979823, -73.98338, -73.987817, -73.989943, -74.008207, -73.967515, -73.970595, -74.009498, -73.687067, -73.975942, -74.013598, -73.974598, -73.986419, -73.970594, -73.975841, -73.961113, -73.962008, -73.984016, -73.936109, -73.997633, -73.988965, -73.954642, -73.977217, -73.976737, -73.986282, -73.958255, -73.984953, -73.985845, -73.994413, -73.994208, -73.987908, -73.87062, -73.991559, -73.974836, -73.973753, -73.982903, -73.986119, -74.005908, -73.962832, -73.979567, -73.98038, -73.991253, -73.987388, -73.993715, -73.96457, -73.952771, -73.981031, -73.968977, -74.003383, -73.981208, -73.981777, -73.982338, -73.988175, -74.006162, -73.976075, -73.96941, -73.95815, -73.984169, -73.952542, -73.976242, -73.981833, -73.984917, -73.956235, -73.986183, -73.990582, -74.004463, -73.958267, -73.955602, -74.01086, -73.977347, -73.964452, -73.924405, -74.008148, -73.966033, -73.996918, -73.99205, -73.997496, -73.966262, -73.982823, -73.969392, -73.977156, -73.984242, -73.981822, -73.970399, -73.971609, -74.008713, -73.959403, -73.981307, -73.945769, -73.966657, -73.954187, -73.976028, -73.984358, -74.015883, -73.974073, -73.874463, -73.975309, -74.032823, -73.959595, -73.962492, -73.987685, -73.990603, -73.988407, -73.978282, -73.998295, -73.959247, -73.968051, -73.973048, -73.972531, -73.982317, -74.001722, -73.970868, -73.951437, -73.980859, -73.975501, -73.994083, -73.982556, -73.95922, -73.957898, -73.9811, -73.995406, -73.968423, -73.957696, -73.981027, -73.994958, -74.010433, -74.009183, -73.956746, -73.137393, -73.961529, -73.987994, -73.783262, -74.01508, -73.976108, -73.961042, -73.974427, -73.989178, -73.862864, -73.944494, -73.977609, -73.953027, -74.001602, -73.92356, -73.939734, -73.974421, -73.991515, -73.994958, -73.98156, -73.872852, -73.89708, -73.97756, -73.951998, -74.007865, -73.978307, -73.969696, -73.977937, -73.968511, -73.789265, -73.982223, -74.001733, -73.970522, -73.953548, -73.969122, -73.99335, -73.952387, -73.986558, -73.963961, -73.970113, -74.006847, -73.987847, -74.01107, -73.985242, -73.936972, -73.978278, -73.996088, -73.979655, -74.017191, -73.966278, -73.976525, -73.790774, -74.004615, -73.958168, -73.98005, -73.95654, -73.951156, -73.997387, -73.987825, -73.983402, -73.978523, -73.997815, -73.981786, -73.986955, -73.993584, -73.996386, -73.985012, -73.985415, -73.979896, -73.978405, -73.970408, -73.973322, -73.664303, -73.995307, -73.954377, -73.998678, -73.965472, -73.944131, -73.951242, -73.97117, -73.7823, -74.000957, -73.97475, -73.980473, -73.962302, -73.978248, -73.945199, -73.979612, -73.985768, -73.980465, -73.967778, -73.995248, -73.989633, -73.99013, -73.978967, -74.003048, -74.000528, -73.992218, -74.001873, -73.984898, -73.99687, -73.979445, -73.963025, -73.989261, -73.983091, -73.995505, -73.974802, -73.984697, -73.978585, -73.987367, -73.985103, -73.96115, -73.984613, -73.981208, -73.954393, -73.983127, -73.982305, -73.990533, -73.97132, -73.984999, -73.949435, -73.982267, -73.995853, -73.999762, -73.981578, -73.978288, -73.955015, -73.975597, -73.978542, -73.96551, -73.975353, -73.991393, -73.97444, -73.9571, -73.953515, -73.962275, -73.991765, -74.008272, -73.995833, -73.974973, -73.952684, -73.862707, -73.981887, -73.988778, -73.97849, -74.037733, -73.944365, -74.000169, -73.973979, -73.974721, -73.98132, -73.976373, -73.992515, -73.984122, -73.989045, -73.989047, -74.008093, -73.997645, -73.948252, -73.982328, -74.009137, -73.956761, -74.007368, -74.016205, -73.862675, -73.949682, -73.97803, -73.989813, -73.999747, -73.982187, -73.999058, -73.967921, -74.005869, -73.985637, -73.978253, -73.967745, -73.970025, -73.994102, -73.98283, -73.993993, -73.972117, -74.006582, -73.993413, -73.980742, -73.981561, -73.980705, -73.967267, -73.982396, -73.977576, -74.000464, -74.004948, -73.989933, -73.994078, -73.982428, -73.95816, -73.98291, -73.986803, -73.870639, -73.973244, -73.972512, -73.985947, -73.969387, -73.98837, -74.000737, -73.950774, -73.985505, -73.99081, -73.99034, -73.998312, -73.98554, -73.970588, -73.99092, -73.992957, -74.003855, -73.982928, -74.004887, -73.95292, -73.987352, -73.985463, -73.963856, -73.990909, -73.983412, -74.010933, -73.991251, -73.97669, -73.975471, -73.945758, -73.984072, -73.98312, -73.986458, -73.974978, -73.990345, -73.931517, -73.987358, -74.005731, -74.003989, -73.993571, -74.006025, -73.952168, -73.985528, -73.994355, -73.974508, -73.999116, -73.989168, -73.97203, -73.981545, -73.988168, -73.995792, -73.954067, -73.970644, -74.003265, -73.981823, -73.964031, -73.972633, -74.016707, -73.992518, -73.98602, -73.979292, -73.990852, -74.005235, -73.98855, -73.9902, -73.987572, -73.977311, -73.991449, -73.989795, -73.988142, -73.974567, -73.960092, -73.98732, -73.964123, -73.996568, -73.993421, -73.945854, -73.979996, -73.968388, -73.999804, -73.973243, -73.975072, -73.9707, -73.97603, -73.977753, -73.985002, -73.970327, -73.948753, -74.007307, -73.982629, -73.990908, -73.96251, -73.9705, -73.980452, -73.98177, -73.812727, -73.954218, -74.00146, -73.970906, -73.948485, -73.788674, -73.994138, -73.99308, -73.98319, -73.966852, -74.008822, -73.999273, -73.975283, -74.004579, -73.947605, -73.986537], \"marker\": {\"opacity\": 0.5, \"size\": 10}, \"mode\": \"markers\", \"name\": \"Pickups\", \"type\": \"scattermapbox\"}, {\"lat\": [40.778488, 40.762255, 40.750591, 40.717707, 40.730003, 40.729983, 40.781245, 40.668092, 40.795349, 40.798242, 40.671957, 40.754708, 40.746514, 40.758185, 40.771838, 40.748943, 40.758781, 40.773452, 40.778608, 40.765462, 40.772583, 40.776673, 40.761582, 40.751942, 40.783306, 40.738542, 40.755833, 40.759386, 40.76975, 40.754812, 40.765015, 40.713902, 40.702993, 40.814518, 40.743939, 40.741053, 40.742342, 40.747743, 40.762273, 40.749558, 40.780417, 40.812241, 40.743773, 40.743455, 40.833967, 40.797048, 40.784858, 40.788573, 40.778993, 40.764198, 40.750012, 40.773335, 40.774518, 40.902637, 40.787015, 40.736567, 40.759476, 40.775345, 40.718737, 40.775726, 40.744777, 40.775941, 40.805613, 40.760245, 40.78001, 40.762905, 40.765411, 40.792414, 40.724348, 40.77725, 40.801861, 40.72875, 40.534683, 40.766315, 40.74644, 40.724925, 40.734701, 40.785744, 40.723149, 40.77499, 40.773702, 40.750921, 40.790833, 40.757567, 40.738802, 40.750437, 40.722487, 40.765203, 40.774095, 40.718773, 40.779889, 40.798705, 40.764815, 40.764808, 40.76234, 40.756132, 40.747257, 40.787676, 40.7593, 40.753933, 40.757408, 40.721573, 40.75626, 40.770802, 40.782503, 40.743362, 40.771458, 40.710861, 40.791256, 40.766202, 40.688145, 40.772725, 40.746867, 40.726723, 40.732725, 40.758928, 40.707928, 40.725509, 40.777139, 40.751512, 40.68768, 40.751107, 40.779422, 40.771524, 40.780967, 40.764285, 40.77981, 40.7603, 40.756657, 40.715432, 40.764706, 40.779742, 40.731912, 40.792561, 40.74264, 40.76694, 40.736722, 40.752527, 40.731643, 40.75332, 40.744233, 40.703133, 40.688077, 40.78566, 40.741188, 40.744779, 40.764309, 40.793915, 40.779349, 40.70579, 40.773173, 40.739741, 40.792659, 40.749767, 40.782819, 40.776505, 40.750755, 40.743715, 40.689603, 40.766195, 40.756836, 40.747003, 40.741186, 40.771522, 40.763888, 40.753463, 40.758648, 40.702278, 40.703539, 40.763073, 40.764132, 40.755137, 40.851262, 40.755876, 40.718413, 40.762755, 40.787072, 40.766664, 40.730588, 40.73628, 40.726346, 40.768436, 40.704888, 40.701481, 40.766109, 40.751678, 40.763772, 40.720218, 40.744763, 40.733125, 40.721313, 40.687128, 40.761518, 40.755463, 40.761338, 40.755042, 40.723397, 40.807075, 40.796398, 40.756475, 40.76479, 40.770141, 40.711688, 40.775487, 40.792668, 40.720765, 40.810193, 40.730412, 40.733782, 40.726374, 40.721128, 40.706123, 40.730385, 40.703538, 40.775635, 40.744648, 40.729731, 40.781428, 40.756013, 40.783056, 40.774929, 40.674967, 40.786665, 40.771795, 40.760615, 40.701762, 40.778695, 40.734965, 40.776712, 40.771865, 40.767821, 40.765805, 40.750267, 40.733773, 40.703865, 40.776698, 40.788075, 40.748545, 40.73187, 40.75889, 40.755096, 40.788895, 40.780401, 40.756424, 40.760393, 40.7473, 40.77384, 40.785382, 40.7529, 40.761273, 40.738085, 40.727903, 40.74903, 40.715059, 40.761, 40.730207, 40.752384, 40.692384, 40.709249, 40.735488, 40.680336, 40.72861, 40.737482, 40.741893, 40.672245, 40.762997, 40.774825, 40.804273, 40.75933, 40.804654, 40.780795, 40.768745, 40.763318, 40.724923, 40.796748, 40.748857, 40.765327, 40.734399, 40.787407, 40.734378, 40.73427, 40.762763, 40.78631, 40.70999, 40.737433, 40.735048, 40.72188, 40.790357, 40.742382, 40.759053, 40.73462, 40.723728, 40.725673, 40.744523, 40.752747, 40.739606, 40.727428, 40.754765, 40.750158, 40.768965, 40.784372, 40.734109, 40.735048, 40.77088, 40.719923, 40.742522, 40.776839, 40.796838, 40.753917, 40.75699, 40.776407, 40.749829, 40.787743, 40.742232, 40.723164, 40.747771, 40.805379, 40.793928, 40.796942, 40.754537, 40.754878, 40.744547, 40.757478, 40.757577, 40.694045, 40.763255, 40.752083, 40.764367, 40.73948, 40.735745, 40.725777, 40.752037, 40.764164, 40.762398, 40.756805, 40.678988, 40.664863, 40.71704, 40.77559, 40.685339, 40.752501, 40.761473, 40.739319, 40.775037, 40.71748, 40.759756, 40.795323, 40.724505, 40.730523, 40.758615, 40.811703, 40.784853, 40.747462, 40.755437, 40.722639, 40.75949, 40.758267, 40.79315, 40.728783, 40.710195, 40.759875, 40.786633, 40.764532, 40.763176, 40.770858, 40.729337, 40.76171, 40.745123, 40.749484, 40.755558, 40.748832, 40.734368, 40.768843, 40.750423, 40.766814, 40.778087, 40.72517, 40.758957, 40.714647, 40.767365, 40.742053, 40.704979, 40.74211, 40.760483, 40.756365, 40.772372, 40.840737, 40.761022, 40.714051, 40.706321, 40.776046, 40.790474, 40.736435, 40.776537, 40.717503, 40.726995, 40.759577, 40.721575, 40.730087, 40.72706, 40.739352, 40.77709, 40.770315, 40.707918, 40.758433, 40.740641, 40.723525, 40.73768, 40.764855, 40.749903, 40.774439, 40.831979, 40.745543, 40.717655, 40.750428, 40.751687, 40.766803, 40.800144, 40.765925, 40.753403, 40.733357, 40.748057, 40.729768, 40.753132, 40.722073, 40.748795, 40.728368, 40.726368, 40.728781, 40.724462, 40.751283, 40.684585, 40.752811, 40.713264, 40.721463, 40.759212, 40.750252, 40.697888, 40.734153, 40.733448, 40.76427, 40.747357, 40.746533, 40.74584, 40.773445, 40.750205, 40.765417, 40.741145, 40.76256, 40.745853, 40.752966, 40.726067, 40.716348, 40.765927, 40.720663, 40.757002, 40.756065, 40.714194, 40.753775, 40.736533, 40.768467, 40.801807, 40.702653, 40.775457, 40.747527, 40.771701, 40.766889, 40.750865, 40.776912, 40.757504, 40.776836, 40.749492, 40.749978, 40.786228, 40.694552, 40.774336, 40.701876, 40.736712, 40.726288, 40.709085, 40.749447, 40.823494, 40.72472, 40.781798, 40.764837, 40.76823, 40.74265, 40.736988, 40.774464, 40.74548, 40.737975, 40.769348, 40.73961, 40.776156, 40.72324, 40.583942, 40.733462, 40.734484, 40.735731, 40.777393], \"lon\": [-73.957282, -73.965632, -73.990742, -74.008967, -73.989615, -74.000535, -73.981682, -73.958898, -73.943637, -73.970955, -73.976145, -74.007057, -73.979454, -74.000607, -73.981495, -73.991503, -73.981179, -73.981426, -73.78057, -73.92247, -73.961285, -73.952568, -73.971017, -73.970965, -73.958352, -73.982719, -73.962772, -73.968772, -73.951502, -73.978048, -73.970472, -74.013873, -74.013297, -73.802556, -74.006625, -74.005643, -73.984715, -73.989058, -73.985098, -73.984323, -73.972688, -73.962007, -73.999028, -73.979502, -73.981521, -73.973633, -73.953464, -73.981055, -73.974032, -73.976695, -73.981475, -73.952103, -73.945193, -73.864315, -73.975207, -73.888457, -73.96523, -73.960365, -73.984051, -73.956509, -73.89598, -73.977084, -73.961915, -73.984823, -73.980665, -73.973885, -73.980118, -73.966181, -73.993617, -73.978317, -73.970477, -73.987988, -73.667603, -73.992792, -73.990982, -73.981421, -73.994828, -73.956809, -73.857963, -73.959063, -73.963555, -73.968413, -73.936109, -74.000392, -73.988965, -73.973018, -73.993202, -73.96619, -73.87367, -73.988573, -73.943668, -73.942048, -73.984745, -73.98695, -73.978033, -73.973848, -73.982368, -73.953828, -73.985598, -73.986036, -73.931478, -73.99791, -73.987892, -73.98068, -73.978705, -73.976913, -73.981688, -73.959888, -73.974009, -73.956223, -73.975775, -73.955807, -73.97976, -73.989065, -73.991197, -73.992322, -74.008507, -73.997381, -73.985386, -73.990095, -74.18174, -73.987038, -73.955546, -73.982075, -73.979974, -73.982527, -73.944543, -73.991305, -73.979447, -74.004463, -73.970142, -73.957422, -74.007817, -73.973273, -73.980468, -73.916923, -73.988788, -73.972257, -73.9855, -73.979918, -73.975129, -74.010823, -73.98781, -73.969862, -73.978428, -73.997241, -73.963322, -73.970341, -73.962121, -74.016413, -73.946188, -73.99867, -73.972916, -73.972265, -73.947848, -73.948566, -74.006483, -73.973572, -73.994653, -73.915152, -73.989806, -74.032823, -73.985717, -73.950335, -73.970187, -73.998872, -73.919278, -74.012798, -74.013108, -73.968861, -73.965095, -73.98641, -73.852181, -73.972889, -74.008734, -73.965972, -73.97914, -73.994182, -73.976012, -74.00607, -73.991588, -73.956929, -73.933617, -74.01197, -73.98323, -73.982427, -73.956212, -73.988152, -73.980485, -73.975542, -74.008251, -73.965633, -73.963346, -73.987722, -73.923918, -73.919955, -74.00304, -73.941936, -73.94747, -73.979193, -73.974262, -73.955514, -73.962578, -73.982276, -73.964728, -74.010127, -73.924557, -73.992882, -73.980587, -74.002172, -73.977808, -74.010415, -73.989833, -73.909355, -73.95047, -74.004665, -73.989652, -73.957993, -73.979362, -73.952928, -73.951086, -73.969197, -73.977772, -73.983298, -73.97231, -74.011478, -73.948015, -74.000217, -73.955123, -73.988415, -73.965992, -73.954483, -73.994767, -73.998724, -74.011698, -73.988903, -73.938548, -73.989988, -74.005185, -73.957368, -73.984358, -73.97566, -73.972851, -73.975451, -73.98578, -73.956953, -73.989, -73.951637, -73.970238, -73.974425, -73.992688, -73.985615, -73.987258, -73.990134, -73.967438, -74.004814, -73.993577, -73.98722, -74.010654, -73.994118, -73.974777, -74.045017, -73.997003, -74.000947, -73.749308, -73.917948, -73.94897, -73.962822, -73.97791, -73.955299, -73.97638, -73.962173, -73.92188, -73.994943, -73.970307, -73.975603, -73.974887, -73.989608, -73.949919, -73.990866, -73.990922, -73.989112, -73.979603, -74.010313, -74.000462, -74.002402, -73.98915, -73.976693, -74.000528, -73.992032, -74.00713, -74.001033, -73.97751, -73.980432, -73.972328, -73.997619, -73.983145, -73.976637, -73.988512, -73.952687, -73.950925, -73.998879, -74.000183, -73.96732, -73.988057, -73.986893, -73.961938, -73.960851, -73.99095, -73.990533, -73.962317, -73.971888, -73.967478, -73.97774, -73.985699, -73.984775, -73.961527, -73.970192, -73.947555, -73.988037, -73.975822, -73.996615, -73.9903, -74.004292, -73.991708, -73.975853, -73.975641, -73.966695, -74.002055, -74.006638, -73.997525, -73.982517, -73.973125, -73.978733, -73.988262, -73.978783, -73.987778, -74.037727, -73.944365, -73.975171, -73.993353, -73.966419, -73.981908, -73.959012, -74.009063, -73.985148, -73.935855, -73.99828, -74.009185, -73.985783, -73.960943, -73.948545, -73.996935, -73.968131, -73.987611, -73.989265, -73.93061, -73.950647, -73.976365, -74.01475, -73.981083, -73.986688, -73.991848, -73.974011, -74.000189, -73.999945, -73.967642, -73.97569, -73.979662, -73.968408, -73.973387, -73.983434, -73.98811, -73.978962, -73.990182, -73.980741, -73.984279, -73.970402, -74.01586, -73.955152, -73.981027, -74.016048, -73.98952, -73.987468, -73.993373, -73.96343, -73.943097, -73.96788, -73.990994, -74.009551, -73.981998, -73.953842, -73.980708, -73.954605, -73.988703, -73.983776, -73.978256, -74.004508, -73.99397, -73.985578, -74.006993, -73.951942, -73.960815, -74.006643, -73.976944, -74.004956, -73.988219, -74.004885, -73.96334, -73.991438, -73.871839, -73.935864, -73.998817, -73.998284, -73.98792, -73.973393, -73.986607, -73.967957, -73.978338, -73.989408, -74.00502, -73.987715, -73.997077, -73.987897, -73.983543, -73.977953, -73.992811, -74.005308, -73.987554, -73.998132, -73.990718, -73.965088, -73.992822, -73.949904, -73.984026, -73.976517, -73.992067, -73.99446, -73.990693, -74.003738, -73.965108, -73.985219, -73.9901, -73.993028, -73.98165, -73.991193, -73.91592, -73.98763, -73.972376, -73.98648, -73.983701, -73.997845, -73.998102, -73.994532, -73.989808, -73.986023, -73.983621, -73.997525, -73.98055, -73.99323, -73.955438, -73.967113, -73.990668, -73.977338, -73.981964, -73.982723, -73.953647, -73.990412, -73.988886, -73.974152, -73.982373, -73.977118, -73.991328, -73.97977, -73.994457, -73.961645, -74.010843, -73.984596, -73.98957, -73.992307, -74.004358, -73.95335, -73.995722, -73.977357, -73.816085, -73.861575, -73.989468, -73.978839, -73.872981, -73.771295, -73.987665, -73.987132, -73.976463, -73.955884, -73.994005, -73.939703, -74.006455, -74.000017, -74.001745, -73.974954], \"marker\": {\"opacity\": 0.5, \"size\": 10}, \"mode\": \"markers\", \"name\": \"Dropoffs\", \"type\": \"scattermapbox\"}],\n",
       "                        {\"mapbox\": {\"center\": {\"lat\": 40.73, \"lon\": -74}, \"style\": \"open-street-map\", \"zoom\": 10}, \"margin\": {\"b\": 0, \"l\": 0, \"r\": 0, \"t\": 0}, \"template\": {\"data\": {\"bar\": [{\"error_x\": {\"color\": \"#2a3f5f\"}, \"error_y\": {\"color\": \"#2a3f5f\"}, \"marker\": {\"line\": {\"color\": \"#E5ECF6\", \"width\": 0.5}}, \"type\": \"bar\"}], \"barpolar\": [{\"marker\": {\"line\": {\"color\": \"#E5ECF6\", \"width\": 0.5}}, \"type\": \"barpolar\"}], \"carpet\": [{\"aaxis\": {\"endlinecolor\": \"#2a3f5f\", \"gridcolor\": \"white\", \"linecolor\": \"white\", \"minorgridcolor\": \"white\", \"startlinecolor\": \"#2a3f5f\"}, \"baxis\": {\"endlinecolor\": \"#2a3f5f\", \"gridcolor\": \"white\", \"linecolor\": \"white\", \"minorgridcolor\": \"white\", \"startlinecolor\": \"#2a3f5f\"}, \"type\": \"carpet\"}], \"choropleth\": [{\"colorbar\": {\"outlinewidth\": 0, \"ticks\": \"\"}, \"type\": \"choropleth\"}], \"contour\": [{\"colorbar\": {\"outlinewidth\": 0, \"ticks\": \"\"}, \"colorscale\": [[0.0, \"#0d0887\"], [0.1111111111111111, \"#46039f\"], [0.2222222222222222, \"#7201a8\"], [0.3333333333333333, \"#9c179e\"], [0.4444444444444444, \"#bd3786\"], [0.5555555555555556, \"#d8576b\"], [0.6666666666666666, \"#ed7953\"], [0.7777777777777778, \"#fb9f3a\"], [0.8888888888888888, \"#fdca26\"], [1.0, \"#f0f921\"]], \"type\": \"contour\"}], \"contourcarpet\": [{\"colorbar\": {\"outlinewidth\": 0, \"ticks\": \"\"}, \"type\": \"contourcarpet\"}], \"heatmap\": [{\"colorbar\": {\"outlinewidth\": 0, \"ticks\": \"\"}, \"colorscale\": [[0.0, \"#0d0887\"], [0.1111111111111111, \"#46039f\"], [0.2222222222222222, \"#7201a8\"], [0.3333333333333333, \"#9c179e\"], [0.4444444444444444, \"#bd3786\"], [0.5555555555555556, \"#d8576b\"], [0.6666666666666666, \"#ed7953\"], [0.7777777777777778, \"#fb9f3a\"], [0.8888888888888888, \"#fdca26\"], [1.0, \"#f0f921\"]], \"type\": \"heatmap\"}], \"heatmapgl\": [{\"colorbar\": {\"outlinewidth\": 0, \"ticks\": \"\"}, \"colorscale\": [[0.0, \"#0d0887\"], [0.1111111111111111, \"#46039f\"], [0.2222222222222222, \"#7201a8\"], [0.3333333333333333, \"#9c179e\"], [0.4444444444444444, \"#bd3786\"], [0.5555555555555556, \"#d8576b\"], [0.6666666666666666, \"#ed7953\"], [0.7777777777777778, \"#fb9f3a\"], [0.8888888888888888, \"#fdca26\"], [1.0, \"#f0f921\"]], \"type\": \"heatmapgl\"}], \"histogram\": [{\"marker\": {\"colorbar\": {\"outlinewidth\": 0, \"ticks\": \"\"}}, \"type\": \"histogram\"}], \"histogram2d\": [{\"colorbar\": {\"outlinewidth\": 0, \"ticks\": \"\"}, \"colorscale\": [[0.0, \"#0d0887\"], [0.1111111111111111, \"#46039f\"], [0.2222222222222222, \"#7201a8\"], [0.3333333333333333, \"#9c179e\"], [0.4444444444444444, \"#bd3786\"], [0.5555555555555556, \"#d8576b\"], [0.6666666666666666, \"#ed7953\"], [0.7777777777777778, \"#fb9f3a\"], [0.8888888888888888, \"#fdca26\"], [1.0, \"#f0f921\"]], \"type\": \"histogram2d\"}], \"histogram2dcontour\": [{\"colorbar\": {\"outlinewidth\": 0, \"ticks\": \"\"}, \"colorscale\": [[0.0, \"#0d0887\"], [0.1111111111111111, \"#46039f\"], [0.2222222222222222, \"#7201a8\"], [0.3333333333333333, \"#9c179e\"], [0.4444444444444444, \"#bd3786\"], [0.5555555555555556, \"#d8576b\"], [0.6666666666666666, \"#ed7953\"], [0.7777777777777778, \"#fb9f3a\"], [0.8888888888888888, \"#fdca26\"], [1.0, \"#f0f921\"]], \"type\": \"histogram2dcontour\"}], \"mesh3d\": [{\"colorbar\": {\"outlinewidth\": 0, \"ticks\": \"\"}, \"type\": \"mesh3d\"}], \"parcoords\": [{\"line\": {\"colorbar\": {\"outlinewidth\": 0, \"ticks\": \"\"}}, \"type\": \"parcoords\"}], \"pie\": [{\"automargin\": true, \"type\": \"pie\"}], \"scatter\": [{\"marker\": {\"colorbar\": {\"outlinewidth\": 0, \"ticks\": \"\"}}, \"type\": \"scatter\"}], \"scatter3d\": [{\"line\": {\"colorbar\": {\"outlinewidth\": 0, \"ticks\": \"\"}}, \"marker\": {\"colorbar\": {\"outlinewidth\": 0, \"ticks\": \"\"}}, \"type\": \"scatter3d\"}], \"scattercarpet\": [{\"marker\": {\"colorbar\": {\"outlinewidth\": 0, \"ticks\": \"\"}}, \"type\": \"scattercarpet\"}], \"scattergeo\": [{\"marker\": {\"colorbar\": {\"outlinewidth\": 0, \"ticks\": \"\"}}, \"type\": \"scattergeo\"}], \"scattergl\": [{\"marker\": {\"colorbar\": {\"outlinewidth\": 0, \"ticks\": \"\"}}, \"type\": \"scattergl\"}], \"scattermapbox\": [{\"marker\": {\"colorbar\": {\"outlinewidth\": 0, \"ticks\": \"\"}}, \"type\": \"scattermapbox\"}], \"scatterpolar\": [{\"marker\": {\"colorbar\": {\"outlinewidth\": 0, \"ticks\": \"\"}}, \"type\": \"scatterpolar\"}], \"scatterpolargl\": [{\"marker\": {\"colorbar\": {\"outlinewidth\": 0, \"ticks\": \"\"}}, \"type\": \"scatterpolargl\"}], \"scatterternary\": [{\"marker\": {\"colorbar\": {\"outlinewidth\": 0, \"ticks\": \"\"}}, \"type\": \"scatterternary\"}], \"surface\": [{\"colorbar\": {\"outlinewidth\": 0, \"ticks\": \"\"}, \"colorscale\": [[0.0, \"#0d0887\"], [0.1111111111111111, \"#46039f\"], [0.2222222222222222, \"#7201a8\"], [0.3333333333333333, \"#9c179e\"], [0.4444444444444444, \"#bd3786\"], [0.5555555555555556, \"#d8576b\"], [0.6666666666666666, \"#ed7953\"], [0.7777777777777778, \"#fb9f3a\"], [0.8888888888888888, \"#fdca26\"], [1.0, \"#f0f921\"]], \"type\": \"surface\"}], \"table\": [{\"cells\": {\"fill\": {\"color\": \"#EBF0F8\"}, \"line\": {\"color\": \"white\"}}, \"header\": {\"fill\": {\"color\": \"#C8D4E3\"}, \"line\": {\"color\": \"white\"}}, \"type\": \"table\"}]}, \"layout\": {\"annotationdefaults\": {\"arrowcolor\": \"#2a3f5f\", \"arrowhead\": 0, \"arrowwidth\": 1}, \"coloraxis\": {\"colorbar\": {\"outlinewidth\": 0, \"ticks\": \"\"}}, \"colorscale\": {\"diverging\": [[0, \"#8e0152\"], [0.1, \"#c51b7d\"], [0.2, \"#de77ae\"], [0.3, \"#f1b6da\"], [0.4, \"#fde0ef\"], [0.5, \"#f7f7f7\"], [0.6, \"#e6f5d0\"], [0.7, \"#b8e186\"], [0.8, \"#7fbc41\"], [0.9, \"#4d9221\"], [1, \"#276419\"]], \"sequential\": [[0.0, \"#0d0887\"], [0.1111111111111111, \"#46039f\"], [0.2222222222222222, \"#7201a8\"], [0.3333333333333333, \"#9c179e\"], [0.4444444444444444, \"#bd3786\"], [0.5555555555555556, \"#d8576b\"], [0.6666666666666666, \"#ed7953\"], [0.7777777777777778, \"#fb9f3a\"], [0.8888888888888888, \"#fdca26\"], [1.0, \"#f0f921\"]], \"sequentialminus\": [[0.0, \"#0d0887\"], [0.1111111111111111, \"#46039f\"], [0.2222222222222222, \"#7201a8\"], [0.3333333333333333, \"#9c179e\"], [0.4444444444444444, \"#bd3786\"], [0.5555555555555556, \"#d8576b\"], [0.6666666666666666, \"#ed7953\"], [0.7777777777777778, \"#fb9f3a\"], [0.8888888888888888, \"#fdca26\"], [1.0, \"#f0f921\"]]}, \"colorway\": [\"#636efa\", \"#EF553B\", \"#00cc96\", \"#ab63fa\", \"#FFA15A\", \"#19d3f3\", \"#FF6692\", \"#B6E880\", \"#FF97FF\", \"#FECB52\"], \"font\": {\"color\": \"#2a3f5f\"}, \"geo\": {\"bgcolor\": \"white\", \"lakecolor\": \"white\", \"landcolor\": \"#E5ECF6\", \"showlakes\": true, \"showland\": true, \"subunitcolor\": \"white\"}, \"hoverlabel\": {\"align\": \"left\"}, \"hovermode\": \"closest\", \"mapbox\": {\"style\": \"light\"}, \"paper_bgcolor\": \"white\", \"plot_bgcolor\": \"#E5ECF6\", \"polar\": {\"angularaxis\": {\"gridcolor\": \"white\", \"linecolor\": \"white\", \"ticks\": \"\"}, \"bgcolor\": \"#E5ECF6\", \"radialaxis\": {\"gridcolor\": \"white\", \"linecolor\": \"white\", \"ticks\": \"\"}}, \"scene\": {\"xaxis\": {\"backgroundcolor\": \"#E5ECF6\", \"gridcolor\": \"white\", \"gridwidth\": 2, \"linecolor\": \"white\", \"showbackground\": true, \"ticks\": \"\", \"zerolinecolor\": \"white\"}, \"yaxis\": {\"backgroundcolor\": \"#E5ECF6\", \"gridcolor\": \"white\", \"gridwidth\": 2, \"linecolor\": \"white\", \"showbackground\": true, \"ticks\": \"\", \"zerolinecolor\": \"white\"}, \"zaxis\": {\"backgroundcolor\": \"#E5ECF6\", \"gridcolor\": \"white\", \"gridwidth\": 2, \"linecolor\": \"white\", \"showbackground\": true, \"ticks\": \"\", \"zerolinecolor\": \"white\"}}, \"shapedefaults\": {\"line\": {\"color\": \"#2a3f5f\"}}, \"ternary\": {\"aaxis\": {\"gridcolor\": \"white\", \"linecolor\": \"white\", \"ticks\": \"\"}, \"baxis\": {\"gridcolor\": \"white\", \"linecolor\": \"white\", \"ticks\": \"\"}, \"bgcolor\": \"#E5ECF6\", \"caxis\": {\"gridcolor\": \"white\", \"linecolor\": \"white\", \"ticks\": \"\"}}, \"title\": {\"x\": 0.05}, \"xaxis\": {\"automargin\": true, \"gridcolor\": \"white\", \"linecolor\": \"white\", \"ticks\": \"\", \"title\": {\"standoff\": 15}, \"zerolinecolor\": \"white\", \"zerolinewidth\": 2}, \"yaxis\": {\"automargin\": true, \"gridcolor\": \"white\", \"linecolor\": \"white\", \"ticks\": \"\", \"title\": {\"standoff\": 15}, \"zerolinecolor\": \"white\", \"zerolinewidth\": 2}}}},\n",
       "                        {\"responsive\": true}\n",
       "                    ).then(function(){\n",
       "                            \n",
       "var gd = document.getElementById('3a38b5a9-6cf6-40dd-a53b-9bee74ad2783');\n",
       "var x = new MutationObserver(function (mutations, observer) {{\n",
       "        var display = window.getComputedStyle(gd).display;\n",
       "        if (!display || display === 'none') {{\n",
       "            console.log([gd, 'removed!']);\n",
       "            Plotly.purge(gd);\n",
       "            observer.disconnect();\n",
       "        }}\n",
       "}});\n",
       "\n",
       "// Listen for the removal of the full notebook cells\n",
       "var notebookContainer = gd.closest('#notebook-container');\n",
       "if (notebookContainer) {{\n",
       "    x.observe(notebookContainer, {childList: true});\n",
       "}}\n",
       "\n",
       "// Listen for the clearing of the current output cell\n",
       "var outputEl = gd.closest('.output');\n",
       "if (outputEl) {{\n",
       "    x.observe(outputEl, {childList: true});\n",
       "}}\n",
       "\n",
       "                        })\n",
       "                };\n",
       "                });\n",
       "            </script>\n",
       "        </div>"
      ]
     },
     "metadata": {},
     "output_type": "display_data"
    }
   ],
   "source": [
    "short_trip_coordinates_pd = trip_coordinates_pd[0:500]\n",
    "\n",
    "fig = go.Figure()\n",
    "\n",
    "fig.add_trace(go.Scattermapbox(\n",
    "    mode = \"markers\",\n",
    "        lon = short_trip_coordinates_pd['pickup_longitude'],\n",
    "    lat = short_trip_coordinates_pd['pickup_latitude'],\n",
    "    marker = {'size': 10, 'opacity': 0.5},\n",
    "    name=\"Pickups\"))\n",
    "\n",
    "fig.add_trace(go.Scattermapbox(\n",
    "    mode = \"markers\",\n",
    "        lon = short_trip_coordinates_pd['dropoff_longitude'],\n",
    "    lat = short_trip_coordinates_pd['dropoff_latitude'],\n",
    "    marker = {'size': 10, 'opacity': 0.5},\n",
    "    name=\"Dropoffs\"))\n",
    "\n",
    "fig.update_layout(\n",
    "    margin ={'l':0,'t':0,'b':0,'r':0},\n",
    "    mapbox = {\n",
    "        'center': {'lon': -74, 'lat': 40.73},\n",
    "        'style': \"open-street-map\",\n",
    "        'center': {'lon': -74, 'lat': 40.73},\n",
    "        'zoom': 10})\n",
    "\n",
    "fig.show()"
   ]
  }
 ],
 "metadata": {
  "kernelspec": {
   "display_name": "Python 3",
   "language": "python",
   "name": "python3"
  },
  "language_info": {
   "codemirror_mode": {
    "name": "ipython",
    "version": 3
   },
   "file_extension": ".py",
   "mimetype": "text/x-python",
   "name": "python",
   "nbconvert_exporter": "python",
   "pygments_lexer": "ipython3",
   "version": "3.7.6"
  }
 },
 "nbformat": 4,
 "nbformat_minor": 4
}
